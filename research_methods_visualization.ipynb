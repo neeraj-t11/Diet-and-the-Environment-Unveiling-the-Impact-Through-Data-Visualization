{
 "cells": [
  {
   "cell_type": "code",
   "execution_count": 39,
   "metadata": {
    "id": "uRdDngDx1Peq"
   },
   "outputs": [],
   "source": [
    "import pandas as pd\n",
    "import matplotlib.pyplot as plt\n",
    "import seaborn as sns\n",
    "import numpy as np\n",
    "import plotly.express as px\n",
    "import plotly.graph_objects as go\n",
    "import plotly.io as pio"
   ]
  },
  {
   "cell_type": "code",
   "execution_count": 40,
   "metadata": {
    "id": "hJz4K2Kx0WBI"
   },
   "outputs": [],
   "source": [
    "# Load the CSV file into a DataFrame\n",
    "data_types = {\n",
    "    'sex': 'category',\n",
    "    'diet_group': 'category',\n",
    "    'age_group': 'category'\n",
    "}\n",
    "df = pd.read_csv('Results_21Mar2022.csv', dtype=data_types)"
   ]
  },
  {
   "cell_type": "code",
   "execution_count": 41,
   "metadata": {
    "colab": {
     "base_uri": "https://localhost:8080/"
    },
    "id": "BtrocQkDp1rh",
    "outputId": "fba512e8-6f49-4c51-f852-ff6b9e1c305b"
   },
   "outputs": [
    {
     "name": "stdout",
     "output_type": "stream",
     "text": [
      "['Pescatarian Diet', 'Low Meat Consumption (<50 g/day)', 'High Meat Consumption (100+ g/day)', 'Moderate Meat Consumption (50-99 g/day)', 'Vegan Diet', 'Vegetarian Diet']\n",
      "Categories (6, object): ['Pescatarian Diet', 'Moderate Meat Consumption (50-99 g/day)', 'High Meat Consumption (100+ g/day)', 'Low Meat Consumption (<50 g/day)', 'Vegan Diet', 'Vegetarian Diet']\n"
     ]
    }
   ],
   "source": [
    "# Rename the values in the 'diet_group' column\n",
    "diet_group_mapping = {\n",
    "    'meat100': 'High Meat Consumption (100+ g/day)',\n",
    "    'meat': 'Moderate Meat Consumption (50-99 g/day)',\n",
    "    'meat50': 'Low Meat Consumption (<50 g/day)',\n",
    "    'fish': 'Pescatarian Diet',\n",
    "    'veggie': 'Vegetarian Diet',\n",
    "    'vegan': 'Vegan Diet'\n",
    "}\n",
    "df['diet_group'] = df['diet_group'].map(diet_group_mapping)\n",
    "\n",
    "# Verify the changes (optional)\n",
    "print(df['diet_group'].unique())\n",
    "\n",
    "# 'High Meat Consumption (100+ g/day)', 'Moderate Meat Consumption (50-99 g/day)','Low Meat Consumption (<50 g/day)', 'Fish-Based Diet', 'Vegetarian Diet', 'Vegan Diet'\n"
   ]
  },
  {
   "cell_type": "code",
   "execution_count": 42,
   "metadata": {
    "colab": {
     "base_uri": "https://localhost:8080/"
    },
    "id": "U_2hsTro1qTJ",
    "outputId": "639a7f67-c7be-475a-a8df-55ce4da0a43a"
   },
   "outputs": [
    {
     "name": "stdout",
     "output_type": "stream",
     "text": [
      "Column Name: mc_run_id\n",
      "Data Type: int64\n",
      "Column Name: grouping\n",
      "Data Type: object\n",
      "Column Name: mean_ghgs\n",
      "Data Type: float64\n",
      "Column Name: mean_land\n",
      "Data Type: float64\n",
      "Column Name: mean_watscar\n",
      "Data Type: float64\n",
      "Column Name: mean_eut\n",
      "Data Type: float64\n",
      "Column Name: mean_ghgs_ch4\n",
      "Data Type: float64\n",
      "Column Name: mean_ghgs_n2o\n",
      "Data Type: float64\n",
      "Column Name: mean_bio\n",
      "Data Type: float64\n",
      "Column Name: mean_watuse\n",
      "Data Type: float64\n",
      "Column Name: mean_acid\n",
      "Data Type: float64\n",
      "Column Name: sd_ghgs\n",
      "Data Type: float64\n",
      "Column Name: sd_land\n",
      "Data Type: float64\n",
      "Column Name: sd_watscar\n",
      "Data Type: float64\n",
      "Column Name: sd_eut\n",
      "Data Type: float64\n",
      "Column Name: sd_ghgs_ch4\n",
      "Data Type: float64\n",
      "Column Name: sd_ghgs_n2o\n",
      "Data Type: float64\n",
      "Column Name: sd_bio\n",
      "Data Type: float64\n",
      "Column Name: sd_watuse\n",
      "Data Type: float64\n",
      "Column Name: sd_acid\n",
      "Data Type: float64\n",
      "Column Name: n_participants\n",
      "Data Type: int64\n",
      "Column Name: sex\n",
      "Data Type: category\n",
      "Column Name: diet_group\n",
      "Data Type: category\n",
      "Column Name: age_group\n",
      "Data Type: category\n"
     ]
    }
   ],
   "source": [
    "# Display column names and data types\n",
    "for column in df.columns:\n",
    "    print(f\"Column Name: {column}\")\n",
    "    print(f\"Data Type: {df[column].dtype}\")"
   ]
  },
  {
   "cell_type": "markdown",
   "metadata": {
    "id": "xGQKs90832tI"
   },
   "source": [
    "## Which diet is most beneficial for the environment?"
   ]
  },
  {
   "cell_type": "code",
   "execution_count": 43,
   "metadata": {
    "id": "5Z7q0VY24ftz"
   },
   "outputs": [],
   "source": [
    "# !pip install squarify"
   ]
  },
  {
   "cell_type": "code",
   "execution_count": 44,
   "metadata": {
    "id": "Dk1EEHXu1Twt"
   },
   "outputs": [],
   "source": [
    "# x = df['diet_group']\n",
    "\n",
    "# fig, ax = plt.subplots(figsize=(10, 6))\n",
    "\n",
    "# # Creating the stacked bar chart\n",
    "# bottoms = df['mean_ghgs']\n",
    "# ax.bar(x, df['mean_ghgs'], label='GHG Emissions')\n",
    "# ax.bar(x, df['mean_land'], bottom=bottoms, label='Land Use')\n",
    "# bottoms += df['mean_land']\n",
    "# ax.bar(x, df['mean_watscar'], bottom=bottoms, label='Water Scarcity Footprint')\n",
    "# bottoms += df['mean_watscar']\n",
    "# ax.bar(x, df['mean_eut'], bottom=bottoms, label='Eutrophication Potential')\n",
    "\n",
    "# # Customization\n",
    "# ax.set_ylabel('Mean Environmental Impact Scores')\n",
    "# ax.set_title('Comparative Environmental Impact of Different Diets')\n",
    "# ax.legend()\n",
    "# plt.xticks(rotation=45)\n",
    "# plt.tight_layout()\n",
    "# plt.show()"
   ]
  },
  {
   "cell_type": "code",
   "execution_count": 45,
   "metadata": {
    "id": "8UFMbWYT1qTL"
   },
   "outputs": [],
   "source": [
    "numeric_cols = ['mean_ghgs', 'mean_land', 'mean_watscar', 'mean_eut','mean_ghgs_n2o','mean_ghgs_ch4','mean_bio','mean_acid', 'mean_watuse']\n",
    "df['total_impact'] = df[['mean_ghgs', 'mean_land', 'mean_watscar', 'mean_eut','mean_ghgs_n2o','mean_ghgs_ch4','mean_bio','mean_acid', 'mean_watuse']].sum(axis=1)"
   ]
  },
  {
   "cell_type": "code",
   "execution_count": 46,
   "metadata": {
    "id": "p3q5MvLVqr0y"
   },
   "outputs": [],
   "source": [
    "# from sklearn.preprocessing import MinMaxScaler\n",
    "\n",
    "# scaler = MinMaxScaler()\n",
    "# df[numeric_cols] = scaler.fit_transform(df[numeric_cols])\n",
    "\n",
    "# # Recalculate total impact after scaling\n",
    "# df['total_impact'] = df[numeric_cols].sum(axis=1)\n"
   ]
  },
  {
   "cell_type": "code",
   "execution_count": 47,
   "metadata": {
    "id": "moMZjJhMqydC"
   },
   "outputs": [],
   "source": [
    "# # Function to balance the DataFrame\n",
    "# def balance_dataframe_by_categories(df, categories):\n",
    "#     # Calculate the smallest group size for feasible sampling\n",
    "#     feasible_min_size = min(df.groupby(categories).size().min(), min(df[cat].value_counts().min() for cat in categories))\n",
    "\n",
    "#     # Sample each category value group to feasible_min_size, handling small groups\n",
    "#     balanced_df = pd.DataFrame()\n",
    "#     for _, group in df.groupby(categories):\n",
    "#         if len(group) < feasible_min_size:\n",
    "#             sampled_group = group.sample(n=len(group), replace=True, random_state=1)  # Use replace=True for small groups\n",
    "#         else:\n",
    "#             sampled_group = group.sample(n=feasible_min_size, replace=False, random_state=1)\n",
    "#         balanced_df = pd.concat([balanced_df, sampled_group])\n",
    "\n",
    "#     return balanced_df\n",
    "\n",
    "# # List of categories to balance by\n",
    "# categories = ['sex', 'diet_group', 'age_group']\n",
    "\n",
    "# # Balance the DataFrame\n",
    "# balanced_df = balance_dataframe_by_categories(df, categories)\n",
    "# # Display the balanced DataFrame\n",
    "# print(balanced_df)"
   ]
  },
  {
   "cell_type": "code",
   "execution_count": 48,
   "metadata": {
    "id": "m95pS6jmq5wr"
   },
   "outputs": [],
   "source": [
    "# df['total_impact'] = df[['mean_ghgs', 'mean_land', 'mean_watscar', 'mean_eut','mean_ghgs_n2o','mean_ghgs_ch4','mean_bio','mean_acid', 'mean_watuse']].sum(axis=1)\n",
    "\n",
    "# # Step 2: Identify the best and worst diets based on total environmental impact\n",
    "# best_diet = df.loc[df['total_impact'].idxmin()]['diet_group']\n",
    "# worst_diet = df.loc[df['total_impact'].idxmax()]['diet_group']\n",
    "\n",
    "# # Filter data for best and worst diets using correct indexing with .loc\n",
    "# best_diet_data = df.loc[df['diet_group'] == best_diet, numeric_cols].mean()\n",
    "# worst_diet_data = df.loc[df['diet_group'] == worst_diet, numeric_cols].mean()\n",
    "\n",
    "# # Step 3: Calculate differences for each environmental metric\n",
    "# categories = ['mean_ghgs', 'mean_land', 'mean_watscar', 'mean_eut']\n",
    "# differences = worst_diet_data[categories] - best_diet_data[categories]\n",
    "# differences['total'] = differences.sum()\n",
    "\n",
    "\n",
    "# # Step 4: Plot Waterfall Chart\n",
    "# fig, ax = plt.subplots(figsize=(10, 6))\n",
    "# waterfall_values = [0] + differences.tolist()\n",
    "# waterfall_increments = np.cumsum(waterfall_values)\n",
    "\n",
    "# # Base bar for the best diet's impact\n",
    "# ax.bar(categories + ['Total'], waterfall_values, bottom=waterfall_increments[:-1], color='skyblue')\n",
    "\n",
    "# # Custom formatting for the plot\n",
    "# ax.axhline(0, color='k', linewidth=0.8)\n",
    "# ax.set_title(f'Disparity Between the Best ({best_diet}) and Worst ({worst_diet}) Diets')\n",
    "# ax.set_ylabel('Environmental Impact Score Difference')\n",
    "\n",
    "# # Formatting y-axis to show values clearly\n",
    "# ax.yaxis.set_major_formatter(FuncFormatter(lambda x, _: f'{int(x)}'))\n",
    "\n",
    "# plt.xticks(rotation=45)\n",
    "# plt.tight_layout()\n",
    "# plt.show()\n"
   ]
  },
  {
   "cell_type": "code",
   "execution_count": 49,
   "metadata": {
    "id": "3cO5rOUk1qTM"
   },
   "outputs": [],
   "source": [
    "# fig = px.bar(\n",
    "#     df,\n",
    "#     x='diet_group',\n",
    "#     y='total_impact',\n",
    "#     color='sex',\n",
    "#     facet_col='age_group',  # Creates a subplot for each age group\n",
    "#     facet_col_wrap=4,       # Adjust based on how many age groups you have\n",
    "#     title='Environmental Impact by Diet Group, Gender, and Age Group',\n",
    "#     labels={'total_impact': 'Total Environmental Impact'},  # Custom labels for axes\n",
    "#     height=800,  # Adjust height to accommodate all subplots\n",
    "#     width=1200   # Adjust width based on preference\n",
    "# )\n",
    "\n",
    "# # Update the layout to make it more readable\n",
    "# fig.update_layout(\n",
    "#     legend_title_text='Gender',\n",
    "#     barmode='group',  # Use 'stack' for stacked bar chart\n",
    "#     legend=dict(\n",
    "#         orientation=\"h\",\n",
    "#         yanchor=\"bottom\",\n",
    "#         y=1.02,\n",
    "#         xanchor=\"right\",\n",
    "#         x=1\n",
    "#     )\n",
    "# )\n",
    "\n",
    "# # Show interactive figure\n",
    "# fig.show()"
   ]
  },
  {
   "cell_type": "code",
   "execution_count": 50,
   "metadata": {
    "colab": {
     "base_uri": "https://localhost:8080/",
     "height": 542
    },
    "id": "_INaogSR4odY",
    "outputId": "8496a0e9-2f50-4e5a-ef46-f97437b69133"
   },
   "outputs": [
    {
     "name": "stderr",
     "output_type": "stream",
     "text": [
      "c:\\users\\neeraj\\appdata\\local\\programs\\python\\python312\\Lib\\site-packages\\plotly\\express\\_core.py:1706: FutureWarning:\n",
      "\n",
      "The default of observed=False is deprecated and will be changed to True in a future version of pandas. Pass observed=False to retain current behavior or observed=True to adopt the future default and silence this warning.\n",
      "\n",
      "c:\\users\\neeraj\\appdata\\local\\programs\\python\\python312\\Lib\\site-packages\\plotly\\express\\_core.py:1706: FutureWarning:\n",
      "\n",
      "The default of observed=False is deprecated and will be changed to True in a future version of pandas. Pass observed=False to retain current behavior or observed=True to adopt the future default and silence this warning.\n",
      "\n",
      "c:\\users\\neeraj\\appdata\\local\\programs\\python\\python312\\Lib\\site-packages\\plotly\\express\\_core.py:1706: FutureWarning:\n",
      "\n",
      "The default of observed=False is deprecated and will be changed to True in a future version of pandas. Pass observed=False to retain current behavior or observed=True to adopt the future default and silence this warning.\n",
      "\n"
     ]
    },
    {
     "data": {
      "application/vnd.plotly.v1+json": {
       "config": {
        "plotlyServerURL": "https://plot.ly"
       },
       "data": [
        {
         "branchvalues": "total",
         "customdata": [
          [
           19537.120507701577
          ],
          [
           20207.429299720316
          ],
          [
           20219.193090215915
          ],
          [
           20870.198487559286
          ],
          [
           21305.26797961484
          ],
          [
           21158.377592398712
          ],
          [
           21559.559885614985
          ],
          [
           21412.39221869109
          ],
          [
           21181.485207107802
          ],
          [
           21216.434026942454
          ],
          [
           21685.16998790814
          ],
          [
           21973.12317502692
          ],
          [
           25114.435920772008
          ],
          [
           25027.43378860133
          ],
          [
           24429.083635759805
          ],
          [
           24634.618225434286
          ],
          [
           24838.539241907347
          ],
          [
           25325.243793694193
          ],
          [
           19463.008825185123
          ],
          [
           19959.316563328306
          ],
          [
           19705.876142403726
          ],
          [
           20009.15398358011
          ],
          [
           20202.08421589938
          ],
          [
           20222.910120777975
          ],
          [
           16279.872237331636
          ],
          [
           17067.736068286118
          ],
          [
           18660.254741117853
          ],
          [
           17391.15109894527
          ],
          [
           17988.956828463048
          ],
          [
           20368.06475093781
          ],
          [
           17487.388129124265
          ],
          [
           17897.142729189105
          ],
          [
           18121.84481804262
          ],
          [
           18660.86723873851
          ],
          [
           19047.8721712723
          ],
          [
           19283.578330286036
          ],
          [
           22964.85811236807
          ],
          [
           21741.18094424467
          ],
          [
           21067.780140083934
          ],
          [
           21047.14809934763
          ],
          [
           21159.21154148671
          ],
          [
           22120.378818063662
          ],
          [
           22880.07503514441
          ],
          [
           22918.010534543562
          ],
          [
           21482.058636909453
          ],
          [
           21300.94324399365
          ],
          [
           21440.53762892254
          ],
          [
           21551.048692107586
          ],
          [
           27549.739652217133
          ],
          [
           26422.349519327236
          ],
          [
           24663.011101188567
          ],
          [
           24856.93657799301
          ],
          [
           24926.694399279226
          ],
          [
           25503.033691278415
          ],
          [
           19946.39299029788
          ],
          [
           21426.761543493594
          ],
          [
           20356.72091685712
          ],
          [
           20104.42365369702
          ],
          [
           19787.72800712503
          ],
          [
           20588.601927252308
          ],
          [
           19148.86016510941
          ],
          [
           18413.771659708196
          ],
          [
           18160.13661087699
          ],
          [
           16787.331193264756
          ],
          [
           20327.541094002692
          ],
          [
           19515.86725499271
          ],
          [
           19482.845677924855
          ],
          [
           19313.65772001963
          ],
          [
           19063.319035933655
          ],
          [
           18673.92302833476
          ],
          [
           19046.73811445299
          ],
          [
           20305.434638520004
          ],
          [
           21368.324952896775
          ],
          [
           21001.49408160173
          ],
          [
           20650.15762280663
          ],
          [
           20958.70487491788
          ],
          [
           21232.56017460489
          ],
          [
           21649.930991364577
          ],
          [
           22240.12997642527
          ],
          [
           22190.440982234697
          ],
          [
           21332.787997127838
          ],
          [
           21258.742572040745
          ],
          [
           21563.757831224495
          ],
          [
           21764.232237736527
          ],
          [
           26392.77125462649
          ],
          [
           25744.241591639053
          ],
          [
           24546.60375676409
          ],
          [
           24746.317290258543
          ],
          [
           24882.755837056346
          ],
          [
           25414.603641626432
          ],
          [
           19707.67232003486
          ],
          [
           20718.425787139622
          ],
          [
           20036.200244492502
          ],
          [
           20056.712246705512
          ],
          [
           19996.990820727482
          ],
          [
           20407.17602682469
          ],
          [
           17829.42056975272
          ],
          [
           17768.398700482117
          ],
          [
           18413.930916687685
          ],
          [
           17096.82791204192
          ],
          [
           19208.002865182785
          ],
          [
           19947.654970750176
          ],
          [
           18536.980702493565
          ],
          [
           18630.49925951033
          ],
          [
           18602.539837069005
          ],
          [
           18667.387233579797
          ],
          [
           19047.306640654642
          ],
          [
           19806.02789499302
          ],
          [
           21459.896279804703
          ],
          [
           21390.281680095675
          ],
          [
           20852.126870952947
          ],
          [
           20782.00249536345
          ],
          [
           21211.108935255295
          ],
          [
           21707.66980028146
          ]
         ],
         "domain": {
          "x": [
           0,
           1
          ],
          "y": [
           0,
           1
          ]
         },
         "hovertemplate": "labels=%{label}<br>total_impact_sum=%{value}<br>parent=%{parent}<br>id=%{id}<br>total_impact=%{color}<extra></extra>",
         "ids": [
          "20-29/Pescatarian Diet/female",
          "30-39/Pescatarian Diet/female",
          "40-49/Pescatarian Diet/female",
          "50-59/Pescatarian Diet/female",
          "60-69/Pescatarian Diet/female",
          "70-79/Pescatarian Diet/female",
          "20-29/Moderate Meat Consumption (50-99 g/day)/female",
          "30-39/Moderate Meat Consumption (50-99 g/day)/female",
          "40-49/Moderate Meat Consumption (50-99 g/day)/female",
          "50-59/Moderate Meat Consumption (50-99 g/day)/female",
          "60-69/Moderate Meat Consumption (50-99 g/day)/female",
          "70-79/Moderate Meat Consumption (50-99 g/day)/female",
          "20-29/High Meat Consumption (100+ g/day)/female",
          "30-39/High Meat Consumption (100+ g/day)/female",
          "40-49/High Meat Consumption (100+ g/day)/female",
          "50-59/High Meat Consumption (100+ g/day)/female",
          "60-69/High Meat Consumption (100+ g/day)/female",
          "70-79/High Meat Consumption (100+ g/day)/female",
          "20-29/Low Meat Consumption (<50 g/day)/female",
          "30-39/Low Meat Consumption (<50 g/day)/female",
          "40-49/Low Meat Consumption (<50 g/day)/female",
          "50-59/Low Meat Consumption (<50 g/day)/female",
          "60-69/Low Meat Consumption (<50 g/day)/female",
          "70-79/Low Meat Consumption (<50 g/day)/female",
          "20-29/Vegan Diet/female",
          "30-39/Vegan Diet/female",
          "40-49/Vegan Diet/female",
          "50-59/Vegan Diet/female",
          "60-69/Vegan Diet/female",
          "70-79/Vegan Diet/female",
          "20-29/Vegetarian Diet/female",
          "30-39/Vegetarian Diet/female",
          "40-49/Vegetarian Diet/female",
          "50-59/Vegetarian Diet/female",
          "60-69/Vegetarian Diet/female",
          "70-79/Vegetarian Diet/female",
          "20-29/Pescatarian Diet/male",
          "30-39/Pescatarian Diet/male",
          "40-49/Pescatarian Diet/male",
          "50-59/Pescatarian Diet/male",
          "60-69/Pescatarian Diet/male",
          "70-79/Pescatarian Diet/male",
          "20-29/Moderate Meat Consumption (50-99 g/day)/male",
          "30-39/Moderate Meat Consumption (50-99 g/day)/male",
          "40-49/Moderate Meat Consumption (50-99 g/day)/male",
          "50-59/Moderate Meat Consumption (50-99 g/day)/male",
          "60-69/Moderate Meat Consumption (50-99 g/day)/male",
          "70-79/Moderate Meat Consumption (50-99 g/day)/male",
          "20-29/High Meat Consumption (100+ g/day)/male",
          "30-39/High Meat Consumption (100+ g/day)/male",
          "40-49/High Meat Consumption (100+ g/day)/male",
          "50-59/High Meat Consumption (100+ g/day)/male",
          "60-69/High Meat Consumption (100+ g/day)/male",
          "70-79/High Meat Consumption (100+ g/day)/male",
          "20-29/Low Meat Consumption (<50 g/day)/male",
          "30-39/Low Meat Consumption (<50 g/day)/male",
          "40-49/Low Meat Consumption (<50 g/day)/male",
          "50-59/Low Meat Consumption (<50 g/day)/male",
          "60-69/Low Meat Consumption (<50 g/day)/male",
          "70-79/Low Meat Consumption (<50 g/day)/male",
          "20-29/Vegan Diet/male",
          "30-39/Vegan Diet/male",
          "40-49/Vegan Diet/male",
          "50-59/Vegan Diet/male",
          "60-69/Vegan Diet/male",
          "70-79/Vegan Diet/male",
          "20-29/Vegetarian Diet/male",
          "30-39/Vegetarian Diet/male",
          "40-49/Vegetarian Diet/male",
          "50-59/Vegetarian Diet/male",
          "60-69/Vegetarian Diet/male",
          "70-79/Vegetarian Diet/male",
          "20-29/Pescatarian Diet",
          "30-39/Pescatarian Diet",
          "40-49/Pescatarian Diet",
          "50-59/Pescatarian Diet",
          "60-69/Pescatarian Diet",
          "70-79/Pescatarian Diet",
          "20-29/Moderate Meat Consumption (50-99 g/day)",
          "30-39/Moderate Meat Consumption (50-99 g/day)",
          "40-49/Moderate Meat Consumption (50-99 g/day)",
          "50-59/Moderate Meat Consumption (50-99 g/day)",
          "60-69/Moderate Meat Consumption (50-99 g/day)",
          "70-79/Moderate Meat Consumption (50-99 g/day)",
          "20-29/High Meat Consumption (100+ g/day)",
          "30-39/High Meat Consumption (100+ g/day)",
          "40-49/High Meat Consumption (100+ g/day)",
          "50-59/High Meat Consumption (100+ g/day)",
          "60-69/High Meat Consumption (100+ g/day)",
          "70-79/High Meat Consumption (100+ g/day)",
          "20-29/Low Meat Consumption (<50 g/day)",
          "30-39/Low Meat Consumption (<50 g/day)",
          "40-49/Low Meat Consumption (<50 g/day)",
          "50-59/Low Meat Consumption (<50 g/day)",
          "60-69/Low Meat Consumption (<50 g/day)",
          "70-79/Low Meat Consumption (<50 g/day)",
          "20-29/Vegan Diet",
          "30-39/Vegan Diet",
          "40-49/Vegan Diet",
          "50-59/Vegan Diet",
          "60-69/Vegan Diet",
          "70-79/Vegan Diet",
          "20-29/Vegetarian Diet",
          "30-39/Vegetarian Diet",
          "40-49/Vegetarian Diet",
          "50-59/Vegetarian Diet",
          "60-69/Vegetarian Diet",
          "70-79/Vegetarian Diet",
          "20-29",
          "30-39",
          "40-49",
          "50-59",
          "60-69",
          "70-79"
         ],
         "labels": [
          "female",
          "female",
          "female",
          "female",
          "female",
          "female",
          "female",
          "female",
          "female",
          "female",
          "female",
          "female",
          "female",
          "female",
          "female",
          "female",
          "female",
          "female",
          "female",
          "female",
          "female",
          "female",
          "female",
          "female",
          "female",
          "female",
          "female",
          "female",
          "female",
          "female",
          "female",
          "female",
          "female",
          "female",
          "female",
          "female",
          "male",
          "male",
          "male",
          "male",
          "male",
          "male",
          "male",
          "male",
          "male",
          "male",
          "male",
          "male",
          "male",
          "male",
          "male",
          "male",
          "male",
          "male",
          "male",
          "male",
          "male",
          "male",
          "male",
          "male",
          "male",
          "male",
          "male",
          "male",
          "male",
          "male",
          "male",
          "male",
          "male",
          "male",
          "male",
          "male",
          "Pescatarian Diet",
          "Pescatarian Diet",
          "Pescatarian Diet",
          "Pescatarian Diet",
          "Pescatarian Diet",
          "Pescatarian Diet",
          "Moderate Meat Consumption (50-99 g/day)",
          "Moderate Meat Consumption (50-99 g/day)",
          "Moderate Meat Consumption (50-99 g/day)",
          "Moderate Meat Consumption (50-99 g/day)",
          "Moderate Meat Consumption (50-99 g/day)",
          "Moderate Meat Consumption (50-99 g/day)",
          "High Meat Consumption (100+ g/day)",
          "High Meat Consumption (100+ g/day)",
          "High Meat Consumption (100+ g/day)",
          "High Meat Consumption (100+ g/day)",
          "High Meat Consumption (100+ g/day)",
          "High Meat Consumption (100+ g/day)",
          "Low Meat Consumption (<50 g/day)",
          "Low Meat Consumption (<50 g/day)",
          "Low Meat Consumption (<50 g/day)",
          "Low Meat Consumption (<50 g/day)",
          "Low Meat Consumption (<50 g/day)",
          "Low Meat Consumption (<50 g/day)",
          "Vegan Diet",
          "Vegan Diet",
          "Vegan Diet",
          "Vegan Diet",
          "Vegan Diet",
          "Vegan Diet",
          "Vegetarian Diet",
          "Vegetarian Diet",
          "Vegetarian Diet",
          "Vegetarian Diet",
          "Vegetarian Diet",
          "Vegetarian Diet",
          "20-29",
          "30-39",
          "40-49",
          "50-59",
          "60-69",
          "70-79"
         ],
         "marker": {
          "coloraxis": "coloraxis",
          "colors": [
           19537.120507701577,
           20207.429299720316,
           20219.193090215915,
           20870.198487559286,
           21305.26797961484,
           21158.377592398712,
           21559.559885614985,
           21412.39221869109,
           21181.485207107802,
           21216.434026942454,
           21685.16998790814,
           21973.12317502692,
           25114.435920772008,
           25027.43378860133,
           24429.083635759805,
           24634.618225434286,
           24838.539241907347,
           25325.243793694193,
           19463.008825185123,
           19959.316563328306,
           19705.876142403726,
           20009.15398358011,
           20202.08421589938,
           20222.910120777975,
           16279.872237331636,
           17067.736068286118,
           18660.254741117853,
           17391.15109894527,
           17988.956828463048,
           20368.06475093781,
           17487.388129124265,
           17897.142729189105,
           18121.84481804262,
           18660.86723873851,
           19047.8721712723,
           19283.578330286036,
           22964.85811236807,
           21741.18094424467,
           21067.780140083934,
           21047.14809934763,
           21159.21154148671,
           22120.378818063662,
           22880.07503514441,
           22918.010534543562,
           21482.058636909453,
           21300.94324399365,
           21440.53762892254,
           21551.048692107586,
           27549.739652217133,
           26422.349519327236,
           24663.011101188567,
           24856.93657799301,
           24926.694399279226,
           25503.033691278415,
           19946.39299029788,
           21426.761543493594,
           20356.72091685712,
           20104.42365369702,
           19787.72800712503,
           20588.601927252308,
           19148.86016510941,
           18413.771659708196,
           18160.13661087699,
           16787.331193264756,
           20327.541094002692,
           19515.86725499271,
           19482.845677924855,
           19313.65772001963,
           19063.319035933655,
           18673.92302833476,
           19046.73811445299,
           20305.434638520004,
           21368.324952896775,
           21001.49408160173,
           20650.15762280663,
           20958.70487491788,
           21232.56017460489,
           21649.930991364577,
           22240.12997642527,
           22190.440982234697,
           21332.787997127838,
           21258.742572040745,
           21563.757831224495,
           21764.232237736527,
           26392.77125462649,
           25744.241591639053,
           24546.60375676409,
           24746.317290258543,
           24882.755837056346,
           25414.603641626432,
           19707.67232003486,
           20718.425787139622,
           20036.200244492502,
           20056.712246705512,
           19996.990820727482,
           20407.17602682469,
           17829.42056975272,
           17768.398700482117,
           18413.930916687685,
           17096.82791204192,
           19208.002865182785,
           19947.654970750176,
           18536.980702493565,
           18630.49925951033,
           18602.539837069005,
           18667.387233579797,
           19047.306640654642,
           19806.02789499302,
           21459.896279804703,
           21390.281680095675,
           20852.126870952947,
           20782.00249536345,
           21211.108935255295,
           21707.66980028146
          ]
         },
         "name": "",
         "parents": [
          "20-29/Pescatarian Diet",
          "30-39/Pescatarian Diet",
          "40-49/Pescatarian Diet",
          "50-59/Pescatarian Diet",
          "60-69/Pescatarian Diet",
          "70-79/Pescatarian Diet",
          "20-29/Moderate Meat Consumption (50-99 g/day)",
          "30-39/Moderate Meat Consumption (50-99 g/day)",
          "40-49/Moderate Meat Consumption (50-99 g/day)",
          "50-59/Moderate Meat Consumption (50-99 g/day)",
          "60-69/Moderate Meat Consumption (50-99 g/day)",
          "70-79/Moderate Meat Consumption (50-99 g/day)",
          "20-29/High Meat Consumption (100+ g/day)",
          "30-39/High Meat Consumption (100+ g/day)",
          "40-49/High Meat Consumption (100+ g/day)",
          "50-59/High Meat Consumption (100+ g/day)",
          "60-69/High Meat Consumption (100+ g/day)",
          "70-79/High Meat Consumption (100+ g/day)",
          "20-29/Low Meat Consumption (<50 g/day)",
          "30-39/Low Meat Consumption (<50 g/day)",
          "40-49/Low Meat Consumption (<50 g/day)",
          "50-59/Low Meat Consumption (<50 g/day)",
          "60-69/Low Meat Consumption (<50 g/day)",
          "70-79/Low Meat Consumption (<50 g/day)",
          "20-29/Vegan Diet",
          "30-39/Vegan Diet",
          "40-49/Vegan Diet",
          "50-59/Vegan Diet",
          "60-69/Vegan Diet",
          "70-79/Vegan Diet",
          "20-29/Vegetarian Diet",
          "30-39/Vegetarian Diet",
          "40-49/Vegetarian Diet",
          "50-59/Vegetarian Diet",
          "60-69/Vegetarian Diet",
          "70-79/Vegetarian Diet",
          "20-29/Pescatarian Diet",
          "30-39/Pescatarian Diet",
          "40-49/Pescatarian Diet",
          "50-59/Pescatarian Diet",
          "60-69/Pescatarian Diet",
          "70-79/Pescatarian Diet",
          "20-29/Moderate Meat Consumption (50-99 g/day)",
          "30-39/Moderate Meat Consumption (50-99 g/day)",
          "40-49/Moderate Meat Consumption (50-99 g/day)",
          "50-59/Moderate Meat Consumption (50-99 g/day)",
          "60-69/Moderate Meat Consumption (50-99 g/day)",
          "70-79/Moderate Meat Consumption (50-99 g/day)",
          "20-29/High Meat Consumption (100+ g/day)",
          "30-39/High Meat Consumption (100+ g/day)",
          "40-49/High Meat Consumption (100+ g/day)",
          "50-59/High Meat Consumption (100+ g/day)",
          "60-69/High Meat Consumption (100+ g/day)",
          "70-79/High Meat Consumption (100+ g/day)",
          "20-29/Low Meat Consumption (<50 g/day)",
          "30-39/Low Meat Consumption (<50 g/day)",
          "40-49/Low Meat Consumption (<50 g/day)",
          "50-59/Low Meat Consumption (<50 g/day)",
          "60-69/Low Meat Consumption (<50 g/day)",
          "70-79/Low Meat Consumption (<50 g/day)",
          "20-29/Vegan Diet",
          "30-39/Vegan Diet",
          "40-49/Vegan Diet",
          "50-59/Vegan Diet",
          "60-69/Vegan Diet",
          "70-79/Vegan Diet",
          "20-29/Vegetarian Diet",
          "30-39/Vegetarian Diet",
          "40-49/Vegetarian Diet",
          "50-59/Vegetarian Diet",
          "60-69/Vegetarian Diet",
          "70-79/Vegetarian Diet",
          "20-29",
          "30-39",
          "40-49",
          "50-59",
          "60-69",
          "70-79",
          "20-29",
          "30-39",
          "40-49",
          "50-59",
          "60-69",
          "70-79",
          "20-29",
          "30-39",
          "40-49",
          "50-59",
          "60-69",
          "70-79",
          "20-29",
          "30-39",
          "40-49",
          "50-59",
          "60-69",
          "70-79",
          "20-29",
          "30-39",
          "40-49",
          "50-59",
          "60-69",
          "70-79",
          "20-29",
          "30-39",
          "40-49",
          "50-59",
          "60-69",
          "70-79",
          "",
          "",
          "",
          "",
          "",
          ""
         ],
         "type": "sunburst",
         "values": [
          18195649.52202897,
          18718909.072566453,
          18788113.642056547,
          19539226.469482712,
          20060079.906454377,
          20085902.633377776,
          20099432.389927752,
          20084268.867803115,
          19998456.095821124,
          20165291.45397411,
          20765334.648605168,
          21080064.544857763,
          23568915.640000615,
          23564600.095063496,
          23154657.67614374,
          23469785.110891294,
          23780490.300269462,
          24252151.023404796,
          18040130.342048276,
          18591226.657598354,
          18475965.812157977,
          18935179.43040133,
          19195782.66431341,
          19294508.71694375,
          14075997.1338929,
          14556169.056828521,
          15914502.352446238,
          15709665.926831424,
          16274357.831753777,
          17246225.151088476,
          15954088.451590097,
          16319370.09529747,
          16638534.93544968,
          17229765.123260204,
          17684801.57990096,
          18054805.458853185,
          20870192.44810901,
          20095025.612129256,
          19388347.799823236,
          19553180.673199102,
          19884820.157079484,
          20987010.99335652,
          21375385.809255622,
          21477727.46905411,
          20270712.363916703,
          20216837.87056049,
          20460638.89561264,
          20655601.856728945,
          26041314.270978324,
          24909440.71571474,
          23376000.76151951,
          23698878.39818427,
          23930967.670670237,
          24507150.408826485,
          18489229.827342823,
          19923844.746158734,
          19041070.805508465,
          18874401.374036904,
          18813319.82415729,
          19596541.188849647,
          16530834.729187654,
          15803208.951112274,
          15446056.091902787,
          14939476.447571108,
          17720870.001795925,
          16791773.967252284,
          17703682.014476076,
          17518507.523412883,
          17357686.473421723,
          17188113.141841725,
          17591619.756043177,
          18887861.19752802,
          39065841.97013798,
          38813934.684695706,
          38176461.44187978,
          39092407.142681815,
          39944900.06353386,
          41072913.626734294,
          41474818.199183375,
          41561996.33685723,
          40269168.45973782,
          40382129.3245346,
          41225973.54421781,
          41735666.40158671,
          49610229.91097894,
          48474040.81077824,
          46530658.43766325,
          47168663.50907557,
          47711457.9709397,
          48759301.43223128,
          36529360.169391096,
          38515071.40375709,
          37517036.617666446,
          37809580.80443823,
          38009102.4884707,
          38891049.90579339,
          30606831.863080554,
          30359378.007940795,
          31360558.444349024,
          30649142.374402534,
          33995227.8335497,
          34037999.11834076,
          33657770.466066174,
          33837877.618710354,
          33996221.408871405,
          34417878.265101925,
          35276421.33594414,
          36942666.656381205,
          230944852.5788381,
          231562298.8627394,
          227850104.81016773,
          229519801.42023468,
          236163083.23665592,
          241439597.14106765
         ]
        }
       ],
       "layout": {
        "autosize": true,
        "coloraxis": {
         "colorbar": {
          "title": {
           "text": "total_impact"
          }
         },
         "colorscale": [
          [
           0,
           "#0d0887"
          ],
          [
           0.1111111111111111,
           "#46039f"
          ],
          [
           0.2222222222222222,
           "#7201a8"
          ],
          [
           0.3333333333333333,
           "#9c179e"
          ],
          [
           0.4444444444444444,
           "#bd3786"
          ],
          [
           0.5555555555555556,
           "#d8576b"
          ],
          [
           0.6666666666666666,
           "#ed7953"
          ],
          [
           0.7777777777777778,
           "#fb9f3a"
          ],
          [
           0.8888888888888888,
           "#fdca26"
          ],
          [
           1,
           "#f0f921"
          ]
         ]
        },
        "legend": {
         "tracegroupgap": 0
        },
        "template": {
         "data": {
          "bar": [
           {
            "error_x": {
             "color": "#2a3f5f"
            },
            "error_y": {
             "color": "#2a3f5f"
            },
            "marker": {
             "line": {
              "color": "#E5ECF6",
              "width": 0.5
             },
             "pattern": {
              "fillmode": "overlay",
              "size": 10,
              "solidity": 0.2
             }
            },
            "type": "bar"
           }
          ],
          "barpolar": [
           {
            "marker": {
             "line": {
              "color": "#E5ECF6",
              "width": 0.5
             },
             "pattern": {
              "fillmode": "overlay",
              "size": 10,
              "solidity": 0.2
             }
            },
            "type": "barpolar"
           }
          ],
          "carpet": [
           {
            "aaxis": {
             "endlinecolor": "#2a3f5f",
             "gridcolor": "white",
             "linecolor": "white",
             "minorgridcolor": "white",
             "startlinecolor": "#2a3f5f"
            },
            "baxis": {
             "endlinecolor": "#2a3f5f",
             "gridcolor": "white",
             "linecolor": "white",
             "minorgridcolor": "white",
             "startlinecolor": "#2a3f5f"
            },
            "type": "carpet"
           }
          ],
          "choropleth": [
           {
            "colorbar": {
             "outlinewidth": 0,
             "ticks": ""
            },
            "type": "choropleth"
           }
          ],
          "contour": [
           {
            "colorbar": {
             "outlinewidth": 0,
             "ticks": ""
            },
            "colorscale": [
             [
              0,
              "#0d0887"
             ],
             [
              0.1111111111111111,
              "#46039f"
             ],
             [
              0.2222222222222222,
              "#7201a8"
             ],
             [
              0.3333333333333333,
              "#9c179e"
             ],
             [
              0.4444444444444444,
              "#bd3786"
             ],
             [
              0.5555555555555556,
              "#d8576b"
             ],
             [
              0.6666666666666666,
              "#ed7953"
             ],
             [
              0.7777777777777778,
              "#fb9f3a"
             ],
             [
              0.8888888888888888,
              "#fdca26"
             ],
             [
              1,
              "#f0f921"
             ]
            ],
            "type": "contour"
           }
          ],
          "contourcarpet": [
           {
            "colorbar": {
             "outlinewidth": 0,
             "ticks": ""
            },
            "type": "contourcarpet"
           }
          ],
          "heatmap": [
           {
            "colorbar": {
             "outlinewidth": 0,
             "ticks": ""
            },
            "colorscale": [
             [
              0,
              "#0d0887"
             ],
             [
              0.1111111111111111,
              "#46039f"
             ],
             [
              0.2222222222222222,
              "#7201a8"
             ],
             [
              0.3333333333333333,
              "#9c179e"
             ],
             [
              0.4444444444444444,
              "#bd3786"
             ],
             [
              0.5555555555555556,
              "#d8576b"
             ],
             [
              0.6666666666666666,
              "#ed7953"
             ],
             [
              0.7777777777777778,
              "#fb9f3a"
             ],
             [
              0.8888888888888888,
              "#fdca26"
             ],
             [
              1,
              "#f0f921"
             ]
            ],
            "type": "heatmap"
           }
          ],
          "heatmapgl": [
           {
            "colorbar": {
             "outlinewidth": 0,
             "ticks": ""
            },
            "colorscale": [
             [
              0,
              "#0d0887"
             ],
             [
              0.1111111111111111,
              "#46039f"
             ],
             [
              0.2222222222222222,
              "#7201a8"
             ],
             [
              0.3333333333333333,
              "#9c179e"
             ],
             [
              0.4444444444444444,
              "#bd3786"
             ],
             [
              0.5555555555555556,
              "#d8576b"
             ],
             [
              0.6666666666666666,
              "#ed7953"
             ],
             [
              0.7777777777777778,
              "#fb9f3a"
             ],
             [
              0.8888888888888888,
              "#fdca26"
             ],
             [
              1,
              "#f0f921"
             ]
            ],
            "type": "heatmapgl"
           }
          ],
          "histogram": [
           {
            "marker": {
             "pattern": {
              "fillmode": "overlay",
              "size": 10,
              "solidity": 0.2
             }
            },
            "type": "histogram"
           }
          ],
          "histogram2d": [
           {
            "colorbar": {
             "outlinewidth": 0,
             "ticks": ""
            },
            "colorscale": [
             [
              0,
              "#0d0887"
             ],
             [
              0.1111111111111111,
              "#46039f"
             ],
             [
              0.2222222222222222,
              "#7201a8"
             ],
             [
              0.3333333333333333,
              "#9c179e"
             ],
             [
              0.4444444444444444,
              "#bd3786"
             ],
             [
              0.5555555555555556,
              "#d8576b"
             ],
             [
              0.6666666666666666,
              "#ed7953"
             ],
             [
              0.7777777777777778,
              "#fb9f3a"
             ],
             [
              0.8888888888888888,
              "#fdca26"
             ],
             [
              1,
              "#f0f921"
             ]
            ],
            "type": "histogram2d"
           }
          ],
          "histogram2dcontour": [
           {
            "colorbar": {
             "outlinewidth": 0,
             "ticks": ""
            },
            "colorscale": [
             [
              0,
              "#0d0887"
             ],
             [
              0.1111111111111111,
              "#46039f"
             ],
             [
              0.2222222222222222,
              "#7201a8"
             ],
             [
              0.3333333333333333,
              "#9c179e"
             ],
             [
              0.4444444444444444,
              "#bd3786"
             ],
             [
              0.5555555555555556,
              "#d8576b"
             ],
             [
              0.6666666666666666,
              "#ed7953"
             ],
             [
              0.7777777777777778,
              "#fb9f3a"
             ],
             [
              0.8888888888888888,
              "#fdca26"
             ],
             [
              1,
              "#f0f921"
             ]
            ],
            "type": "histogram2dcontour"
           }
          ],
          "mesh3d": [
           {
            "colorbar": {
             "outlinewidth": 0,
             "ticks": ""
            },
            "type": "mesh3d"
           }
          ],
          "parcoords": [
           {
            "line": {
             "colorbar": {
              "outlinewidth": 0,
              "ticks": ""
             }
            },
            "type": "parcoords"
           }
          ],
          "pie": [
           {
            "automargin": true,
            "type": "pie"
           }
          ],
          "scatter": [
           {
            "fillpattern": {
             "fillmode": "overlay",
             "size": 10,
             "solidity": 0.2
            },
            "type": "scatter"
           }
          ],
          "scatter3d": [
           {
            "line": {
             "colorbar": {
              "outlinewidth": 0,
              "ticks": ""
             }
            },
            "marker": {
             "colorbar": {
              "outlinewidth": 0,
              "ticks": ""
             }
            },
            "type": "scatter3d"
           }
          ],
          "scattercarpet": [
           {
            "marker": {
             "colorbar": {
              "outlinewidth": 0,
              "ticks": ""
             }
            },
            "type": "scattercarpet"
           }
          ],
          "scattergeo": [
           {
            "marker": {
             "colorbar": {
              "outlinewidth": 0,
              "ticks": ""
             }
            },
            "type": "scattergeo"
           }
          ],
          "scattergl": [
           {
            "marker": {
             "colorbar": {
              "outlinewidth": 0,
              "ticks": ""
             }
            },
            "type": "scattergl"
           }
          ],
          "scattermapbox": [
           {
            "marker": {
             "colorbar": {
              "outlinewidth": 0,
              "ticks": ""
             }
            },
            "type": "scattermapbox"
           }
          ],
          "scatterpolar": [
           {
            "marker": {
             "colorbar": {
              "outlinewidth": 0,
              "ticks": ""
             }
            },
            "type": "scatterpolar"
           }
          ],
          "scatterpolargl": [
           {
            "marker": {
             "colorbar": {
              "outlinewidth": 0,
              "ticks": ""
             }
            },
            "type": "scatterpolargl"
           }
          ],
          "scatterternary": [
           {
            "marker": {
             "colorbar": {
              "outlinewidth": 0,
              "ticks": ""
             }
            },
            "type": "scatterternary"
           }
          ],
          "surface": [
           {
            "colorbar": {
             "outlinewidth": 0,
             "ticks": ""
            },
            "colorscale": [
             [
              0,
              "#0d0887"
             ],
             [
              0.1111111111111111,
              "#46039f"
             ],
             [
              0.2222222222222222,
              "#7201a8"
             ],
             [
              0.3333333333333333,
              "#9c179e"
             ],
             [
              0.4444444444444444,
              "#bd3786"
             ],
             [
              0.5555555555555556,
              "#d8576b"
             ],
             [
              0.6666666666666666,
              "#ed7953"
             ],
             [
              0.7777777777777778,
              "#fb9f3a"
             ],
             [
              0.8888888888888888,
              "#fdca26"
             ],
             [
              1,
              "#f0f921"
             ]
            ],
            "type": "surface"
           }
          ],
          "table": [
           {
            "cells": {
             "fill": {
              "color": "#EBF0F8"
             },
             "line": {
              "color": "white"
             }
            },
            "header": {
             "fill": {
              "color": "#C8D4E3"
             },
             "line": {
              "color": "white"
             }
            },
            "type": "table"
           }
          ]
         },
         "layout": {
          "annotationdefaults": {
           "arrowcolor": "#2a3f5f",
           "arrowhead": 0,
           "arrowwidth": 1
          },
          "autotypenumbers": "strict",
          "coloraxis": {
           "colorbar": {
            "outlinewidth": 0,
            "ticks": ""
           }
          },
          "colorscale": {
           "diverging": [
            [
             0,
             "#8e0152"
            ],
            [
             0.1,
             "#c51b7d"
            ],
            [
             0.2,
             "#de77ae"
            ],
            [
             0.3,
             "#f1b6da"
            ],
            [
             0.4,
             "#fde0ef"
            ],
            [
             0.5,
             "#f7f7f7"
            ],
            [
             0.6,
             "#e6f5d0"
            ],
            [
             0.7,
             "#b8e186"
            ],
            [
             0.8,
             "#7fbc41"
            ],
            [
             0.9,
             "#4d9221"
            ],
            [
             1,
             "#276419"
            ]
           ],
           "sequential": [
            [
             0,
             "#0d0887"
            ],
            [
             0.1111111111111111,
             "#46039f"
            ],
            [
             0.2222222222222222,
             "#7201a8"
            ],
            [
             0.3333333333333333,
             "#9c179e"
            ],
            [
             0.4444444444444444,
             "#bd3786"
            ],
            [
             0.5555555555555556,
             "#d8576b"
            ],
            [
             0.6666666666666666,
             "#ed7953"
            ],
            [
             0.7777777777777778,
             "#fb9f3a"
            ],
            [
             0.8888888888888888,
             "#fdca26"
            ],
            [
             1,
             "#f0f921"
            ]
           ],
           "sequentialminus": [
            [
             0,
             "#0d0887"
            ],
            [
             0.1111111111111111,
             "#46039f"
            ],
            [
             0.2222222222222222,
             "#7201a8"
            ],
            [
             0.3333333333333333,
             "#9c179e"
            ],
            [
             0.4444444444444444,
             "#bd3786"
            ],
            [
             0.5555555555555556,
             "#d8576b"
            ],
            [
             0.6666666666666666,
             "#ed7953"
            ],
            [
             0.7777777777777778,
             "#fb9f3a"
            ],
            [
             0.8888888888888888,
             "#fdca26"
            ],
            [
             1,
             "#f0f921"
            ]
           ]
          },
          "colorway": [
           "#636efa",
           "#EF553B",
           "#00cc96",
           "#ab63fa",
           "#FFA15A",
           "#19d3f3",
           "#FF6692",
           "#B6E880",
           "#FF97FF",
           "#FECB52"
          ],
          "font": {
           "color": "#2a3f5f"
          },
          "geo": {
           "bgcolor": "white",
           "lakecolor": "white",
           "landcolor": "#E5ECF6",
           "showlakes": true,
           "showland": true,
           "subunitcolor": "white"
          },
          "hoverlabel": {
           "align": "left"
          },
          "hovermode": "closest",
          "mapbox": {
           "style": "light"
          },
          "paper_bgcolor": "white",
          "plot_bgcolor": "#E5ECF6",
          "polar": {
           "angularaxis": {
            "gridcolor": "white",
            "linecolor": "white",
            "ticks": ""
           },
           "bgcolor": "#E5ECF6",
           "radialaxis": {
            "gridcolor": "white",
            "linecolor": "white",
            "ticks": ""
           }
          },
          "scene": {
           "xaxis": {
            "backgroundcolor": "#E5ECF6",
            "gridcolor": "white",
            "gridwidth": 2,
            "linecolor": "white",
            "showbackground": true,
            "ticks": "",
            "zerolinecolor": "white"
           },
           "yaxis": {
            "backgroundcolor": "#E5ECF6",
            "gridcolor": "white",
            "gridwidth": 2,
            "linecolor": "white",
            "showbackground": true,
            "ticks": "",
            "zerolinecolor": "white"
           },
           "zaxis": {
            "backgroundcolor": "#E5ECF6",
            "gridcolor": "white",
            "gridwidth": 2,
            "linecolor": "white",
            "showbackground": true,
            "ticks": "",
            "zerolinecolor": "white"
           }
          },
          "shapedefaults": {
           "line": {
            "color": "#2a3f5f"
           }
          },
          "ternary": {
           "aaxis": {
            "gridcolor": "white",
            "linecolor": "white",
            "ticks": ""
           },
           "baxis": {
            "gridcolor": "white",
            "linecolor": "white",
            "ticks": ""
           },
           "bgcolor": "#E5ECF6",
           "caxis": {
            "gridcolor": "white",
            "linecolor": "white",
            "ticks": ""
           }
          },
          "title": {
           "x": 0.05
          },
          "xaxis": {
           "automargin": true,
           "gridcolor": "white",
           "linecolor": "white",
           "ticks": "",
           "title": {
            "standoff": 15
           },
           "zerolinecolor": "white",
           "zerolinewidth": 2
          },
          "yaxis": {
           "automargin": true,
           "gridcolor": "white",
           "linecolor": "white",
           "ticks": "",
           "title": {
            "standoff": 15
           },
           "zerolinecolor": "white",
           "zerolinewidth": 2
          }
         }
        },
        "title": {
         "text": "Interactive Environmental Impact by Age Group, Diet Group, and Gender"
        }
       }
      },
      "image/png": "[encoded data removed]",
      "text/html": [
       "<div>                            <div id=\"2dad877a-c2f5-4b56-8ebc-37878d376c8a\" class=\"plotly-graph-div\" style=\"height:525px; width:100%;\"></div>            <script type=\"text/javascript\">                require([\"plotly\"], function(Plotly) {                    window.PLOTLYENV=window.PLOTLYENV || {};                                    if (document.getElementById(\"2dad877a-c2f5-4b56-8ebc-37878d376c8a\")) {                    Plotly.newPlot(                        \"2dad877a-c2f5-4b56-8ebc-37878d376c8a\",                        [{\"branchvalues\":\"total\",\"customdata\":[[19537.120507701577],[20207.429299720316],[20219.193090215915],[20870.198487559286],[21305.26797961484],[21158.377592398712],[21559.559885614985],[21412.39221869109],[21181.485207107802],[21216.434026942454],[21685.16998790814],[21973.12317502692],[25114.435920772008],[25027.43378860133],[24429.083635759805],[24634.618225434286],[24838.539241907347],[25325.243793694193],[19463.008825185123],[19959.316563328306],[19705.876142403726],[20009.15398358011],[20202.08421589938],[20222.910120777975],[16279.872237331636],[17067.736068286118],[18660.254741117853],[17391.15109894527],[17988.956828463048],[20368.06475093781],[17487.388129124265],[17897.142729189105],[18121.84481804262],[18660.86723873851],[19047.8721712723],[19283.578330286036],[22964.85811236807],[21741.18094424467],[21067.780140083934],[21047.14809934763],[21159.21154148671],[22120.378818063662],[22880.07503514441],[22918.010534543562],[21482.058636909453],[21300.94324399365],[21440.53762892254],[21551.048692107586],[27549.739652217133],[26422.349519327236],[24663.011101188567],[24856.93657799301],[24926.694399279226],[25503.033691278415],[19946.39299029788],[21426.761543493594],[20356.72091685712],[20104.42365369702],[19787.72800712503],[20588.601927252308],[19148.86016510941],[18413.771659708196],[18160.13661087699],[16787.331193264756],[20327.541094002692],[19515.86725499271],[19482.845677924855],[19313.65772001963],[19063.319035933655],[18673.92302833476],[19046.73811445299],[20305.434638520004],[21368.324952896775],[21001.49408160173],[20650.15762280663],[20958.70487491788],[21232.56017460489],[21649.930991364577],[22240.12997642527],[22190.440982234697],[21332.787997127838],[21258.742572040745],[21563.757831224495],[21764.232237736527],[26392.77125462649],[25744.241591639053],[24546.60375676409],[24746.317290258543],[24882.755837056346],[25414.603641626432],[19707.67232003486],[20718.425787139622],[20036.200244492502],[20056.712246705512],[19996.990820727482],[20407.17602682469],[17829.42056975272],[17768.398700482117],[18413.930916687685],[17096.82791204192],[19208.002865182785],[19947.654970750176],[18536.980702493565],[18630.49925951033],[18602.539837069005],[18667.387233579797],[19047.306640654642],[19806.02789499302],[21459.896279804703],[21390.281680095675],[20852.126870952947],[20782.00249536345],[21211.108935255295],[21707.66980028146]],\"domain\":{\"x\":[0.0,1.0],\"y\":[0.0,1.0]},\"hovertemplate\":\"labels=%{label}\\u003cbr\\u003etotal_impact_sum=%{value}\\u003cbr\\u003eparent=%{parent}\\u003cbr\\u003eid=%{id}\\u003cbr\\u003etotal_impact=%{color}\\u003cextra\\u003e\\u003c\\u002fextra\\u003e\",\"ids\":[\"20-29\\u002fPescatarian Diet\\u002ffemale\",\"30-39\\u002fPescatarian Diet\\u002ffemale\",\"40-49\\u002fPescatarian Diet\\u002ffemale\",\"50-59\\u002fPescatarian Diet\\u002ffemale\",\"60-69\\u002fPescatarian Diet\\u002ffemale\",\"70-79\\u002fPescatarian Diet\\u002ffemale\",\"20-29\\u002fModerate Meat Consumption (50-99 g\\u002fday)\\u002ffemale\",\"30-39\\u002fModerate Meat Consumption (50-99 g\\u002fday)\\u002ffemale\",\"40-49\\u002fModerate Meat Consumption (50-99 g\\u002fday)\\u002ffemale\",\"50-59\\u002fModerate Meat Consumption (50-99 g\\u002fday)\\u002ffemale\",\"60-69\\u002fModerate Meat Consumption (50-99 g\\u002fday)\\u002ffemale\",\"70-79\\u002fModerate Meat Consumption (50-99 g\\u002fday)\\u002ffemale\",\"20-29\\u002fHigh Meat Consumption (100+ g\\u002fday)\\u002ffemale\",\"30-39\\u002fHigh Meat Consumption (100+ g\\u002fday)\\u002ffemale\",\"40-49\\u002fHigh Meat Consumption (100+ g\\u002fday)\\u002ffemale\",\"50-59\\u002fHigh Meat Consumption (100+ g\\u002fday)\\u002ffemale\",\"60-69\\u002fHigh Meat Consumption (100+ g\\u002fday)\\u002ffemale\",\"70-79\\u002fHigh Meat Consumption (100+ g\\u002fday)\\u002ffemale\",\"20-29\\u002fLow Meat Consumption (\\u003c50 g\\u002fday)\\u002ffemale\",\"30-39\\u002fLow Meat Consumption (\\u003c50 g\\u002fday)\\u002ffemale\",\"40-49\\u002fLow Meat Consumption (\\u003c50 g\\u002fday)\\u002ffemale\",\"50-59\\u002fLow Meat Consumption (\\u003c50 g\\u002fday)\\u002ffemale\",\"60-69\\u002fLow Meat Consumption (\\u003c50 g\\u002fday)\\u002ffemale\",\"70-79\\u002fLow Meat Consumption (\\u003c50 g\\u002fday)\\u002ffemale\",\"20-29\\u002fVegan Diet\\u002ffemale\",\"30-39\\u002fVegan Diet\\u002ffemale\",\"40-49\\u002fVegan Diet\\u002ffemale\",\"50-59\\u002fVegan Diet\\u002ffemale\",\"60-69\\u002fVegan Diet\\u002ffemale\",\"70-79\\u002fVegan Diet\\u002ffemale\",\"20-29\\u002fVegetarian Diet\\u002ffemale\",\"30-39\\u002fVegetarian Diet\\u002ffemale\",\"40-49\\u002fVegetarian Diet\\u002ffemale\",\"50-59\\u002fVegetarian Diet\\u002ffemale\",\"60-69\\u002fVegetarian Diet\\u002ffemale\",\"70-79\\u002fVegetarian Diet\\u002ffemale\",\"20-29\\u002fPescatarian Diet\\u002fmale\",\"30-39\\u002fPescatarian Diet\\u002fmale\",\"40-49\\u002fPescatarian Diet\\u002fmale\",\"50-59\\u002fPescatarian Diet\\u002fmale\",\"60-69\\u002fPescatarian Diet\\u002fmale\",\"70-79\\u002fPescatarian Diet\\u002fmale\",\"20-29\\u002fModerate Meat Consumption (50-99 g\\u002fday)\\u002fmale\",\"30-39\\u002fModerate Meat Consumption (50-99 g\\u002fday)\\u002fmale\",\"40-49\\u002fModerate Meat Consumption (50-99 g\\u002fday)\\u002fmale\",\"50-59\\u002fModerate Meat Consumption (50-99 g\\u002fday)\\u002fmale\",\"60-69\\u002fModerate Meat Consumption (50-99 g\\u002fday)\\u002fmale\",\"70-79\\u002fModerate Meat Consumption (50-99 g\\u002fday)\\u002fmale\",\"20-29\\u002fHigh Meat Consumption (100+ g\\u002fday)\\u002fmale\",\"30-39\\u002fHigh Meat Consumption (100+ g\\u002fday)\\u002fmale\",\"40-49\\u002fHigh Meat Consumption (100+ g\\u002fday)\\u002fmale\",\"50-59\\u002fHigh Meat Consumption (100+ g\\u002fday)\\u002fmale\",\"60-69\\u002fHigh Meat Consumption (100+ g\\u002fday)\\u002fmale\",\"70-79\\u002fHigh Meat Consumption (100+ g\\u002fday)\\u002fmale\",\"20-29\\u002fLow Meat Consumption (\\u003c50 g\\u002fday)\\u002fmale\",\"30-39\\u002fLow Meat Consumption (\\u003c50 g\\u002fday)\\u002fmale\",\"40-49\\u002fLow Meat Consumption (\\u003c50 g\\u002fday)\\u002fmale\",\"50-59\\u002fLow Meat Consumption (\\u003c50 g\\u002fday)\\u002fmale\",\"60-69\\u002fLow Meat Consumption (\\u003c50 g\\u002fday)\\u002fmale\",\"70-79\\u002fLow Meat Consumption (\\u003c50 g\\u002fday)\\u002fmale\",\"20-29\\u002fVegan Diet\\u002fmale\",\"30-39\\u002fVegan Diet\\u002fmale\",\"40-49\\u002fVegan Diet\\u002fmale\",\"50-59\\u002fVegan Diet\\u002fmale\",\"60-69\\u002fVegan Diet\\u002fmale\",\"70-79\\u002fVegan Diet\\u002fmale\",\"20-29\\u002fVegetarian Diet\\u002fmale\",\"30-39\\u002fVegetarian Diet\\u002fmale\",\"40-49\\u002fVegetarian Diet\\u002fmale\",\"50-59\\u002fVegetarian Diet\\u002fmale\",\"60-69\\u002fVegetarian Diet\\u002fmale\",\"70-79\\u002fVegetarian Diet\\u002fmale\",\"20-29\\u002fPescatarian Diet\",\"30-39\\u002fPescatarian Diet\",\"40-49\\u002fPescatarian Diet\",\"50-59\\u002fPescatarian Diet\",\"60-69\\u002fPescatarian Diet\",\"70-79\\u002fPescatarian Diet\",\"20-29\\u002fModerate Meat Consumption (50-99 g\\u002fday)\",\"30-39\\u002fModerate Meat Consumption (50-99 g\\u002fday)\",\"40-49\\u002fModerate Meat Consumption (50-99 g\\u002fday)\",\"50-59\\u002fModerate Meat Consumption (50-99 g\\u002fday)\",\"60-69\\u002fModerate Meat Consumption (50-99 g\\u002fday)\",\"70-79\\u002fModerate Meat Consumption (50-99 g\\u002fday)\",\"20-29\\u002fHigh Meat Consumption (100+ g\\u002fday)\",\"30-39\\u002fHigh Meat Consumption (100+ g\\u002fday)\",\"40-49\\u002fHigh Meat Consumption (100+ g\\u002fday)\",\"50-59\\u002fHigh Meat Consumption (100+ g\\u002fday)\",\"60-69\\u002fHigh Meat Consumption (100+ g\\u002fday)\",\"70-79\\u002fHigh Meat Consumption (100+ g\\u002fday)\",\"20-29\\u002fLow Meat Consumption (\\u003c50 g\\u002fday)\",\"30-39\\u002fLow Meat Consumption (\\u003c50 g\\u002fday)\",\"40-49\\u002fLow Meat Consumption (\\u003c50 g\\u002fday)\",\"50-59\\u002fLow Meat Consumption (\\u003c50 g\\u002fday)\",\"60-69\\u002fLow Meat Consumption (\\u003c50 g\\u002fday)\",\"70-79\\u002fLow Meat Consumption (\\u003c50 g\\u002fday)\",\"20-29\\u002fVegan Diet\",\"30-39\\u002fVegan Diet\",\"40-49\\u002fVegan Diet\",\"50-59\\u002fVegan Diet\",\"60-69\\u002fVegan Diet\",\"70-79\\u002fVegan Diet\",\"20-29\\u002fVegetarian Diet\",\"30-39\\u002fVegetarian Diet\",\"40-49\\u002fVegetarian Diet\",\"50-59\\u002fVegetarian Diet\",\"60-69\\u002fVegetarian Diet\",\"70-79\\u002fVegetarian Diet\",\"20-29\",\"30-39\",\"40-49\",\"50-59\",\"60-69\",\"70-79\"],\"labels\":[\"female\",\"female\",\"female\",\"female\",\"female\",\"female\",\"female\",\"female\",\"female\",\"female\",\"female\",\"female\",\"female\",\"female\",\"female\",\"female\",\"female\",\"female\",\"female\",\"female\",\"female\",\"female\",\"female\",\"female\",\"female\",\"female\",\"female\",\"female\",\"female\",\"female\",\"female\",\"female\",\"female\",\"female\",\"female\",\"female\",\"male\",\"male\",\"male\",\"male\",\"male\",\"male\",\"male\",\"male\",\"male\",\"male\",\"male\",\"male\",\"male\",\"male\",\"male\",\"male\",\"male\",\"male\",\"male\",\"male\",\"male\",\"male\",\"male\",\"male\",\"male\",\"male\",\"male\",\"male\",\"male\",\"male\",\"male\",\"male\",\"male\",\"male\",\"male\",\"male\",\"Pescatarian Diet\",\"Pescatarian Diet\",\"Pescatarian Diet\",\"Pescatarian Diet\",\"Pescatarian Diet\",\"Pescatarian Diet\",\"Moderate Meat Consumption (50-99 g\\u002fday)\",\"Moderate Meat Consumption (50-99 g\\u002fday)\",\"Moderate Meat Consumption (50-99 g\\u002fday)\",\"Moderate Meat Consumption (50-99 g\\u002fday)\",\"Moderate Meat Consumption (50-99 g\\u002fday)\",\"Moderate Meat Consumption (50-99 g\\u002fday)\",\"High Meat Consumption (100+ g\\u002fday)\",\"High Meat Consumption (100+ g\\u002fday)\",\"High Meat Consumption (100+ g\\u002fday)\",\"High Meat Consumption (100+ g\\u002fday)\",\"High Meat Consumption (100+ g\\u002fday)\",\"High Meat Consumption (100+ g\\u002fday)\",\"Low Meat Consumption (\\u003c50 g\\u002fday)\",\"Low Meat Consumption (\\u003c50 g\\u002fday)\",\"Low Meat Consumption (\\u003c50 g\\u002fday)\",\"Low Meat Consumption (\\u003c50 g\\u002fday)\",\"Low Meat Consumption (\\u003c50 g\\u002fday)\",\"Low Meat Consumption (\\u003c50 g\\u002fday)\",\"Vegan Diet\",\"Vegan Diet\",\"Vegan Diet\",\"Vegan Diet\",\"Vegan Diet\",\"Vegan Diet\",\"Vegetarian Diet\",\"Vegetarian Diet\",\"Vegetarian Diet\",\"Vegetarian Diet\",\"Vegetarian Diet\",\"Vegetarian Diet\",\"20-29\",\"30-39\",\"40-49\",\"50-59\",\"60-69\",\"70-79\"],\"marker\":{\"coloraxis\":\"coloraxis\",\"colors\":[19537.120507701577,20207.429299720316,20219.193090215915,20870.198487559286,21305.26797961484,21158.377592398712,21559.559885614985,21412.39221869109,21181.485207107802,21216.434026942454,21685.16998790814,21973.12317502692,25114.435920772008,25027.43378860133,24429.083635759805,24634.618225434286,24838.539241907347,25325.243793694193,19463.008825185123,19959.316563328306,19705.876142403726,20009.15398358011,20202.08421589938,20222.910120777975,16279.872237331636,17067.736068286118,18660.254741117853,17391.15109894527,17988.956828463048,20368.06475093781,17487.388129124265,17897.142729189105,18121.84481804262,18660.86723873851,19047.8721712723,19283.578330286036,22964.85811236807,21741.18094424467,21067.780140083934,21047.14809934763,21159.21154148671,22120.378818063662,22880.07503514441,22918.010534543562,21482.058636909453,21300.94324399365,21440.53762892254,21551.048692107586,27549.739652217133,26422.349519327236,24663.011101188567,24856.93657799301,24926.694399279226,25503.033691278415,19946.39299029788,21426.761543493594,20356.72091685712,20104.42365369702,19787.72800712503,20588.601927252308,19148.86016510941,18413.771659708196,18160.13661087699,16787.331193264756,20327.541094002692,19515.86725499271,19482.845677924855,19313.65772001963,19063.319035933655,18673.92302833476,19046.73811445299,20305.434638520004,21368.324952896775,21001.49408160173,20650.15762280663,20958.70487491788,21232.56017460489,21649.930991364577,22240.12997642527,22190.440982234697,21332.787997127838,21258.742572040745,21563.757831224495,21764.232237736527,26392.77125462649,25744.241591639053,24546.60375676409,24746.317290258543,24882.755837056346,25414.603641626432,19707.67232003486,20718.425787139622,20036.200244492502,20056.712246705512,19996.990820727482,20407.17602682469,17829.42056975272,17768.398700482117,18413.930916687685,17096.82791204192,19208.002865182785,19947.654970750176,18536.980702493565,18630.49925951033,18602.539837069005,18667.387233579797,19047.306640654642,19806.02789499302,21459.896279804703,21390.281680095675,20852.126870952947,20782.00249536345,21211.108935255295,21707.66980028146]},\"name\":\"\",\"parents\":[\"20-29\\u002fPescatarian Diet\",\"30-39\\u002fPescatarian Diet\",\"40-49\\u002fPescatarian Diet\",\"50-59\\u002fPescatarian Diet\",\"60-69\\u002fPescatarian Diet\",\"70-79\\u002fPescatarian Diet\",\"20-29\\u002fModerate Meat Consumption (50-99 g\\u002fday)\",\"30-39\\u002fModerate Meat Consumption (50-99 g\\u002fday)\",\"40-49\\u002fModerate Meat Consumption (50-99 g\\u002fday)\",\"50-59\\u002fModerate Meat Consumption (50-99 g\\u002fday)\",\"60-69\\u002fModerate Meat Consumption (50-99 g\\u002fday)\",\"70-79\\u002fModerate Meat Consumption (50-99 g\\u002fday)\",\"20-29\\u002fHigh Meat Consumption (100+ g\\u002fday)\",\"30-39\\u002fHigh Meat Consumption (100+ g\\u002fday)\",\"40-49\\u002fHigh Meat Consumption (100+ g\\u002fday)\",\"50-59\\u002fHigh Meat Consumption (100+ g\\u002fday)\",\"60-69\\u002fHigh Meat Consumption (100+ g\\u002fday)\",\"70-79\\u002fHigh Meat Consumption (100+ g\\u002fday)\",\"20-29\\u002fLow Meat Consumption (\\u003c50 g\\u002fday)\",\"30-39\\u002fLow Meat Consumption (\\u003c50 g\\u002fday)\",\"40-49\\u002fLow Meat Consumption (\\u003c50 g\\u002fday)\",\"50-59\\u002fLow Meat Consumption (\\u003c50 g\\u002fday)\",\"60-69\\u002fLow Meat Consumption (\\u003c50 g\\u002fday)\",\"70-79\\u002fLow Meat Consumption (\\u003c50 g\\u002fday)\",\"20-29\\u002fVegan Diet\",\"30-39\\u002fVegan Diet\",\"40-49\\u002fVegan Diet\",\"50-59\\u002fVegan Diet\",\"60-69\\u002fVegan Diet\",\"70-79\\u002fVegan Diet\",\"20-29\\u002fVegetarian Diet\",\"30-39\\u002fVegetarian Diet\",\"40-49\\u002fVegetarian Diet\",\"50-59\\u002fVegetarian Diet\",\"60-69\\u002fVegetarian Diet\",\"70-79\\u002fVegetarian Diet\",\"20-29\\u002fPescatarian Diet\",\"30-39\\u002fPescatarian Diet\",\"40-49\\u002fPescatarian Diet\",\"50-59\\u002fPescatarian Diet\",\"60-69\\u002fPescatarian Diet\",\"70-79\\u002fPescatarian Diet\",\"20-29\\u002fModerate Meat Consumption (50-99 g\\u002fday)\",\"30-39\\u002fModerate Meat Consumption (50-99 g\\u002fday)\",\"40-49\\u002fModerate Meat Consumption (50-99 g\\u002fday)\",\"50-59\\u002fModerate Meat Consumption (50-99 g\\u002fday)\",\"60-69\\u002fModerate Meat Consumption (50-99 g\\u002fday)\",\"70-79\\u002fModerate Meat Consumption (50-99 g\\u002fday)\",\"20-29\\u002fHigh Meat Consumption (100+ g\\u002fday)\",\"30-39\\u002fHigh Meat Consumption (100+ g\\u002fday)\",\"40-49\\u002fHigh Meat Consumption (100+ g\\u002fday)\",\"50-59\\u002fHigh Meat Consumption (100+ g\\u002fday)\",\"60-69\\u002fHigh Meat Consumption (100+ g\\u002fday)\",\"70-79\\u002fHigh Meat Consumption (100+ g\\u002fday)\",\"20-29\\u002fLow Meat Consumption (\\u003c50 g\\u002fday)\",\"30-39\\u002fLow Meat Consumption (\\u003c50 g\\u002fday)\",\"40-49\\u002fLow Meat Consumption (\\u003c50 g\\u002fday)\",\"50-59\\u002fLow Meat Consumption (\\u003c50 g\\u002fday)\",\"60-69\\u002fLow Meat Consumption (\\u003c50 g\\u002fday)\",\"70-79\\u002fLow Meat Consumption (\\u003c50 g\\u002fday)\",\"20-29\\u002fVegan Diet\",\"30-39\\u002fVegan Diet\",\"40-49\\u002fVegan Diet\",\"50-59\\u002fVegan Diet\",\"60-69\\u002fVegan Diet\",\"70-79\\u002fVegan Diet\",\"20-29\\u002fVegetarian Diet\",\"30-39\\u002fVegetarian Diet\",\"40-49\\u002fVegetarian Diet\",\"50-59\\u002fVegetarian Diet\",\"60-69\\u002fVegetarian Diet\",\"70-79\\u002fVegetarian Diet\",\"20-29\",\"30-39\",\"40-49\",\"50-59\",\"60-69\",\"70-79\",\"20-29\",\"30-39\",\"40-49\",\"50-59\",\"60-69\",\"70-79\",\"20-29\",\"30-39\",\"40-49\",\"50-59\",\"60-69\",\"70-79\",\"20-29\",\"30-39\",\"40-49\",\"50-59\",\"60-69\",\"70-79\",\"20-29\",\"30-39\",\"40-49\",\"50-59\",\"60-69\",\"70-79\",\"20-29\",\"30-39\",\"40-49\",\"50-59\",\"60-69\",\"70-79\",\"\",\"\",\"\",\"\",\"\",\"\"],\"values\":[18195649.52202897,18718909.072566453,18788113.642056547,19539226.469482712,20060079.906454377,20085902.633377776,20099432.389927752,20084268.867803115,19998456.095821124,20165291.45397411,20765334.648605168,21080064.544857763,23568915.640000615,23564600.095063496,23154657.67614374,23469785.110891294,23780490.300269462,24252151.023404796,18040130.342048276,18591226.657598354,18475965.812157977,18935179.43040133,19195782.66431341,19294508.71694375,14075997.1338929,14556169.056828521,15914502.352446238,15709665.926831424,16274357.831753777,17246225.151088476,15954088.451590097,16319370.09529747,16638534.93544968,17229765.123260204,17684801.57990096,18054805.458853185,20870192.44810901,20095025.612129256,19388347.799823236,19553180.673199102,19884820.157079484,20987010.99335652,21375385.809255622,21477727.46905411,20270712.363916703,20216837.87056049,20460638.89561264,20655601.856728945,26041314.270978324,24909440.71571474,23376000.76151951,23698878.39818427,23930967.670670237,24507150.408826485,18489229.827342823,19923844.746158734,19041070.805508465,18874401.374036904,18813319.82415729,19596541.188849647,16530834.729187654,15803208.951112274,15446056.091902787,14939476.447571108,17720870.001795925,16791773.967252284,17703682.014476076,17518507.523412883,17357686.473421723,17188113.141841725,17591619.756043177,18887861.19752802,39065841.97013798,38813934.684695706,38176461.44187978,39092407.142681815,39944900.06353386,41072913.626734294,41474818.199183375,41561996.33685723,40269168.45973782,40382129.3245346,41225973.54421781,41735666.40158671,49610229.91097894,48474040.81077824,46530658.43766325,47168663.50907557,47711457.9709397,48759301.43223128,36529360.169391096,38515071.40375709,37517036.617666446,37809580.80443823,38009102.4884707,38891049.90579339,30606831.863080554,30359378.007940795,31360558.444349024,30649142.374402534,33995227.8335497,34037999.11834076,33657770.466066174,33837877.618710354,33996221.408871405,34417878.265101925,35276421.33594414,36942666.656381205,230944852.5788381,231562298.8627394,227850104.81016773,229519801.42023468,236163083.23665592,241439597.14106765],\"type\":\"sunburst\"}],                        {\"template\":{\"data\":{\"histogram2dcontour\":[{\"type\":\"histogram2dcontour\",\"colorbar\":{\"outlinewidth\":0,\"ticks\":\"\"},\"colorscale\":[[0.0,\"#0d0887\"],[0.1111111111111111,\"#46039f\"],[0.2222222222222222,\"#7201a8\"],[0.3333333333333333,\"#9c179e\"],[0.4444444444444444,\"#bd3786\"],[0.5555555555555556,\"#d8576b\"],[0.6666666666666666,\"#ed7953\"],[0.7777777777777778,\"#fb9f3a\"],[0.8888888888888888,\"#fdca26\"],[1.0,\"#f0f921\"]]}],\"choropleth\":[{\"type\":\"choropleth\",\"colorbar\":{\"outlinewidth\":0,\"ticks\":\"\"}}],\"histogram2d\":[{\"type\":\"histogram2d\",\"colorbar\":{\"outlinewidth\":0,\"ticks\":\"\"},\"colorscale\":[[0.0,\"#0d0887\"],[0.1111111111111111,\"#46039f\"],[0.2222222222222222,\"#7201a8\"],[0.3333333333333333,\"#9c179e\"],[0.4444444444444444,\"#bd3786\"],[0.5555555555555556,\"#d8576b\"],[0.6666666666666666,\"#ed7953\"],[0.7777777777777778,\"#fb9f3a\"],[0.8888888888888888,\"#fdca26\"],[1.0,\"#f0f921\"]]}],\"heatmap\":[{\"type\":\"heatmap\",\"colorbar\":{\"outlinewidth\":0,\"ticks\":\"\"},\"colorscale\":[[0.0,\"#0d0887\"],[0.1111111111111111,\"#46039f\"],[0.2222222222222222,\"#7201a8\"],[0.3333333333333333,\"#9c179e\"],[0.4444444444444444,\"#bd3786\"],[0.5555555555555556,\"#d8576b\"],[0.6666666666666666,\"#ed7953\"],[0.7777777777777778,\"#fb9f3a\"],[0.8888888888888888,\"#fdca26\"],[1.0,\"#f0f921\"]]}],\"heatmapgl\":[{\"type\":\"heatmapgl\",\"colorbar\":{\"outlinewidth\":0,\"ticks\":\"\"},\"colorscale\":[[0.0,\"#0d0887\"],[0.1111111111111111,\"#46039f\"],[0.2222222222222222,\"#7201a8\"],[0.3333333333333333,\"#9c179e\"],[0.4444444444444444,\"#bd3786\"],[0.5555555555555556,\"#d8576b\"],[0.6666666666666666,\"#ed7953\"],[0.7777777777777778,\"#fb9f3a\"],[0.8888888888888888,\"#fdca26\"],[1.0,\"#f0f921\"]]}],\"contourcarpet\":[{\"type\":\"contourcarpet\",\"colorbar\":{\"outlinewidth\":0,\"ticks\":\"\"}}],\"contour\":[{\"type\":\"contour\",\"colorbar\":{\"outlinewidth\":0,\"ticks\":\"\"},\"colorscale\":[[0.0,\"#0d0887\"],[0.1111111111111111,\"#46039f\"],[0.2222222222222222,\"#7201a8\"],[0.3333333333333333,\"#9c179e\"],[0.4444444444444444,\"#bd3786\"],[0.5555555555555556,\"#d8576b\"],[0.6666666666666666,\"#ed7953\"],[0.7777777777777778,\"#fb9f3a\"],[0.8888888888888888,\"#fdca26\"],[1.0,\"#f0f921\"]]}],\"surface\":[{\"type\":\"surface\",\"colorbar\":{\"outlinewidth\":0,\"ticks\":\"\"},\"colorscale\":[[0.0,\"#0d0887\"],[0.1111111111111111,\"#46039f\"],[0.2222222222222222,\"#7201a8\"],[0.3333333333333333,\"#9c179e\"],[0.4444444444444444,\"#bd3786\"],[0.5555555555555556,\"#d8576b\"],[0.6666666666666666,\"#ed7953\"],[0.7777777777777778,\"#fb9f3a\"],[0.8888888888888888,\"#fdca26\"],[1.0,\"#f0f921\"]]}],\"mesh3d\":[{\"type\":\"mesh3d\",\"colorbar\":{\"outlinewidth\":0,\"ticks\":\"\"}}],\"scatter\":[{\"fillpattern\":{\"fillmode\":\"overlay\",\"size\":10,\"solidity\":0.2},\"type\":\"scatter\"}],\"parcoords\":[{\"type\":\"parcoords\",\"line\":{\"colorbar\":{\"outlinewidth\":0,\"ticks\":\"\"}}}],\"scatterpolargl\":[{\"type\":\"scatterpolargl\",\"marker\":{\"colorbar\":{\"outlinewidth\":0,\"ticks\":\"\"}}}],\"bar\":[{\"error_x\":{\"color\":\"#2a3f5f\"},\"error_y\":{\"color\":\"#2a3f5f\"},\"marker\":{\"line\":{\"color\":\"#E5ECF6\",\"width\":0.5},\"pattern\":{\"fillmode\":\"overlay\",\"size\":10,\"solidity\":0.2}},\"type\":\"bar\"}],\"scattergeo\":[{\"type\":\"scattergeo\",\"marker\":{\"colorbar\":{\"outlinewidth\":0,\"ticks\":\"\"}}}],\"scatterpolar\":[{\"type\":\"scatterpolar\",\"marker\":{\"colorbar\":{\"outlinewidth\":0,\"ticks\":\"\"}}}],\"histogram\":[{\"marker\":{\"pattern\":{\"fillmode\":\"overlay\",\"size\":10,\"solidity\":0.2}},\"type\":\"histogram\"}],\"scattergl\":[{\"type\":\"scattergl\",\"marker\":{\"colorbar\":{\"outlinewidth\":0,\"ticks\":\"\"}}}],\"scatter3d\":[{\"type\":\"scatter3d\",\"line\":{\"colorbar\":{\"outlinewidth\":0,\"ticks\":\"\"}},\"marker\":{\"colorbar\":{\"outlinewidth\":0,\"ticks\":\"\"}}}],\"scattermapbox\":[{\"type\":\"scattermapbox\",\"marker\":{\"colorbar\":{\"outlinewidth\":0,\"ticks\":\"\"}}}],\"scatterternary\":[{\"type\":\"scatterternary\",\"marker\":{\"colorbar\":{\"outlinewidth\":0,\"ticks\":\"\"}}}],\"scattercarpet\":[{\"type\":\"scattercarpet\",\"marker\":{\"colorbar\":{\"outlinewidth\":0,\"ticks\":\"\"}}}],\"carpet\":[{\"aaxis\":{\"endlinecolor\":\"#2a3f5f\",\"gridcolor\":\"white\",\"linecolor\":\"white\",\"minorgridcolor\":\"white\",\"startlinecolor\":\"#2a3f5f\"},\"baxis\":{\"endlinecolor\":\"#2a3f5f\",\"gridcolor\":\"white\",\"linecolor\":\"white\",\"minorgridcolor\":\"white\",\"startlinecolor\":\"#2a3f5f\"},\"type\":\"carpet\"}],\"table\":[{\"cells\":{\"fill\":{\"color\":\"#EBF0F8\"},\"line\":{\"color\":\"white\"}},\"header\":{\"fill\":{\"color\":\"#C8D4E3\"},\"line\":{\"color\":\"white\"}},\"type\":\"table\"}],\"barpolar\":[{\"marker\":{\"line\":{\"color\":\"#E5ECF6\",\"width\":0.5},\"pattern\":{\"fillmode\":\"overlay\",\"size\":10,\"solidity\":0.2}},\"type\":\"barpolar\"}],\"pie\":[{\"automargin\":true,\"type\":\"pie\"}]},\"layout\":{\"autotypenumbers\":\"strict\",\"colorway\":[\"#636efa\",\"#EF553B\",\"#00cc96\",\"#ab63fa\",\"#FFA15A\",\"#19d3f3\",\"#FF6692\",\"#B6E880\",\"#FF97FF\",\"#FECB52\"],\"font\":{\"color\":\"#2a3f5f\"},\"hovermode\":\"closest\",\"hoverlabel\":{\"align\":\"left\"},\"paper_bgcolor\":\"white\",\"plot_bgcolor\":\"#E5ECF6\",\"polar\":{\"bgcolor\":\"#E5ECF6\",\"angularaxis\":{\"gridcolor\":\"white\",\"linecolor\":\"white\",\"ticks\":\"\"},\"radialaxis\":{\"gridcolor\":\"white\",\"linecolor\":\"white\",\"ticks\":\"\"}},\"ternary\":{\"bgcolor\":\"#E5ECF6\",\"aaxis\":{\"gridcolor\":\"white\",\"linecolor\":\"white\",\"ticks\":\"\"},\"baxis\":{\"gridcolor\":\"white\",\"linecolor\":\"white\",\"ticks\":\"\"},\"caxis\":{\"gridcolor\":\"white\",\"linecolor\":\"white\",\"ticks\":\"\"}},\"coloraxis\":{\"colorbar\":{\"outlinewidth\":0,\"ticks\":\"\"}},\"colorscale\":{\"sequential\":[[0.0,\"#0d0887\"],[0.1111111111111111,\"#46039f\"],[0.2222222222222222,\"#7201a8\"],[0.3333333333333333,\"#9c179e\"],[0.4444444444444444,\"#bd3786\"],[0.5555555555555556,\"#d8576b\"],[0.6666666666666666,\"#ed7953\"],[0.7777777777777778,\"#fb9f3a\"],[0.8888888888888888,\"#fdca26\"],[1.0,\"#f0f921\"]],\"sequentialminus\":[[0.0,\"#0d0887\"],[0.1111111111111111,\"#46039f\"],[0.2222222222222222,\"#7201a8\"],[0.3333333333333333,\"#9c179e\"],[0.4444444444444444,\"#bd3786\"],[0.5555555555555556,\"#d8576b\"],[0.6666666666666666,\"#ed7953\"],[0.7777777777777778,\"#fb9f3a\"],[0.8888888888888888,\"#fdca26\"],[1.0,\"#f0f921\"]],\"diverging\":[[0,\"#8e0152\"],[0.1,\"#c51b7d\"],[0.2,\"#de77ae\"],[0.3,\"#f1b6da\"],[0.4,\"#fde0ef\"],[0.5,\"#f7f7f7\"],[0.6,\"#e6f5d0\"],[0.7,\"#b8e186\"],[0.8,\"#7fbc41\"],[0.9,\"#4d9221\"],[1,\"#276419\"]]},\"xaxis\":{\"gridcolor\":\"white\",\"linecolor\":\"white\",\"ticks\":\"\",\"title\":{\"standoff\":15},\"zerolinecolor\":\"white\",\"automargin\":true,\"zerolinewidth\":2},\"yaxis\":{\"gridcolor\":\"white\",\"linecolor\":\"white\",\"ticks\":\"\",\"title\":{\"standoff\":15},\"zerolinecolor\":\"white\",\"automargin\":true,\"zerolinewidth\":2},\"scene\":{\"xaxis\":{\"backgroundcolor\":\"#E5ECF6\",\"gridcolor\":\"white\",\"linecolor\":\"white\",\"showbackground\":true,\"ticks\":\"\",\"zerolinecolor\":\"white\",\"gridwidth\":2},\"yaxis\":{\"backgroundcolor\":\"#E5ECF6\",\"gridcolor\":\"white\",\"linecolor\":\"white\",\"showbackground\":true,\"ticks\":\"\",\"zerolinecolor\":\"white\",\"gridwidth\":2},\"zaxis\":{\"backgroundcolor\":\"#E5ECF6\",\"gridcolor\":\"white\",\"linecolor\":\"white\",\"showbackground\":true,\"ticks\":\"\",\"zerolinecolor\":\"white\",\"gridwidth\":2}},\"shapedefaults\":{\"line\":{\"color\":\"#2a3f5f\"}},\"annotationdefaults\":{\"arrowcolor\":\"#2a3f5f\",\"arrowhead\":0,\"arrowwidth\":1},\"geo\":{\"bgcolor\":\"white\",\"landcolor\":\"#E5ECF6\",\"subunitcolor\":\"white\",\"showland\":true,\"showlakes\":true,\"lakecolor\":\"white\"},\"title\":{\"x\":0.05},\"mapbox\":{\"style\":\"light\"}}},\"coloraxis\":{\"colorbar\":{\"title\":{\"text\":\"total_impact\"}},\"colorscale\":[[0.0,\"#0d0887\"],[0.1111111111111111,\"#46039f\"],[0.2222222222222222,\"#7201a8\"],[0.3333333333333333,\"#9c179e\"],[0.4444444444444444,\"#bd3786\"],[0.5555555555555556,\"#d8576b\"],[0.6666666666666666,\"#ed7953\"],[0.7777777777777778,\"#fb9f3a\"],[0.8888888888888888,\"#fdca26\"],[1.0,\"#f0f921\"]]},\"legend\":{\"tracegroupgap\":0},\"title\":{\"text\":\"Interactive Environmental Impact by Age Group, Diet Group, and Gender\"}},                        {\"responsive\": true}                    ).then(function(){\n",
       "                            \n",
       "var gd = document.getElementById('2dad877a-c2f5-4b56-8ebc-37878d376c8a');\n",
       "var x = new MutationObserver(function (mutations, observer) {{\n",
       "        var display = window.getComputedStyle(gd).display;\n",
       "        if (!display || display === 'none') {{\n",
       "            console.log([gd, 'removed!']);\n",
       "            Plotly.purge(gd);\n",
       "            observer.disconnect();\n",
       "        }}\n",
       "}});\n",
       "\n",
       "// Listen for the removal of the full notebook cells\n",
       "var notebookContainer = gd.closest('#notebook-container');\n",
       "if (notebookContainer) {{\n",
       "    x.observe(notebookContainer, {childList: true});\n",
       "}}\n",
       "\n",
       "// Listen for the clearing of the current output cell\n",
       "var outputEl = gd.closest('.output');\n",
       "if (outputEl) {{\n",
       "    x.observe(outputEl, {childList: true});\n",
       "}}\n",
       "\n",
       "                        })                };                });            </script>        </div>"
      ]
     },
     "metadata": {},
     "output_type": "display_data"
    }
   ],
   "source": [
    "# Assuming 'df' is your DataFrame and you have hierarchical data such as age_group -> diet_group -> sex\n",
    "# You also need a measure to sum up for the sizes of the Sunburst segments, such as 'total_impact'\n",
    "fig = px.sunburst(\n",
    "    df,\n",
    "    path=['age_group', 'diet_group', 'sex'],  # Define hierarchy\n",
    "    values='total_impact',  # Define the size of the segments\n",
    "    color='total_impact',  # Color segments by their size/value\n",
    "    title='Interactive Environmental Impact by Age Group, Diet Group, and Gender'\n",
    ")\n",
    "\n",
    "# Show the interactive figure\n",
    "fig.show()\n"
   ]
  },
  {
   "cell_type": "code",
   "execution_count": 51,
   "metadata": {
    "colab": {
     "base_uri": "https://localhost:8080/",
     "height": 716
    },
    "id": "vMuCKwV-4t-l",
    "outputId": "dad6775b-d6a2-4842-f41c-b87601a846d3"
   },
   "outputs": [
    {
     "name": "stderr",
     "output_type": "stream",
     "text": [
      "c:\\users\\neeraj\\appdata\\local\\programs\\python\\python312\\Lib\\site-packages\\plotly\\express\\_core.py:1706: FutureWarning:\n",
      "\n",
      "The default of observed=False is deprecated and will be changed to True in a future version of pandas. Pass observed=False to retain current behavior or observed=True to adopt the future default and silence this warning.\n",
      "\n",
      "c:\\users\\neeraj\\appdata\\local\\programs\\python\\python312\\Lib\\site-packages\\plotly\\express\\_core.py:1706: FutureWarning:\n",
      "\n",
      "The default of observed=False is deprecated and will be changed to True in a future version of pandas. Pass observed=False to retain current behavior or observed=True to adopt the future default and silence this warning.\n",
      "\n",
      "c:\\users\\neeraj\\appdata\\local\\programs\\python\\python312\\Lib\\site-packages\\plotly\\express\\_core.py:1706: FutureWarning:\n",
      "\n",
      "The default of observed=False is deprecated and will be changed to True in a future version of pandas. Pass observed=False to retain current behavior or observed=True to adopt the future default and silence this warning.\n",
      "\n"
     ]
    },
    {
     "data": {
      "application/vnd.plotly.v1+json": {
       "config": {
        "plotlyServerURL": "https://plot.ly"
       },
       "data": [
        {
         "branchvalues": "total",
         "customdata": [
          [
           19537.120507701577
          ],
          [
           21559.559885614985
          ],
          [
           25114.435920772008
          ],
          [
           19463.008825185123
          ],
          [
           16279.872237331636
          ],
          [
           17487.388129124265
          ],
          [
           20207.429299720316
          ],
          [
           21412.39221869109
          ],
          [
           25027.43378860133
          ],
          [
           19959.316563328306
          ],
          [
           17067.736068286118
          ],
          [
           17897.142729189105
          ],
          [
           20219.193090215915
          ],
          [
           21181.485207107802
          ],
          [
           24429.083635759805
          ],
          [
           19705.876142403726
          ],
          [
           18660.254741117853
          ],
          [
           18121.84481804262
          ],
          [
           20870.198487559286
          ],
          [
           21216.434026942454
          ],
          [
           24634.618225434286
          ],
          [
           20009.15398358011
          ],
          [
           17391.15109894527
          ],
          [
           18660.86723873851
          ],
          [
           21305.26797961484
          ],
          [
           21685.16998790814
          ],
          [
           24838.539241907347
          ],
          [
           20202.08421589938
          ],
          [
           17988.956828463048
          ],
          [
           19047.8721712723
          ],
          [
           21158.377592398712
          ],
          [
           21973.12317502692
          ],
          [
           25325.243793694193
          ],
          [
           20222.910120777975
          ],
          [
           20368.06475093781
          ],
          [
           19283.578330286036
          ],
          [
           22964.85811236807
          ],
          [
           22880.07503514441
          ],
          [
           27549.739652217133
          ],
          [
           19946.39299029788
          ],
          [
           19148.86016510941
          ],
          [
           19482.845677924855
          ],
          [
           21741.18094424467
          ],
          [
           22918.010534543562
          ],
          [
           26422.349519327236
          ],
          [
           21426.761543493594
          ],
          [
           18413.771659708196
          ],
          [
           19313.65772001963
          ],
          [
           21067.780140083934
          ],
          [
           21482.058636909453
          ],
          [
           24663.011101188567
          ],
          [
           20356.72091685712
          ],
          [
           18160.13661087699
          ],
          [
           19063.319035933655
          ],
          [
           21047.14809934763
          ],
          [
           21300.94324399365
          ],
          [
           24856.93657799301
          ],
          [
           20104.42365369702
          ],
          [
           16787.331193264756
          ],
          [
           18673.92302833476
          ],
          [
           21159.21154148671
          ],
          [
           21440.53762892254
          ],
          [
           24926.694399279226
          ],
          [
           19787.72800712503
          ],
          [
           20327.541094002692
          ],
          [
           19046.73811445299
          ],
          [
           22120.378818063662
          ],
          [
           21551.048692107586
          ],
          [
           25503.033691278415
          ],
          [
           20588.601927252308
          ],
          [
           19515.86725499271
          ],
          [
           20305.434638520004
          ],
          [
           21368.324952896775
          ],
          [
           22240.12997642527
          ],
          [
           26392.77125462649
          ],
          [
           19707.67232003486
          ],
          [
           17829.42056975272
          ],
          [
           18536.980702493565
          ],
          [
           21001.49408160173
          ],
          [
           22190.440982234697
          ],
          [
           25744.241591639053
          ],
          [
           20718.425787139622
          ],
          [
           17768.398700482117
          ],
          [
           18630.49925951033
          ],
          [
           20650.15762280663
          ],
          [
           21332.787997127838
          ],
          [
           24546.60375676409
          ],
          [
           20036.200244492502
          ],
          [
           18413.930916687685
          ],
          [
           18602.539837069005
          ],
          [
           20958.70487491788
          ],
          [
           21258.742572040745
          ],
          [
           24746.317290258543
          ],
          [
           20056.712246705512
          ],
          [
           17096.82791204192
          ],
          [
           18667.387233579797
          ],
          [
           21232.56017460489
          ],
          [
           21563.757831224495
          ],
          [
           24882.755837056346
          ],
          [
           19996.990820727482
          ],
          [
           19208.002865182785
          ],
          [
           19047.306640654642
          ],
          [
           21649.930991364577
          ],
          [
           21764.232237736527
          ],
          [
           25414.603641626432
          ],
          [
           20407.17602682469
          ],
          [
           19947.654970750176
          ],
          [
           19806.02789499302
          ],
          [
           21150.152558871272
          ],
          [
           21729.366830869265
          ],
          [
           25300.884592714126
          ],
          [
           20159.347934575744
          ],
          [
           18420.964668223172
          ],
          [
           18896.210159578925
          ]
         ],
         "domain": {
          "x": [
           0,
           1
          ],
          "y": [
           0,
           1
          ]
         },
         "hovertemplate": "labels=%{label}<br>total_impact_sum=%{value}<br>parent=%{parent}<br>id=%{id}<br>total_impact=%{color}<extra></extra>",
         "ids": [
          "Pescatarian Diet/20-29/female",
          "Moderate Meat Consumption (50-99 g/day)/20-29/female",
          "High Meat Consumption (100+ g/day)/20-29/female",
          "Low Meat Consumption (<50 g/day)/20-29/female",
          "Vegan Diet/20-29/female",
          "Vegetarian Diet/20-29/female",
          "Pescatarian Diet/30-39/female",
          "Moderate Meat Consumption (50-99 g/day)/30-39/female",
          "High Meat Consumption (100+ g/day)/30-39/female",
          "Low Meat Consumption (<50 g/day)/30-39/female",
          "Vegan Diet/30-39/female",
          "Vegetarian Diet/30-39/female",
          "Pescatarian Diet/40-49/female",
          "Moderate Meat Consumption (50-99 g/day)/40-49/female",
          "High Meat Consumption (100+ g/day)/40-49/female",
          "Low Meat Consumption (<50 g/day)/40-49/female",
          "Vegan Diet/40-49/female",
          "Vegetarian Diet/40-49/female",
          "Pescatarian Diet/50-59/female",
          "Moderate Meat Consumption (50-99 g/day)/50-59/female",
          "High Meat Consumption (100+ g/day)/50-59/female",
          "Low Meat Consumption (<50 g/day)/50-59/female",
          "Vegan Diet/50-59/female",
          "Vegetarian Diet/50-59/female",
          "Pescatarian Diet/60-69/female",
          "Moderate Meat Consumption (50-99 g/day)/60-69/female",
          "High Meat Consumption (100+ g/day)/60-69/female",
          "Low Meat Consumption (<50 g/day)/60-69/female",
          "Vegan Diet/60-69/female",
          "Vegetarian Diet/60-69/female",
          "Pescatarian Diet/70-79/female",
          "Moderate Meat Consumption (50-99 g/day)/70-79/female",
          "High Meat Consumption (100+ g/day)/70-79/female",
          "Low Meat Consumption (<50 g/day)/70-79/female",
          "Vegan Diet/70-79/female",
          "Vegetarian Diet/70-79/female",
          "Pescatarian Diet/20-29/male",
          "Moderate Meat Consumption (50-99 g/day)/20-29/male",
          "High Meat Consumption (100+ g/day)/20-29/male",
          "Low Meat Consumption (<50 g/day)/20-29/male",
          "Vegan Diet/20-29/male",
          "Vegetarian Diet/20-29/male",
          "Pescatarian Diet/30-39/male",
          "Moderate Meat Consumption (50-99 g/day)/30-39/male",
          "High Meat Consumption (100+ g/day)/30-39/male",
          "Low Meat Consumption (<50 g/day)/30-39/male",
          "Vegan Diet/30-39/male",
          "Vegetarian Diet/30-39/male",
          "Pescatarian Diet/40-49/male",
          "Moderate Meat Consumption (50-99 g/day)/40-49/male",
          "High Meat Consumption (100+ g/day)/40-49/male",
          "Low Meat Consumption (<50 g/day)/40-49/male",
          "Vegan Diet/40-49/male",
          "Vegetarian Diet/40-49/male",
          "Pescatarian Diet/50-59/male",
          "Moderate Meat Consumption (50-99 g/day)/50-59/male",
          "High Meat Consumption (100+ g/day)/50-59/male",
          "Low Meat Consumption (<50 g/day)/50-59/male",
          "Vegan Diet/50-59/male",
          "Vegetarian Diet/50-59/male",
          "Pescatarian Diet/60-69/male",
          "Moderate Meat Consumption (50-99 g/day)/60-69/male",
          "High Meat Consumption (100+ g/day)/60-69/male",
          "Low Meat Consumption (<50 g/day)/60-69/male",
          "Vegan Diet/60-69/male",
          "Vegetarian Diet/60-69/male",
          "Pescatarian Diet/70-79/male",
          "Moderate Meat Consumption (50-99 g/day)/70-79/male",
          "High Meat Consumption (100+ g/day)/70-79/male",
          "Low Meat Consumption (<50 g/day)/70-79/male",
          "Vegan Diet/70-79/male",
          "Vegetarian Diet/70-79/male",
          "Pescatarian Diet/20-29",
          "Moderate Meat Consumption (50-99 g/day)/20-29",
          "High Meat Consumption (100+ g/day)/20-29",
          "Low Meat Consumption (<50 g/day)/20-29",
          "Vegan Diet/20-29",
          "Vegetarian Diet/20-29",
          "Pescatarian Diet/30-39",
          "Moderate Meat Consumption (50-99 g/day)/30-39",
          "High Meat Consumption (100+ g/day)/30-39",
          "Low Meat Consumption (<50 g/day)/30-39",
          "Vegan Diet/30-39",
          "Vegetarian Diet/30-39",
          "Pescatarian Diet/40-49",
          "Moderate Meat Consumption (50-99 g/day)/40-49",
          "High Meat Consumption (100+ g/day)/40-49",
          "Low Meat Consumption (<50 g/day)/40-49",
          "Vegan Diet/40-49",
          "Vegetarian Diet/40-49",
          "Pescatarian Diet/50-59",
          "Moderate Meat Consumption (50-99 g/day)/50-59",
          "High Meat Consumption (100+ g/day)/50-59",
          "Low Meat Consumption (<50 g/day)/50-59",
          "Vegan Diet/50-59",
          "Vegetarian Diet/50-59",
          "Pescatarian Diet/60-69",
          "Moderate Meat Consumption (50-99 g/day)/60-69",
          "High Meat Consumption (100+ g/day)/60-69",
          "Low Meat Consumption (<50 g/day)/60-69",
          "Vegan Diet/60-69",
          "Vegetarian Diet/60-69",
          "Pescatarian Diet/70-79",
          "Moderate Meat Consumption (50-99 g/day)/70-79",
          "High Meat Consumption (100+ g/day)/70-79",
          "Low Meat Consumption (<50 g/day)/70-79",
          "Vegan Diet/70-79",
          "Vegetarian Diet/70-79",
          "Pescatarian Diet",
          "Moderate Meat Consumption (50-99 g/day)",
          "High Meat Consumption (100+ g/day)",
          "Low Meat Consumption (<50 g/day)",
          "Vegan Diet",
          "Vegetarian Diet"
         ],
         "labels": [
          "female",
          "female",
          "female",
          "female",
          "female",
          "female",
          "female",
          "female",
          "female",
          "female",
          "female",
          "female",
          "female",
          "female",
          "female",
          "female",
          "female",
          "female",
          "female",
          "female",
          "female",
          "female",
          "female",
          "female",
          "female",
          "female",
          "female",
          "female",
          "female",
          "female",
          "female",
          "female",
          "female",
          "female",
          "female",
          "female",
          "male",
          "male",
          "male",
          "male",
          "male",
          "male",
          "male",
          "male",
          "male",
          "male",
          "male",
          "male",
          "male",
          "male",
          "male",
          "male",
          "male",
          "male",
          "male",
          "male",
          "male",
          "male",
          "male",
          "male",
          "male",
          "male",
          "male",
          "male",
          "male",
          "male",
          "male",
          "male",
          "male",
          "male",
          "male",
          "male",
          "20-29",
          "20-29",
          "20-29",
          "20-29",
          "20-29",
          "20-29",
          "30-39",
          "30-39",
          "30-39",
          "30-39",
          "30-39",
          "30-39",
          "40-49",
          "40-49",
          "40-49",
          "40-49",
          "40-49",
          "40-49",
          "50-59",
          "50-59",
          "50-59",
          "50-59",
          "50-59",
          "50-59",
          "60-69",
          "60-69",
          "60-69",
          "60-69",
          "60-69",
          "60-69",
          "70-79",
          "70-79",
          "70-79",
          "70-79",
          "70-79",
          "70-79",
          "Pescatarian Diet",
          "Moderate Meat Consumption (50-99 g/day)",
          "High Meat Consumption (100+ g/day)",
          "Low Meat Consumption (<50 g/day)",
          "Vegan Diet",
          "Vegetarian Diet"
         ],
         "marker": {
          "coloraxis": "coloraxis",
          "colors": [
           19537.120507701577,
           21559.559885614985,
           25114.435920772008,
           19463.008825185123,
           16279.872237331636,
           17487.388129124265,
           20207.429299720316,
           21412.39221869109,
           25027.43378860133,
           19959.316563328306,
           17067.736068286118,
           17897.142729189105,
           20219.193090215915,
           21181.485207107802,
           24429.083635759805,
           19705.876142403726,
           18660.254741117853,
           18121.84481804262,
           20870.198487559286,
           21216.434026942454,
           24634.618225434286,
           20009.15398358011,
           17391.15109894527,
           18660.86723873851,
           21305.26797961484,
           21685.16998790814,
           24838.539241907347,
           20202.08421589938,
           17988.956828463048,
           19047.8721712723,
           21158.377592398712,
           21973.12317502692,
           25325.243793694193,
           20222.910120777975,
           20368.06475093781,
           19283.578330286036,
           22964.85811236807,
           22880.07503514441,
           27549.739652217133,
           19946.39299029788,
           19148.86016510941,
           19482.845677924855,
           21741.18094424467,
           22918.010534543562,
           26422.349519327236,
           21426.761543493594,
           18413.771659708196,
           19313.65772001963,
           21067.780140083934,
           21482.058636909453,
           24663.011101188567,
           20356.72091685712,
           18160.13661087699,
           19063.319035933655,
           21047.14809934763,
           21300.94324399365,
           24856.93657799301,
           20104.42365369702,
           16787.331193264756,
           18673.92302833476,
           21159.21154148671,
           21440.53762892254,
           24926.694399279226,
           19787.72800712503,
           20327.541094002692,
           19046.73811445299,
           22120.378818063662,
           21551.048692107586,
           25503.033691278415,
           20588.601927252308,
           19515.86725499271,
           20305.434638520004,
           21368.324952896775,
           22240.12997642527,
           26392.77125462649,
           19707.67232003486,
           17829.42056975272,
           18536.980702493565,
           21001.49408160173,
           22190.440982234697,
           25744.241591639053,
           20718.425787139622,
           17768.398700482117,
           18630.49925951033,
           20650.15762280663,
           21332.787997127838,
           24546.60375676409,
           20036.200244492502,
           18413.930916687685,
           18602.539837069005,
           20958.70487491788,
           21258.742572040745,
           24746.317290258543,
           20056.712246705512,
           17096.82791204192,
           18667.387233579797,
           21232.56017460489,
           21563.757831224495,
           24882.755837056346,
           19996.990820727482,
           19208.002865182785,
           19047.306640654642,
           21649.930991364577,
           21764.232237736527,
           25414.603641626432,
           20407.17602682469,
           19947.654970750176,
           19806.02789499302,
           21150.152558871272,
           21729.366830869265,
           25300.884592714126,
           20159.347934575744,
           18420.964668223172,
           18896.210159578925
          ]
         },
         "name": "",
         "parents": [
          "Pescatarian Diet/20-29",
          "Moderate Meat Consumption (50-99 g/day)/20-29",
          "High Meat Consumption (100+ g/day)/20-29",
          "Low Meat Consumption (<50 g/day)/20-29",
          "Vegan Diet/20-29",
          "Vegetarian Diet/20-29",
          "Pescatarian Diet/30-39",
          "Moderate Meat Consumption (50-99 g/day)/30-39",
          "High Meat Consumption (100+ g/day)/30-39",
          "Low Meat Consumption (<50 g/day)/30-39",
          "Vegan Diet/30-39",
          "Vegetarian Diet/30-39",
          "Pescatarian Diet/40-49",
          "Moderate Meat Consumption (50-99 g/day)/40-49",
          "High Meat Consumption (100+ g/day)/40-49",
          "Low Meat Consumption (<50 g/day)/40-49",
          "Vegan Diet/40-49",
          "Vegetarian Diet/40-49",
          "Pescatarian Diet/50-59",
          "Moderate Meat Consumption (50-99 g/day)/50-59",
          "High Meat Consumption (100+ g/day)/50-59",
          "Low Meat Consumption (<50 g/day)/50-59",
          "Vegan Diet/50-59",
          "Vegetarian Diet/50-59",
          "Pescatarian Diet/60-69",
          "Moderate Meat Consumption (50-99 g/day)/60-69",
          "High Meat Consumption (100+ g/day)/60-69",
          "Low Meat Consumption (<50 g/day)/60-69",
          "Vegan Diet/60-69",
          "Vegetarian Diet/60-69",
          "Pescatarian Diet/70-79",
          "Moderate Meat Consumption (50-99 g/day)/70-79",
          "High Meat Consumption (100+ g/day)/70-79",
          "Low Meat Consumption (<50 g/day)/70-79",
          "Vegan Diet/70-79",
          "Vegetarian Diet/70-79",
          "Pescatarian Diet/20-29",
          "Moderate Meat Consumption (50-99 g/day)/20-29",
          "High Meat Consumption (100+ g/day)/20-29",
          "Low Meat Consumption (<50 g/day)/20-29",
          "Vegan Diet/20-29",
          "Vegetarian Diet/20-29",
          "Pescatarian Diet/30-39",
          "Moderate Meat Consumption (50-99 g/day)/30-39",
          "High Meat Consumption (100+ g/day)/30-39",
          "Low Meat Consumption (<50 g/day)/30-39",
          "Vegan Diet/30-39",
          "Vegetarian Diet/30-39",
          "Pescatarian Diet/40-49",
          "Moderate Meat Consumption (50-99 g/day)/40-49",
          "High Meat Consumption (100+ g/day)/40-49",
          "Low Meat Consumption (<50 g/day)/40-49",
          "Vegan Diet/40-49",
          "Vegetarian Diet/40-49",
          "Pescatarian Diet/50-59",
          "Moderate Meat Consumption (50-99 g/day)/50-59",
          "High Meat Consumption (100+ g/day)/50-59",
          "Low Meat Consumption (<50 g/day)/50-59",
          "Vegan Diet/50-59",
          "Vegetarian Diet/50-59",
          "Pescatarian Diet/60-69",
          "Moderate Meat Consumption (50-99 g/day)/60-69",
          "High Meat Consumption (100+ g/day)/60-69",
          "Low Meat Consumption (<50 g/day)/60-69",
          "Vegan Diet/60-69",
          "Vegetarian Diet/60-69",
          "Pescatarian Diet/70-79",
          "Moderate Meat Consumption (50-99 g/day)/70-79",
          "High Meat Consumption (100+ g/day)/70-79",
          "Low Meat Consumption (<50 g/day)/70-79",
          "Vegan Diet/70-79",
          "Vegetarian Diet/70-79",
          "Pescatarian Diet",
          "Moderate Meat Consumption (50-99 g/day)",
          "High Meat Consumption (100+ g/day)",
          "Low Meat Consumption (<50 g/day)",
          "Vegan Diet",
          "Vegetarian Diet",
          "Pescatarian Diet",
          "Moderate Meat Consumption (50-99 g/day)",
          "High Meat Consumption (100+ g/day)",
          "Low Meat Consumption (<50 g/day)",
          "Vegan Diet",
          "Vegetarian Diet",
          "Pescatarian Diet",
          "Moderate Meat Consumption (50-99 g/day)",
          "High Meat Consumption (100+ g/day)",
          "Low Meat Consumption (<50 g/day)",
          "Vegan Diet",
          "Vegetarian Diet",
          "Pescatarian Diet",
          "Moderate Meat Consumption (50-99 g/day)",
          "High Meat Consumption (100+ g/day)",
          "Low Meat Consumption (<50 g/day)",
          "Vegan Diet",
          "Vegetarian Diet",
          "Pescatarian Diet",
          "Moderate Meat Consumption (50-99 g/day)",
          "High Meat Consumption (100+ g/day)",
          "Low Meat Consumption (<50 g/day)",
          "Vegan Diet",
          "Vegetarian Diet",
          "Pescatarian Diet",
          "Moderate Meat Consumption (50-99 g/day)",
          "High Meat Consumption (100+ g/day)",
          "Low Meat Consumption (<50 g/day)",
          "Vegan Diet",
          "Vegetarian Diet",
          "",
          "",
          "",
          "",
          "",
          ""
         ],
         "type": "treemap",
         "values": [
          18195649.52202897,
          20099432.389927752,
          23568915.640000615,
          18040130.342048276,
          14075997.1338929,
          15954088.451590097,
          18718909.072566453,
          20084268.867803115,
          23564600.095063496,
          18591226.657598354,
          14556169.056828521,
          16319370.09529747,
          18788113.642056547,
          19998456.095821124,
          23154657.67614374,
          18475965.812157977,
          15914502.352446238,
          16638534.93544968,
          19539226.469482712,
          20165291.45397411,
          23469785.110891294,
          18935179.43040133,
          15709665.926831424,
          17229765.123260204,
          20060079.906454377,
          20765334.648605168,
          23780490.300269462,
          19195782.66431341,
          16274357.831753777,
          17684801.57990096,
          20085902.633377776,
          21080064.544857763,
          24252151.023404796,
          19294508.71694375,
          17246225.151088476,
          18054805.458853185,
          20870192.44810901,
          21375385.809255622,
          26041314.270978324,
          18489229.827342823,
          16530834.729187654,
          17703682.014476076,
          20095025.612129256,
          21477727.46905411,
          24909440.71571474,
          19923844.746158734,
          15803208.951112274,
          17518507.523412883,
          19388347.799823236,
          20270712.363916703,
          23376000.76151951,
          19041070.805508465,
          15446056.091902787,
          17357686.473421723,
          19553180.673199102,
          20216837.87056049,
          23698878.39818427,
          18874401.374036904,
          14939476.447571108,
          17188113.141841725,
          19884820.157079484,
          20460638.89561264,
          23930967.670670237,
          18813319.82415729,
          17720870.001795925,
          17591619.756043177,
          20987010.99335652,
          20655601.856728945,
          24507150.408826485,
          19596541.188849647,
          16791773.967252284,
          18887861.19752802,
          39065841.97013798,
          41474818.199183375,
          49610229.91097894,
          36529360.169391096,
          30606831.863080554,
          33657770.466066174,
          38813934.684695706,
          41561996.33685723,
          48474040.81077824,
          38515071.40375709,
          30359378.007940795,
          33837877.618710354,
          38176461.44187978,
          40269168.45973782,
          46530658.43766325,
          37517036.617666446,
          31360558.444349024,
          33996221.408871405,
          39092407.142681815,
          40382129.3245346,
          47168663.50907557,
          37809580.80443823,
          30649142.374402534,
          34417878.265101925,
          39944900.06353386,
          41225973.54421781,
          47711457.9709397,
          38009102.4884707,
          33995227.8335497,
          35276421.33594414,
          41072913.626734294,
          41735666.40158671,
          48759301.43223128,
          38891049.90579339,
          34037999.11834076,
          36942666.656381205,
          236166458.92966345,
          246649752.26611754,
          288254352.07166696,
          227271201.38951695,
          191009137.64166337,
          208128835.7510752
         ]
        }
       ],
       "layout": {
        "autosize": true,
        "coloraxis": {
         "colorbar": {
          "title": {
           "text": "total_impact"
          }
         },
         "colorscale": [
          [
           0,
           "#0d0887"
          ],
          [
           0.1111111111111111,
           "#46039f"
          ],
          [
           0.2222222222222222,
           "#7201a8"
          ],
          [
           0.3333333333333333,
           "#9c179e"
          ],
          [
           0.4444444444444444,
           "#bd3786"
          ],
          [
           0.5555555555555556,
           "#d8576b"
          ],
          [
           0.6666666666666666,
           "#ed7953"
          ],
          [
           0.7777777777777778,
           "#fb9f3a"
          ],
          [
           0.8888888888888888,
           "#fdca26"
          ],
          [
           1,
           "#f0f921"
          ]
         ]
        },
        "legend": {
         "tracegroupgap": 0
        },
        "template": {
         "data": {
          "bar": [
           {
            "error_x": {
             "color": "#2a3f5f"
            },
            "error_y": {
             "color": "#2a3f5f"
            },
            "marker": {
             "line": {
              "color": "#E5ECF6",
              "width": 0.5
             },
             "pattern": {
              "fillmode": "overlay",
              "size": 10,
              "solidity": 0.2
             }
            },
            "type": "bar"
           }
          ],
          "barpolar": [
           {
            "marker": {
             "line": {
              "color": "#E5ECF6",
              "width": 0.5
             },
             "pattern": {
              "fillmode": "overlay",
              "size": 10,
              "solidity": 0.2
             }
            },
            "type": "barpolar"
           }
          ],
          "carpet": [
           {
            "aaxis": {
             "endlinecolor": "#2a3f5f",
             "gridcolor": "white",
             "linecolor": "white",
             "minorgridcolor": "white",
             "startlinecolor": "#2a3f5f"
            },
            "baxis": {
             "endlinecolor": "#2a3f5f",
             "gridcolor": "white",
             "linecolor": "white",
             "minorgridcolor": "white",
             "startlinecolor": "#2a3f5f"
            },
            "type": "carpet"
           }
          ],
          "choropleth": [
           {
            "colorbar": {
             "outlinewidth": 0,
             "ticks": ""
            },
            "type": "choropleth"
           }
          ],
          "contour": [
           {
            "colorbar": {
             "outlinewidth": 0,
             "ticks": ""
            },
            "colorscale": [
             [
              0,
              "#0d0887"
             ],
             [
              0.1111111111111111,
              "#46039f"
             ],
             [
              0.2222222222222222,
              "#7201a8"
             ],
             [
              0.3333333333333333,
              "#9c179e"
             ],
             [
              0.4444444444444444,
              "#bd3786"
             ],
             [
              0.5555555555555556,
              "#d8576b"
             ],
             [
              0.6666666666666666,
              "#ed7953"
             ],
             [
              0.7777777777777778,
              "#fb9f3a"
             ],
             [
              0.8888888888888888,
              "#fdca26"
             ],
             [
              1,
              "#f0f921"
             ]
            ],
            "type": "contour"
           }
          ],
          "contourcarpet": [
           {
            "colorbar": {
             "outlinewidth": 0,
             "ticks": ""
            },
            "type": "contourcarpet"
           }
          ],
          "heatmap": [
           {
            "colorbar": {
             "outlinewidth": 0,
             "ticks": ""
            },
            "colorscale": [
             [
              0,
              "#0d0887"
             ],
             [
              0.1111111111111111,
              "#46039f"
             ],
             [
              0.2222222222222222,
              "#7201a8"
             ],
             [
              0.3333333333333333,
              "#9c179e"
             ],
             [
              0.4444444444444444,
              "#bd3786"
             ],
             [
              0.5555555555555556,
              "#d8576b"
             ],
             [
              0.6666666666666666,
              "#ed7953"
             ],
             [
              0.7777777777777778,
              "#fb9f3a"
             ],
             [
              0.8888888888888888,
              "#fdca26"
             ],
             [
              1,
              "#f0f921"
             ]
            ],
            "type": "heatmap"
           }
          ],
          "heatmapgl": [
           {
            "colorbar": {
             "outlinewidth": 0,
             "ticks": ""
            },
            "colorscale": [
             [
              0,
              "#0d0887"
             ],
             [
              0.1111111111111111,
              "#46039f"
             ],
             [
              0.2222222222222222,
              "#7201a8"
             ],
             [
              0.3333333333333333,
              "#9c179e"
             ],
             [
              0.4444444444444444,
              "#bd3786"
             ],
             [
              0.5555555555555556,
              "#d8576b"
             ],
             [
              0.6666666666666666,
              "#ed7953"
             ],
             [
              0.7777777777777778,
              "#fb9f3a"
             ],
             [
              0.8888888888888888,
              "#fdca26"
             ],
             [
              1,
              "#f0f921"
             ]
            ],
            "type": "heatmapgl"
           }
          ],
          "histogram": [
           {
            "marker": {
             "pattern": {
              "fillmode": "overlay",
              "size": 10,
              "solidity": 0.2
             }
            },
            "type": "histogram"
           }
          ],
          "histogram2d": [
           {
            "colorbar": {
             "outlinewidth": 0,
             "ticks": ""
            },
            "colorscale": [
             [
              0,
              "#0d0887"
             ],
             [
              0.1111111111111111,
              "#46039f"
             ],
             [
              0.2222222222222222,
              "#7201a8"
             ],
             [
              0.3333333333333333,
              "#9c179e"
             ],
             [
              0.4444444444444444,
              "#bd3786"
             ],
             [
              0.5555555555555556,
              "#d8576b"
             ],
             [
              0.6666666666666666,
              "#ed7953"
             ],
             [
              0.7777777777777778,
              "#fb9f3a"
             ],
             [
              0.8888888888888888,
              "#fdca26"
             ],
             [
              1,
              "#f0f921"
             ]
            ],
            "type": "histogram2d"
           }
          ],
          "histogram2dcontour": [
           {
            "colorbar": {
             "outlinewidth": 0,
             "ticks": ""
            },
            "colorscale": [
             [
              0,
              "#0d0887"
             ],
             [
              0.1111111111111111,
              "#46039f"
             ],
             [
              0.2222222222222222,
              "#7201a8"
             ],
             [
              0.3333333333333333,
              "#9c179e"
             ],
             [
              0.4444444444444444,
              "#bd3786"
             ],
             [
              0.5555555555555556,
              "#d8576b"
             ],
             [
              0.6666666666666666,
              "#ed7953"
             ],
             [
              0.7777777777777778,
              "#fb9f3a"
             ],
             [
              0.8888888888888888,
              "#fdca26"
             ],
             [
              1,
              "#f0f921"
             ]
            ],
            "type": "histogram2dcontour"
           }
          ],
          "mesh3d": [
           {
            "colorbar": {
             "outlinewidth": 0,
             "ticks": ""
            },
            "type": "mesh3d"
           }
          ],
          "parcoords": [
           {
            "line": {
             "colorbar": {
              "outlinewidth": 0,
              "ticks": ""
             }
            },
            "type": "parcoords"
           }
          ],
          "pie": [
           {
            "automargin": true,
            "type": "pie"
           }
          ],
          "scatter": [
           {
            "fillpattern": {
             "fillmode": "overlay",
             "size": 10,
             "solidity": 0.2
            },
            "type": "scatter"
           }
          ],
          "scatter3d": [
           {
            "line": {
             "colorbar": {
              "outlinewidth": 0,
              "ticks": ""
             }
            },
            "marker": {
             "colorbar": {
              "outlinewidth": 0,
              "ticks": ""
             }
            },
            "type": "scatter3d"
           }
          ],
          "scattercarpet": [
           {
            "marker": {
             "colorbar": {
              "outlinewidth": 0,
              "ticks": ""
             }
            },
            "type": "scattercarpet"
           }
          ],
          "scattergeo": [
           {
            "marker": {
             "colorbar": {
              "outlinewidth": 0,
              "ticks": ""
             }
            },
            "type": "scattergeo"
           }
          ],
          "scattergl": [
           {
            "marker": {
             "colorbar": {
              "outlinewidth": 0,
              "ticks": ""
             }
            },
            "type": "scattergl"
           }
          ],
          "scattermapbox": [
           {
            "marker": {
             "colorbar": {
              "outlinewidth": 0,
              "ticks": ""
             }
            },
            "type": "scattermapbox"
           }
          ],
          "scatterpolar": [
           {
            "marker": {
             "colorbar": {
              "outlinewidth": 0,
              "ticks": ""
             }
            },
            "type": "scatterpolar"
           }
          ],
          "scatterpolargl": [
           {
            "marker": {
             "colorbar": {
              "outlinewidth": 0,
              "ticks": ""
             }
            },
            "type": "scatterpolargl"
           }
          ],
          "scatterternary": [
           {
            "marker": {
             "colorbar": {
              "outlinewidth": 0,
              "ticks": ""
             }
            },
            "type": "scatterternary"
           }
          ],
          "surface": [
           {
            "colorbar": {
             "outlinewidth": 0,
             "ticks": ""
            },
            "colorscale": [
             [
              0,
              "#0d0887"
             ],
             [
              0.1111111111111111,
              "#46039f"
             ],
             [
              0.2222222222222222,
              "#7201a8"
             ],
             [
              0.3333333333333333,
              "#9c179e"
             ],
             [
              0.4444444444444444,
              "#bd3786"
             ],
             [
              0.5555555555555556,
              "#d8576b"
             ],
             [
              0.6666666666666666,
              "#ed7953"
             ],
             [
              0.7777777777777778,
              "#fb9f3a"
             ],
             [
              0.8888888888888888,
              "#fdca26"
             ],
             [
              1,
              "#f0f921"
             ]
            ],
            "type": "surface"
           }
          ],
          "table": [
           {
            "cells": {
             "fill": {
              "color": "#EBF0F8"
             },
             "line": {
              "color": "white"
             }
            },
            "header": {
             "fill": {
              "color": "#C8D4E3"
             },
             "line": {
              "color": "white"
             }
            },
            "type": "table"
           }
          ]
         },
         "layout": {
          "annotationdefaults": {
           "arrowcolor": "#2a3f5f",
           "arrowhead": 0,
           "arrowwidth": 1
          },
          "autotypenumbers": "strict",
          "coloraxis": {
           "colorbar": {
            "outlinewidth": 0,
            "ticks": ""
           }
          },
          "colorscale": {
           "diverging": [
            [
             0,
             "#8e0152"
            ],
            [
             0.1,
             "#c51b7d"
            ],
            [
             0.2,
             "#de77ae"
            ],
            [
             0.3,
             "#f1b6da"
            ],
            [
             0.4,
             "#fde0ef"
            ],
            [
             0.5,
             "#f7f7f7"
            ],
            [
             0.6,
             "#e6f5d0"
            ],
            [
             0.7,
             "#b8e186"
            ],
            [
             0.8,
             "#7fbc41"
            ],
            [
             0.9,
             "#4d9221"
            ],
            [
             1,
             "#276419"
            ]
           ],
           "sequential": [
            [
             0,
             "#0d0887"
            ],
            [
             0.1111111111111111,
             "#46039f"
            ],
            [
             0.2222222222222222,
             "#7201a8"
            ],
            [
             0.3333333333333333,
             "#9c179e"
            ],
            [
             0.4444444444444444,
             "#bd3786"
            ],
            [
             0.5555555555555556,
             "#d8576b"
            ],
            [
             0.6666666666666666,
             "#ed7953"
            ],
            [
             0.7777777777777778,
             "#fb9f3a"
            ],
            [
             0.8888888888888888,
             "#fdca26"
            ],
            [
             1,
             "#f0f921"
            ]
           ],
           "sequentialminus": [
            [
             0,
             "#0d0887"
            ],
            [
             0.1111111111111111,
             "#46039f"
            ],
            [
             0.2222222222222222,
             "#7201a8"
            ],
            [
             0.3333333333333333,
             "#9c179e"
            ],
            [
             0.4444444444444444,
             "#bd3786"
            ],
            [
             0.5555555555555556,
             "#d8576b"
            ],
            [
             0.6666666666666666,
             "#ed7953"
            ],
            [
             0.7777777777777778,
             "#fb9f3a"
            ],
            [
             0.8888888888888888,
             "#fdca26"
            ],
            [
             1,
             "#f0f921"
            ]
           ]
          },
          "colorway": [
           "#636efa",
           "#EF553B",
           "#00cc96",
           "#ab63fa",
           "#FFA15A",
           "#19d3f3",
           "#FF6692",
           "#B6E880",
           "#FF97FF",
           "#FECB52"
          ],
          "font": {
           "color": "#2a3f5f"
          },
          "geo": {
           "bgcolor": "white",
           "lakecolor": "white",
           "landcolor": "#E5ECF6",
           "showlakes": true,
           "showland": true,
           "subunitcolor": "white"
          },
          "hoverlabel": {
           "align": "left"
          },
          "hovermode": "closest",
          "mapbox": {
           "style": "light"
          },
          "paper_bgcolor": "white",
          "plot_bgcolor": "#E5ECF6",
          "polar": {
           "angularaxis": {
            "gridcolor": "white",
            "linecolor": "white",
            "ticks": ""
           },
           "bgcolor": "#E5ECF6",
           "radialaxis": {
            "gridcolor": "white",
            "linecolor": "white",
            "ticks": ""
           }
          },
          "scene": {
           "xaxis": {
            "backgroundcolor": "#E5ECF6",
            "gridcolor": "white",
            "gridwidth": 2,
            "linecolor": "white",
            "showbackground": true,
            "ticks": "",
            "zerolinecolor": "white"
           },
           "yaxis": {
            "backgroundcolor": "#E5ECF6",
            "gridcolor": "white",
            "gridwidth": 2,
            "linecolor": "white",
            "showbackground": true,
            "ticks": "",
            "zerolinecolor": "white"
           },
           "zaxis": {
            "backgroundcolor": "#E5ECF6",
            "gridcolor": "white",
            "gridwidth": 2,
            "linecolor": "white",
            "showbackground": true,
            "ticks": "",
            "zerolinecolor": "white"
           }
          },
          "shapedefaults": {
           "line": {
            "color": "#2a3f5f"
           }
          },
          "ternary": {
           "aaxis": {
            "gridcolor": "white",
            "linecolor": "white",
            "ticks": ""
           },
           "baxis": {
            "gridcolor": "white",
            "linecolor": "white",
            "ticks": ""
           },
           "bgcolor": "#E5ECF6",
           "caxis": {
            "gridcolor": "white",
            "linecolor": "white",
            "ticks": ""
           }
          },
          "title": {
           "x": 0.05
          },
          "xaxis": {
           "automargin": true,
           "gridcolor": "white",
           "linecolor": "white",
           "ticks": "",
           "title": {
            "standoff": 15
           },
           "zerolinecolor": "white",
           "zerolinewidth": 2
          },
          "yaxis": {
           "automargin": true,
           "gridcolor": "white",
           "linecolor": "white",
           "ticks": "",
           "title": {
            "standoff": 15
           },
           "zerolinecolor": "white",
           "zerolinewidth": 2
          }
         }
        },
        "title": {
         "text": "Interactive Environmental Impact by Age Group, Diet Group, and Gender"
        }
       }
      },
      "image/png": "[encoded data removed]",
      "text/html": [
       "<div>                            <div id=\"9265d4f2-65e5-4d43-96f5-323e6bc7e486\" class=\"plotly-graph-div\" style=\"height:525px; width:100%;\"></div>            <script type=\"text/javascript\">                require([\"plotly\"], function(Plotly) {                    window.PLOTLYENV=window.PLOTLYENV || {};                                    if (document.getElementById(\"9265d4f2-65e5-4d43-96f5-323e6bc7e486\")) {                    Plotly.newPlot(                        \"9265d4f2-65e5-4d43-96f5-323e6bc7e486\",                        [{\"branchvalues\":\"total\",\"customdata\":[[19537.120507701577],[21559.559885614985],[25114.435920772008],[19463.008825185123],[16279.872237331636],[17487.388129124265],[20207.429299720316],[21412.39221869109],[25027.43378860133],[19959.316563328306],[17067.736068286118],[17897.142729189105],[20219.193090215915],[21181.485207107802],[24429.083635759805],[19705.876142403726],[18660.254741117853],[18121.84481804262],[20870.198487559286],[21216.434026942454],[24634.618225434286],[20009.15398358011],[17391.15109894527],[18660.86723873851],[21305.26797961484],[21685.16998790814],[24838.539241907347],[20202.08421589938],[17988.956828463048],[19047.8721712723],[21158.377592398712],[21973.12317502692],[25325.243793694193],[20222.910120777975],[20368.06475093781],[19283.578330286036],[22964.85811236807],[22880.07503514441],[27549.739652217133],[19946.39299029788],[19148.86016510941],[19482.845677924855],[21741.18094424467],[22918.010534543562],[26422.349519327236],[21426.761543493594],[18413.771659708196],[19313.65772001963],[21067.780140083934],[21482.058636909453],[24663.011101188567],[20356.72091685712],[18160.13661087699],[19063.319035933655],[21047.14809934763],[21300.94324399365],[24856.93657799301],[20104.42365369702],[16787.331193264756],[18673.92302833476],[21159.21154148671],[21440.53762892254],[24926.694399279226],[19787.72800712503],[20327.541094002692],[19046.73811445299],[22120.378818063662],[21551.048692107586],[25503.033691278415],[20588.601927252308],[19515.86725499271],[20305.434638520004],[21368.324952896775],[22240.12997642527],[26392.77125462649],[19707.67232003486],[17829.42056975272],[18536.980702493565],[21001.49408160173],[22190.440982234697],[25744.241591639053],[20718.425787139622],[17768.398700482117],[18630.49925951033],[20650.15762280663],[21332.787997127838],[24546.60375676409],[20036.200244492502],[18413.930916687685],[18602.539837069005],[20958.70487491788],[21258.742572040745],[24746.317290258543],[20056.712246705512],[17096.82791204192],[18667.387233579797],[21232.56017460489],[21563.757831224495],[24882.755837056346],[19996.990820727482],[19208.002865182785],[19047.306640654642],[21649.930991364577],[21764.232237736527],[25414.603641626432],[20407.17602682469],[19947.654970750176],[19806.02789499302],[21150.152558871272],[21729.366830869265],[25300.884592714126],[20159.347934575744],[18420.964668223172],[18896.210159578925]],\"domain\":{\"x\":[0.0,1.0],\"y\":[0.0,1.0]},\"hovertemplate\":\"labels=%{label}\\u003cbr\\u003etotal_impact_sum=%{value}\\u003cbr\\u003eparent=%{parent}\\u003cbr\\u003eid=%{id}\\u003cbr\\u003etotal_impact=%{color}\\u003cextra\\u003e\\u003c\\u002fextra\\u003e\",\"ids\":[\"Pescatarian Diet\\u002f20-29\\u002ffemale\",\"Moderate Meat Consumption (50-99 g\\u002fday)\\u002f20-29\\u002ffemale\",\"High Meat Consumption (100+ g\\u002fday)\\u002f20-29\\u002ffemale\",\"Low Meat Consumption (\\u003c50 g\\u002fday)\\u002f20-29\\u002ffemale\",\"Vegan Diet\\u002f20-29\\u002ffemale\",\"Vegetarian Diet\\u002f20-29\\u002ffemale\",\"Pescatarian Diet\\u002f30-39\\u002ffemale\",\"Moderate Meat Consumption (50-99 g\\u002fday)\\u002f30-39\\u002ffemale\",\"High Meat Consumption (100+ g\\u002fday)\\u002f30-39\\u002ffemale\",\"Low Meat Consumption (\\u003c50 g\\u002fday)\\u002f30-39\\u002ffemale\",\"Vegan Diet\\u002f30-39\\u002ffemale\",\"Vegetarian Diet\\u002f30-39\\u002ffemale\",\"Pescatarian Diet\\u002f40-49\\u002ffemale\",\"Moderate Meat Consumption (50-99 g\\u002fday)\\u002f40-49\\u002ffemale\",\"High Meat Consumption (100+ g\\u002fday)\\u002f40-49\\u002ffemale\",\"Low Meat Consumption (\\u003c50 g\\u002fday)\\u002f40-49\\u002ffemale\",\"Vegan Diet\\u002f40-49\\u002ffemale\",\"Vegetarian Diet\\u002f40-49\\u002ffemale\",\"Pescatarian Diet\\u002f50-59\\u002ffemale\",\"Moderate Meat Consumption (50-99 g\\u002fday)\\u002f50-59\\u002ffemale\",\"High Meat Consumption (100+ g\\u002fday)\\u002f50-59\\u002ffemale\",\"Low Meat Consumption (\\u003c50 g\\u002fday)\\u002f50-59\\u002ffemale\",\"Vegan Diet\\u002f50-59\\u002ffemale\",\"Vegetarian Diet\\u002f50-59\\u002ffemale\",\"Pescatarian Diet\\u002f60-69\\u002ffemale\",\"Moderate Meat Consumption (50-99 g\\u002fday)\\u002f60-69\\u002ffemale\",\"High Meat Consumption (100+ g\\u002fday)\\u002f60-69\\u002ffemale\",\"Low Meat Consumption (\\u003c50 g\\u002fday)\\u002f60-69\\u002ffemale\",\"Vegan Diet\\u002f60-69\\u002ffemale\",\"Vegetarian Diet\\u002f60-69\\u002ffemale\",\"Pescatarian Diet\\u002f70-79\\u002ffemale\",\"Moderate Meat Consumption (50-99 g\\u002fday)\\u002f70-79\\u002ffemale\",\"High Meat Consumption (100+ g\\u002fday)\\u002f70-79\\u002ffemale\",\"Low Meat Consumption (\\u003c50 g\\u002fday)\\u002f70-79\\u002ffemale\",\"Vegan Diet\\u002f70-79\\u002ffemale\",\"Vegetarian Diet\\u002f70-79\\u002ffemale\",\"Pescatarian Diet\\u002f20-29\\u002fmale\",\"Moderate Meat Consumption (50-99 g\\u002fday)\\u002f20-29\\u002fmale\",\"High Meat Consumption (100+ g\\u002fday)\\u002f20-29\\u002fmale\",\"Low Meat Consumption (\\u003c50 g\\u002fday)\\u002f20-29\\u002fmale\",\"Vegan Diet\\u002f20-29\\u002fmale\",\"Vegetarian Diet\\u002f20-29\\u002fmale\",\"Pescatarian Diet\\u002f30-39\\u002fmale\",\"Moderate Meat Consumption (50-99 g\\u002fday)\\u002f30-39\\u002fmale\",\"High Meat Consumption (100+ g\\u002fday)\\u002f30-39\\u002fmale\",\"Low Meat Consumption (\\u003c50 g\\u002fday)\\u002f30-39\\u002fmale\",\"Vegan Diet\\u002f30-39\\u002fmale\",\"Vegetarian Diet\\u002f30-39\\u002fmale\",\"Pescatarian Diet\\u002f40-49\\u002fmale\",\"Moderate Meat Consumption (50-99 g\\u002fday)\\u002f40-49\\u002fmale\",\"High Meat Consumption (100+ g\\u002fday)\\u002f40-49\\u002fmale\",\"Low Meat Consumption (\\u003c50 g\\u002fday)\\u002f40-49\\u002fmale\",\"Vegan Diet\\u002f40-49\\u002fmale\",\"Vegetarian Diet\\u002f40-49\\u002fmale\",\"Pescatarian Diet\\u002f50-59\\u002fmale\",\"Moderate Meat Consumption (50-99 g\\u002fday)\\u002f50-59\\u002fmale\",\"High Meat Consumption (100+ g\\u002fday)\\u002f50-59\\u002fmale\",\"Low Meat Consumption (\\u003c50 g\\u002fday)\\u002f50-59\\u002fmale\",\"Vegan Diet\\u002f50-59\\u002fmale\",\"Vegetarian Diet\\u002f50-59\\u002fmale\",\"Pescatarian Diet\\u002f60-69\\u002fmale\",\"Moderate Meat Consumption (50-99 g\\u002fday)\\u002f60-69\\u002fmale\",\"High Meat Consumption (100+ g\\u002fday)\\u002f60-69\\u002fmale\",\"Low Meat Consumption (\\u003c50 g\\u002fday)\\u002f60-69\\u002fmale\",\"Vegan Diet\\u002f60-69\\u002fmale\",\"Vegetarian Diet\\u002f60-69\\u002fmale\",\"Pescatarian Diet\\u002f70-79\\u002fmale\",\"Moderate Meat Consumption (50-99 g\\u002fday)\\u002f70-79\\u002fmale\",\"High Meat Consumption (100+ g\\u002fday)\\u002f70-79\\u002fmale\",\"Low Meat Consumption (\\u003c50 g\\u002fday)\\u002f70-79\\u002fmale\",\"Vegan Diet\\u002f70-79\\u002fmale\",\"Vegetarian Diet\\u002f70-79\\u002fmale\",\"Pescatarian Diet\\u002f20-29\",\"Moderate Meat Consumption (50-99 g\\u002fday)\\u002f20-29\",\"High Meat Consumption (100+ g\\u002fday)\\u002f20-29\",\"Low Meat Consumption (\\u003c50 g\\u002fday)\\u002f20-29\",\"Vegan Diet\\u002f20-29\",\"Vegetarian Diet\\u002f20-29\",\"Pescatarian Diet\\u002f30-39\",\"Moderate Meat Consumption (50-99 g\\u002fday)\\u002f30-39\",\"High Meat Consumption (100+ g\\u002fday)\\u002f30-39\",\"Low Meat Consumption (\\u003c50 g\\u002fday)\\u002f30-39\",\"Vegan Diet\\u002f30-39\",\"Vegetarian Diet\\u002f30-39\",\"Pescatarian Diet\\u002f40-49\",\"Moderate Meat Consumption (50-99 g\\u002fday)\\u002f40-49\",\"High Meat Consumption (100+ g\\u002fday)\\u002f40-49\",\"Low Meat Consumption (\\u003c50 g\\u002fday)\\u002f40-49\",\"Vegan Diet\\u002f40-49\",\"Vegetarian Diet\\u002f40-49\",\"Pescatarian Diet\\u002f50-59\",\"Moderate Meat Consumption (50-99 g\\u002fday)\\u002f50-59\",\"High Meat Consumption (100+ g\\u002fday)\\u002f50-59\",\"Low Meat Consumption (\\u003c50 g\\u002fday)\\u002f50-59\",\"Vegan Diet\\u002f50-59\",\"Vegetarian Diet\\u002f50-59\",\"Pescatarian Diet\\u002f60-69\",\"Moderate Meat Consumption (50-99 g\\u002fday)\\u002f60-69\",\"High Meat Consumption (100+ g\\u002fday)\\u002f60-69\",\"Low Meat Consumption (\\u003c50 g\\u002fday)\\u002f60-69\",\"Vegan Diet\\u002f60-69\",\"Vegetarian Diet\\u002f60-69\",\"Pescatarian Diet\\u002f70-79\",\"Moderate Meat Consumption (50-99 g\\u002fday)\\u002f70-79\",\"High Meat Consumption (100+ g\\u002fday)\\u002f70-79\",\"Low Meat Consumption (\\u003c50 g\\u002fday)\\u002f70-79\",\"Vegan Diet\\u002f70-79\",\"Vegetarian Diet\\u002f70-79\",\"Pescatarian Diet\",\"Moderate Meat Consumption (50-99 g\\u002fday)\",\"High Meat Consumption (100+ g\\u002fday)\",\"Low Meat Consumption (\\u003c50 g\\u002fday)\",\"Vegan Diet\",\"Vegetarian Diet\"],\"labels\":[\"female\",\"female\",\"female\",\"female\",\"female\",\"female\",\"female\",\"female\",\"female\",\"female\",\"female\",\"female\",\"female\",\"female\",\"female\",\"female\",\"female\",\"female\",\"female\",\"female\",\"female\",\"female\",\"female\",\"female\",\"female\",\"female\",\"female\",\"female\",\"female\",\"female\",\"female\",\"female\",\"female\",\"female\",\"female\",\"female\",\"male\",\"male\",\"male\",\"male\",\"male\",\"male\",\"male\",\"male\",\"male\",\"male\",\"male\",\"male\",\"male\",\"male\",\"male\",\"male\",\"male\",\"male\",\"male\",\"male\",\"male\",\"male\",\"male\",\"male\",\"male\",\"male\",\"male\",\"male\",\"male\",\"male\",\"male\",\"male\",\"male\",\"male\",\"male\",\"male\",\"20-29\",\"20-29\",\"20-29\",\"20-29\",\"20-29\",\"20-29\",\"30-39\",\"30-39\",\"30-39\",\"30-39\",\"30-39\",\"30-39\",\"40-49\",\"40-49\",\"40-49\",\"40-49\",\"40-49\",\"40-49\",\"50-59\",\"50-59\",\"50-59\",\"50-59\",\"50-59\",\"50-59\",\"60-69\",\"60-69\",\"60-69\",\"60-69\",\"60-69\",\"60-69\",\"70-79\",\"70-79\",\"70-79\",\"70-79\",\"70-79\",\"70-79\",\"Pescatarian Diet\",\"Moderate Meat Consumption (50-99 g\\u002fday)\",\"High Meat Consumption (100+ g\\u002fday)\",\"Low Meat Consumption (\\u003c50 g\\u002fday)\",\"Vegan Diet\",\"Vegetarian Diet\"],\"marker\":{\"coloraxis\":\"coloraxis\",\"colors\":[19537.120507701577,21559.559885614985,25114.435920772008,19463.008825185123,16279.872237331636,17487.388129124265,20207.429299720316,21412.39221869109,25027.43378860133,19959.316563328306,17067.736068286118,17897.142729189105,20219.193090215915,21181.485207107802,24429.083635759805,19705.876142403726,18660.254741117853,18121.84481804262,20870.198487559286,21216.434026942454,24634.618225434286,20009.15398358011,17391.15109894527,18660.86723873851,21305.26797961484,21685.16998790814,24838.539241907347,20202.08421589938,17988.956828463048,19047.8721712723,21158.377592398712,21973.12317502692,25325.243793694193,20222.910120777975,20368.06475093781,19283.578330286036,22964.85811236807,22880.07503514441,27549.739652217133,19946.39299029788,19148.86016510941,19482.845677924855,21741.18094424467,22918.010534543562,26422.349519327236,21426.761543493594,18413.771659708196,19313.65772001963,21067.780140083934,21482.058636909453,24663.011101188567,20356.72091685712,18160.13661087699,19063.319035933655,21047.14809934763,21300.94324399365,24856.93657799301,20104.42365369702,16787.331193264756,18673.92302833476,21159.21154148671,21440.53762892254,24926.694399279226,19787.72800712503,20327.541094002692,19046.73811445299,22120.378818063662,21551.048692107586,25503.033691278415,20588.601927252308,19515.86725499271,20305.434638520004,21368.324952896775,22240.12997642527,26392.77125462649,19707.67232003486,17829.42056975272,18536.980702493565,21001.49408160173,22190.440982234697,25744.241591639053,20718.425787139622,17768.398700482117,18630.49925951033,20650.15762280663,21332.787997127838,24546.60375676409,20036.200244492502,18413.930916687685,18602.539837069005,20958.70487491788,21258.742572040745,24746.317290258543,20056.712246705512,17096.82791204192,18667.387233579797,21232.56017460489,21563.757831224495,24882.755837056346,19996.990820727482,19208.002865182785,19047.306640654642,21649.930991364577,21764.232237736527,25414.603641626432,20407.17602682469,19947.654970750176,19806.02789499302,21150.152558871272,21729.366830869265,25300.884592714126,20159.347934575744,18420.964668223172,18896.210159578925]},\"name\":\"\",\"parents\":[\"Pescatarian Diet\\u002f20-29\",\"Moderate Meat Consumption (50-99 g\\u002fday)\\u002f20-29\",\"High Meat Consumption (100+ g\\u002fday)\\u002f20-29\",\"Low Meat Consumption (\\u003c50 g\\u002fday)\\u002f20-29\",\"Vegan Diet\\u002f20-29\",\"Vegetarian Diet\\u002f20-29\",\"Pescatarian Diet\\u002f30-39\",\"Moderate Meat Consumption (50-99 g\\u002fday)\\u002f30-39\",\"High Meat Consumption (100+ g\\u002fday)\\u002f30-39\",\"Low Meat Consumption (\\u003c50 g\\u002fday)\\u002f30-39\",\"Vegan Diet\\u002f30-39\",\"Vegetarian Diet\\u002f30-39\",\"Pescatarian Diet\\u002f40-49\",\"Moderate Meat Consumption (50-99 g\\u002fday)\\u002f40-49\",\"High Meat Consumption (100+ g\\u002fday)\\u002f40-49\",\"Low Meat Consumption (\\u003c50 g\\u002fday)\\u002f40-49\",\"Vegan Diet\\u002f40-49\",\"Vegetarian Diet\\u002f40-49\",\"Pescatarian Diet\\u002f50-59\",\"Moderate Meat Consumption (50-99 g\\u002fday)\\u002f50-59\",\"High Meat Consumption (100+ g\\u002fday)\\u002f50-59\",\"Low Meat Consumption (\\u003c50 g\\u002fday)\\u002f50-59\",\"Vegan Diet\\u002f50-59\",\"Vegetarian Diet\\u002f50-59\",\"Pescatarian Diet\\u002f60-69\",\"Moderate Meat Consumption (50-99 g\\u002fday)\\u002f60-69\",\"High Meat Consumption (100+ g\\u002fday)\\u002f60-69\",\"Low Meat Consumption (\\u003c50 g\\u002fday)\\u002f60-69\",\"Vegan Diet\\u002f60-69\",\"Vegetarian Diet\\u002f60-69\",\"Pescatarian Diet\\u002f70-79\",\"Moderate Meat Consumption (50-99 g\\u002fday)\\u002f70-79\",\"High Meat Consumption (100+ g\\u002fday)\\u002f70-79\",\"Low Meat Consumption (\\u003c50 g\\u002fday)\\u002f70-79\",\"Vegan Diet\\u002f70-79\",\"Vegetarian Diet\\u002f70-79\",\"Pescatarian Diet\\u002f20-29\",\"Moderate Meat Consumption (50-99 g\\u002fday)\\u002f20-29\",\"High Meat Consumption (100+ g\\u002fday)\\u002f20-29\",\"Low Meat Consumption (\\u003c50 g\\u002fday)\\u002f20-29\",\"Vegan Diet\\u002f20-29\",\"Vegetarian Diet\\u002f20-29\",\"Pescatarian Diet\\u002f30-39\",\"Moderate Meat Consumption (50-99 g\\u002fday)\\u002f30-39\",\"High Meat Consumption (100+ g\\u002fday)\\u002f30-39\",\"Low Meat Consumption (\\u003c50 g\\u002fday)\\u002f30-39\",\"Vegan Diet\\u002f30-39\",\"Vegetarian Diet\\u002f30-39\",\"Pescatarian Diet\\u002f40-49\",\"Moderate Meat Consumption (50-99 g\\u002fday)\\u002f40-49\",\"High Meat Consumption (100+ g\\u002fday)\\u002f40-49\",\"Low Meat Consumption (\\u003c50 g\\u002fday)\\u002f40-49\",\"Vegan Diet\\u002f40-49\",\"Vegetarian Diet\\u002f40-49\",\"Pescatarian Diet\\u002f50-59\",\"Moderate Meat Consumption (50-99 g\\u002fday)\\u002f50-59\",\"High Meat Consumption (100+ g\\u002fday)\\u002f50-59\",\"Low Meat Consumption (\\u003c50 g\\u002fday)\\u002f50-59\",\"Vegan Diet\\u002f50-59\",\"Vegetarian Diet\\u002f50-59\",\"Pescatarian Diet\\u002f60-69\",\"Moderate Meat Consumption (50-99 g\\u002fday)\\u002f60-69\",\"High Meat Consumption (100+ g\\u002fday)\\u002f60-69\",\"Low Meat Consumption (\\u003c50 g\\u002fday)\\u002f60-69\",\"Vegan Diet\\u002f60-69\",\"Vegetarian Diet\\u002f60-69\",\"Pescatarian Diet\\u002f70-79\",\"Moderate Meat Consumption (50-99 g\\u002fday)\\u002f70-79\",\"High Meat Consumption (100+ g\\u002fday)\\u002f70-79\",\"Low Meat Consumption (\\u003c50 g\\u002fday)\\u002f70-79\",\"Vegan Diet\\u002f70-79\",\"Vegetarian Diet\\u002f70-79\",\"Pescatarian Diet\",\"Moderate Meat Consumption (50-99 g\\u002fday)\",\"High Meat Consumption (100+ g\\u002fday)\",\"Low Meat Consumption (\\u003c50 g\\u002fday)\",\"Vegan Diet\",\"Vegetarian Diet\",\"Pescatarian Diet\",\"Moderate Meat Consumption (50-99 g\\u002fday)\",\"High Meat Consumption (100+ g\\u002fday)\",\"Low Meat Consumption (\\u003c50 g\\u002fday)\",\"Vegan Diet\",\"Vegetarian Diet\",\"Pescatarian Diet\",\"Moderate Meat Consumption (50-99 g\\u002fday)\",\"High Meat Consumption (100+ g\\u002fday)\",\"Low Meat Consumption (\\u003c50 g\\u002fday)\",\"Vegan Diet\",\"Vegetarian Diet\",\"Pescatarian Diet\",\"Moderate Meat Consumption (50-99 g\\u002fday)\",\"High Meat Consumption (100+ g\\u002fday)\",\"Low Meat Consumption (\\u003c50 g\\u002fday)\",\"Vegan Diet\",\"Vegetarian Diet\",\"Pescatarian Diet\",\"Moderate Meat Consumption (50-99 g\\u002fday)\",\"High Meat Consumption (100+ g\\u002fday)\",\"Low Meat Consumption (\\u003c50 g\\u002fday)\",\"Vegan Diet\",\"Vegetarian Diet\",\"Pescatarian Diet\",\"Moderate Meat Consumption (50-99 g\\u002fday)\",\"High Meat Consumption (100+ g\\u002fday)\",\"Low Meat Consumption (\\u003c50 g\\u002fday)\",\"Vegan Diet\",\"Vegetarian Diet\",\"\",\"\",\"\",\"\",\"\",\"\"],\"values\":[18195649.52202897,20099432.389927752,23568915.640000615,18040130.342048276,14075997.1338929,15954088.451590097,18718909.072566453,20084268.867803115,23564600.095063496,18591226.657598354,14556169.056828521,16319370.09529747,18788113.642056547,19998456.095821124,23154657.67614374,18475965.812157977,15914502.352446238,16638534.93544968,19539226.469482712,20165291.45397411,23469785.110891294,18935179.43040133,15709665.926831424,17229765.123260204,20060079.906454377,20765334.648605168,23780490.300269462,19195782.66431341,16274357.831753777,17684801.57990096,20085902.633377776,21080064.544857763,24252151.023404796,19294508.71694375,17246225.151088476,18054805.458853185,20870192.44810901,21375385.809255622,26041314.270978324,18489229.827342823,16530834.729187654,17703682.014476076,20095025.612129256,21477727.46905411,24909440.71571474,19923844.746158734,15803208.951112274,17518507.523412883,19388347.799823236,20270712.363916703,23376000.76151951,19041070.805508465,15446056.091902787,17357686.473421723,19553180.673199102,20216837.87056049,23698878.39818427,18874401.374036904,14939476.447571108,17188113.141841725,19884820.157079484,20460638.89561264,23930967.670670237,18813319.82415729,17720870.001795925,17591619.756043177,20987010.99335652,20655601.856728945,24507150.408826485,19596541.188849647,16791773.967252284,18887861.19752802,39065841.97013798,41474818.199183375,49610229.91097894,36529360.169391096,30606831.863080554,33657770.466066174,38813934.684695706,41561996.33685723,48474040.81077824,38515071.40375709,30359378.007940795,33837877.618710354,38176461.44187978,40269168.45973782,46530658.43766325,37517036.617666446,31360558.444349024,33996221.408871405,39092407.142681815,40382129.3245346,47168663.50907557,37809580.80443823,30649142.374402534,34417878.265101925,39944900.06353386,41225973.54421781,47711457.9709397,38009102.4884707,33995227.8335497,35276421.33594414,41072913.626734294,41735666.40158671,48759301.43223128,38891049.90579339,34037999.11834076,36942666.656381205,236166458.92966345,246649752.26611754,288254352.07166696,227271201.38951695,191009137.64166337,208128835.7510752],\"type\":\"treemap\"}],                        {\"template\":{\"data\":{\"histogram2dcontour\":[{\"type\":\"histogram2dcontour\",\"colorbar\":{\"outlinewidth\":0,\"ticks\":\"\"},\"colorscale\":[[0.0,\"#0d0887\"],[0.1111111111111111,\"#46039f\"],[0.2222222222222222,\"#7201a8\"],[0.3333333333333333,\"#9c179e\"],[0.4444444444444444,\"#bd3786\"],[0.5555555555555556,\"#d8576b\"],[0.6666666666666666,\"#ed7953\"],[0.7777777777777778,\"#fb9f3a\"],[0.8888888888888888,\"#fdca26\"],[1.0,\"#f0f921\"]]}],\"choropleth\":[{\"type\":\"choropleth\",\"colorbar\":{\"outlinewidth\":0,\"ticks\":\"\"}}],\"histogram2d\":[{\"type\":\"histogram2d\",\"colorbar\":{\"outlinewidth\":0,\"ticks\":\"\"},\"colorscale\":[[0.0,\"#0d0887\"],[0.1111111111111111,\"#46039f\"],[0.2222222222222222,\"#7201a8\"],[0.3333333333333333,\"#9c179e\"],[0.4444444444444444,\"#bd3786\"],[0.5555555555555556,\"#d8576b\"],[0.6666666666666666,\"#ed7953\"],[0.7777777777777778,\"#fb9f3a\"],[0.8888888888888888,\"#fdca26\"],[1.0,\"#f0f921\"]]}],\"heatmap\":[{\"type\":\"heatmap\",\"colorbar\":{\"outlinewidth\":0,\"ticks\":\"\"},\"colorscale\":[[0.0,\"#0d0887\"],[0.1111111111111111,\"#46039f\"],[0.2222222222222222,\"#7201a8\"],[0.3333333333333333,\"#9c179e\"],[0.4444444444444444,\"#bd3786\"],[0.5555555555555556,\"#d8576b\"],[0.6666666666666666,\"#ed7953\"],[0.7777777777777778,\"#fb9f3a\"],[0.8888888888888888,\"#fdca26\"],[1.0,\"#f0f921\"]]}],\"heatmapgl\":[{\"type\":\"heatmapgl\",\"colorbar\":{\"outlinewidth\":0,\"ticks\":\"\"},\"colorscale\":[[0.0,\"#0d0887\"],[0.1111111111111111,\"#46039f\"],[0.2222222222222222,\"#7201a8\"],[0.3333333333333333,\"#9c179e\"],[0.4444444444444444,\"#bd3786\"],[0.5555555555555556,\"#d8576b\"],[0.6666666666666666,\"#ed7953\"],[0.7777777777777778,\"#fb9f3a\"],[0.8888888888888888,\"#fdca26\"],[1.0,\"#f0f921\"]]}],\"contourcarpet\":[{\"type\":\"contourcarpet\",\"colorbar\":{\"outlinewidth\":0,\"ticks\":\"\"}}],\"contour\":[{\"type\":\"contour\",\"colorbar\":{\"outlinewidth\":0,\"ticks\":\"\"},\"colorscale\":[[0.0,\"#0d0887\"],[0.1111111111111111,\"#46039f\"],[0.2222222222222222,\"#7201a8\"],[0.3333333333333333,\"#9c179e\"],[0.4444444444444444,\"#bd3786\"],[0.5555555555555556,\"#d8576b\"],[0.6666666666666666,\"#ed7953\"],[0.7777777777777778,\"#fb9f3a\"],[0.8888888888888888,\"#fdca26\"],[1.0,\"#f0f921\"]]}],\"surface\":[{\"type\":\"surface\",\"colorbar\":{\"outlinewidth\":0,\"ticks\":\"\"},\"colorscale\":[[0.0,\"#0d0887\"],[0.1111111111111111,\"#46039f\"],[0.2222222222222222,\"#7201a8\"],[0.3333333333333333,\"#9c179e\"],[0.4444444444444444,\"#bd3786\"],[0.5555555555555556,\"#d8576b\"],[0.6666666666666666,\"#ed7953\"],[0.7777777777777778,\"#fb9f3a\"],[0.8888888888888888,\"#fdca26\"],[1.0,\"#f0f921\"]]}],\"mesh3d\":[{\"type\":\"mesh3d\",\"colorbar\":{\"outlinewidth\":0,\"ticks\":\"\"}}],\"scatter\":[{\"fillpattern\":{\"fillmode\":\"overlay\",\"size\":10,\"solidity\":0.2},\"type\":\"scatter\"}],\"parcoords\":[{\"type\":\"parcoords\",\"line\":{\"colorbar\":{\"outlinewidth\":0,\"ticks\":\"\"}}}],\"scatterpolargl\":[{\"type\":\"scatterpolargl\",\"marker\":{\"colorbar\":{\"outlinewidth\":0,\"ticks\":\"\"}}}],\"bar\":[{\"error_x\":{\"color\":\"#2a3f5f\"},\"error_y\":{\"color\":\"#2a3f5f\"},\"marker\":{\"line\":{\"color\":\"#E5ECF6\",\"width\":0.5},\"pattern\":{\"fillmode\":\"overlay\",\"size\":10,\"solidity\":0.2}},\"type\":\"bar\"}],\"scattergeo\":[{\"type\":\"scattergeo\",\"marker\":{\"colorbar\":{\"outlinewidth\":0,\"ticks\":\"\"}}}],\"scatterpolar\":[{\"type\":\"scatterpolar\",\"marker\":{\"colorbar\":{\"outlinewidth\":0,\"ticks\":\"\"}}}],\"histogram\":[{\"marker\":{\"pattern\":{\"fillmode\":\"overlay\",\"size\":10,\"solidity\":0.2}},\"type\":\"histogram\"}],\"scattergl\":[{\"type\":\"scattergl\",\"marker\":{\"colorbar\":{\"outlinewidth\":0,\"ticks\":\"\"}}}],\"scatter3d\":[{\"type\":\"scatter3d\",\"line\":{\"colorbar\":{\"outlinewidth\":0,\"ticks\":\"\"}},\"marker\":{\"colorbar\":{\"outlinewidth\":0,\"ticks\":\"\"}}}],\"scattermapbox\":[{\"type\":\"scattermapbox\",\"marker\":{\"colorbar\":{\"outlinewidth\":0,\"ticks\":\"\"}}}],\"scatterternary\":[{\"type\":\"scatterternary\",\"marker\":{\"colorbar\":{\"outlinewidth\":0,\"ticks\":\"\"}}}],\"scattercarpet\":[{\"type\":\"scattercarpet\",\"marker\":{\"colorbar\":{\"outlinewidth\":0,\"ticks\":\"\"}}}],\"carpet\":[{\"aaxis\":{\"endlinecolor\":\"#2a3f5f\",\"gridcolor\":\"white\",\"linecolor\":\"white\",\"minorgridcolor\":\"white\",\"startlinecolor\":\"#2a3f5f\"},\"baxis\":{\"endlinecolor\":\"#2a3f5f\",\"gridcolor\":\"white\",\"linecolor\":\"white\",\"minorgridcolor\":\"white\",\"startlinecolor\":\"#2a3f5f\"},\"type\":\"carpet\"}],\"table\":[{\"cells\":{\"fill\":{\"color\":\"#EBF0F8\"},\"line\":{\"color\":\"white\"}},\"header\":{\"fill\":{\"color\":\"#C8D4E3\"},\"line\":{\"color\":\"white\"}},\"type\":\"table\"}],\"barpolar\":[{\"marker\":{\"line\":{\"color\":\"#E5ECF6\",\"width\":0.5},\"pattern\":{\"fillmode\":\"overlay\",\"size\":10,\"solidity\":0.2}},\"type\":\"barpolar\"}],\"pie\":[{\"automargin\":true,\"type\":\"pie\"}]},\"layout\":{\"autotypenumbers\":\"strict\",\"colorway\":[\"#636efa\",\"#EF553B\",\"#00cc96\",\"#ab63fa\",\"#FFA15A\",\"#19d3f3\",\"#FF6692\",\"#B6E880\",\"#FF97FF\",\"#FECB52\"],\"font\":{\"color\":\"#2a3f5f\"},\"hovermode\":\"closest\",\"hoverlabel\":{\"align\":\"left\"},\"paper_bgcolor\":\"white\",\"plot_bgcolor\":\"#E5ECF6\",\"polar\":{\"bgcolor\":\"#E5ECF6\",\"angularaxis\":{\"gridcolor\":\"white\",\"linecolor\":\"white\",\"ticks\":\"\"},\"radialaxis\":{\"gridcolor\":\"white\",\"linecolor\":\"white\",\"ticks\":\"\"}},\"ternary\":{\"bgcolor\":\"#E5ECF6\",\"aaxis\":{\"gridcolor\":\"white\",\"linecolor\":\"white\",\"ticks\":\"\"},\"baxis\":{\"gridcolor\":\"white\",\"linecolor\":\"white\",\"ticks\":\"\"},\"caxis\":{\"gridcolor\":\"white\",\"linecolor\":\"white\",\"ticks\":\"\"}},\"coloraxis\":{\"colorbar\":{\"outlinewidth\":0,\"ticks\":\"\"}},\"colorscale\":{\"sequential\":[[0.0,\"#0d0887\"],[0.1111111111111111,\"#46039f\"],[0.2222222222222222,\"#7201a8\"],[0.3333333333333333,\"#9c179e\"],[0.4444444444444444,\"#bd3786\"],[0.5555555555555556,\"#d8576b\"],[0.6666666666666666,\"#ed7953\"],[0.7777777777777778,\"#fb9f3a\"],[0.8888888888888888,\"#fdca26\"],[1.0,\"#f0f921\"]],\"sequentialminus\":[[0.0,\"#0d0887\"],[0.1111111111111111,\"#46039f\"],[0.2222222222222222,\"#7201a8\"],[0.3333333333333333,\"#9c179e\"],[0.4444444444444444,\"#bd3786\"],[0.5555555555555556,\"#d8576b\"],[0.6666666666666666,\"#ed7953\"],[0.7777777777777778,\"#fb9f3a\"],[0.8888888888888888,\"#fdca26\"],[1.0,\"#f0f921\"]],\"diverging\":[[0,\"#8e0152\"],[0.1,\"#c51b7d\"],[0.2,\"#de77ae\"],[0.3,\"#f1b6da\"],[0.4,\"#fde0ef\"],[0.5,\"#f7f7f7\"],[0.6,\"#e6f5d0\"],[0.7,\"#b8e186\"],[0.8,\"#7fbc41\"],[0.9,\"#4d9221\"],[1,\"#276419\"]]},\"xaxis\":{\"gridcolor\":\"white\",\"linecolor\":\"white\",\"ticks\":\"\",\"title\":{\"standoff\":15},\"zerolinecolor\":\"white\",\"automargin\":true,\"zerolinewidth\":2},\"yaxis\":{\"gridcolor\":\"white\",\"linecolor\":\"white\",\"ticks\":\"\",\"title\":{\"standoff\":15},\"zerolinecolor\":\"white\",\"automargin\":true,\"zerolinewidth\":2},\"scene\":{\"xaxis\":{\"backgroundcolor\":\"#E5ECF6\",\"gridcolor\":\"white\",\"linecolor\":\"white\",\"showbackground\":true,\"ticks\":\"\",\"zerolinecolor\":\"white\",\"gridwidth\":2},\"yaxis\":{\"backgroundcolor\":\"#E5ECF6\",\"gridcolor\":\"white\",\"linecolor\":\"white\",\"showbackground\":true,\"ticks\":\"\",\"zerolinecolor\":\"white\",\"gridwidth\":2},\"zaxis\":{\"backgroundcolor\":\"#E5ECF6\",\"gridcolor\":\"white\",\"linecolor\":\"white\",\"showbackground\":true,\"ticks\":\"\",\"zerolinecolor\":\"white\",\"gridwidth\":2}},\"shapedefaults\":{\"line\":{\"color\":\"#2a3f5f\"}},\"annotationdefaults\":{\"arrowcolor\":\"#2a3f5f\",\"arrowhead\":0,\"arrowwidth\":1},\"geo\":{\"bgcolor\":\"white\",\"landcolor\":\"#E5ECF6\",\"subunitcolor\":\"white\",\"showland\":true,\"showlakes\":true,\"lakecolor\":\"white\"},\"title\":{\"x\":0.05},\"mapbox\":{\"style\":\"light\"}}},\"coloraxis\":{\"colorbar\":{\"title\":{\"text\":\"total_impact\"}},\"colorscale\":[[0.0,\"#0d0887\"],[0.1111111111111111,\"#46039f\"],[0.2222222222222222,\"#7201a8\"],[0.3333333333333333,\"#9c179e\"],[0.4444444444444444,\"#bd3786\"],[0.5555555555555556,\"#d8576b\"],[0.6666666666666666,\"#ed7953\"],[0.7777777777777778,\"#fb9f3a\"],[0.8888888888888888,\"#fdca26\"],[1.0,\"#f0f921\"]]},\"legend\":{\"tracegroupgap\":0},\"title\":{\"text\":\"Interactive Environmental Impact by Age Group, Diet Group, and Gender\"}},                        {\"responsive\": true}                    ).then(function(){\n",
       "                            \n",
       "var gd = document.getElementById('9265d4f2-65e5-4d43-96f5-323e6bc7e486');\n",
       "var x = new MutationObserver(function (mutations, observer) {{\n",
       "        var display = window.getComputedStyle(gd).display;\n",
       "        if (!display || display === 'none') {{\n",
       "            console.log([gd, 'removed!']);\n",
       "            Plotly.purge(gd);\n",
       "            observer.disconnect();\n",
       "        }}\n",
       "}});\n",
       "\n",
       "// Listen for the removal of the full notebook cells\n",
       "var notebookContainer = gd.closest('#notebook-container');\n",
       "if (notebookContainer) {{\n",
       "    x.observe(notebookContainer, {childList: true});\n",
       "}}\n",
       "\n",
       "// Listen for the clearing of the current output cell\n",
       "var outputEl = gd.closest('.output');\n",
       "if (outputEl) {{\n",
       "    x.observe(outputEl, {childList: true});\n",
       "}}\n",
       "\n",
       "                        })                };                });            </script>        </div>"
      ]
     },
     "metadata": {},
     "output_type": "display_data"
    }
   ],
   "source": [
    "# Assuming 'df' is your DataFrame with a hierarchical structure and a measure for size\n",
    "fig = px.treemap(\n",
    "    df,\n",
    "    path=['diet_group', 'age_group', 'sex'],  # Define hierarchy\n",
    "    values='total_impact',  # Size of the rectangles\n",
    "    color='total_impact',  # Color based on the size/value or another variable\n",
    "    title='Interactive Environmental Impact by Age Group, Diet Group, and Gender'\n",
    ")\n",
    "\n",
    "fig.show()\n",
    "\n",
    "# Convert the figure to an HTML div element\n",
    "fig_html = pio.to_html(fig, full_html=False)\n",
    "\n",
    "# Save the HTML to a file or print it\n",
    "# print(fig_html)\n",
    "# You can also write this string to an HTML file if needed\n",
    "with open(\"plot_treemap.html\", \"w\", encoding=\"utf-8\") as file:\n",
    "    file.write(fig_html)\n"
   ]
  },
  {
   "cell_type": "code",
   "execution_count": 52,
   "metadata": {
    "id": "e14vOzHWrDJi"
   },
   "outputs": [],
   "source": [
    "# # Let's assume you want to show the cumulative impact starting from 'mean_ghgs'\n",
    "# # and each step shows the added impact of the next variable.\n",
    "# # The 'total_impact' column is used as the final value in the waterfall chart.\n",
    "\n",
    "# # This list would be the ordered factors you want to show in the waterfall chart.\n",
    "# # Replace these with your actual factors.\n",
    "\n",
    "# factors = ['mean_ghgs', 'mean_ghgs_ch4', 'mean_ghgs_n2o', 'mean_bio', 'mean_acid', 'mean_watuse', 'total_impact']\n",
    "\n",
    "# # Calculating the starting and ending values for each step\n",
    "# starting_values = [0] + df[factors[:-1]].sum().cumsum().tolist()\n",
    "# ending_values = df[factors].sum().cumsum().tolist()\n",
    "\n",
    "# # We will need to calculate the incremental change for each step\n",
    "# changes = [ending_values[0]] + [end - start for start, end in zip(starting_values[1:], ending_values)]\n",
    "\n",
    "# # Create the waterfall chart\n",
    "# fig = go.Figure(go.Waterfall(\n",
    "#     name = \"Waterfall\",\n",
    "#     orientation = \"v\",\n",
    "#     measure = [\"absolute\"] + [\"relative\"] * (len(factors) - 2) + [\"total\"],\n",
    "#     x = factors,\n",
    "#     textposition = \"outside\",\n",
    "#     text = [str(round(val, 2)) for val in changes],\n",
    "#     y = changes,\n",
    "#     connector = {\"line\":{\"color\":\"rgb(63, 63, 63)\"}},\n",
    "# ))\n",
    "\n",
    "# # Update layout\n",
    "# fig.update_layout(\n",
    "#     title = \"Cumulative Environmental Impact by Factor\",\n",
    "#     showlegend = True\n",
    "# )\n",
    "\n",
    "# fig.show()\n"
   ]
  },
  {
   "cell_type": "code",
   "execution_count": 53,
   "metadata": {
    "colab": {
     "base_uri": "https://localhost:8080/",
     "height": 542
    },
    "id": "C0sFQsYVZXUr",
    "outputId": "2a86a3da-0c96-421c-d378-bec547f331c4"
   },
   "outputs": [
    {
     "name": "stderr",
     "output_type": "stream",
     "text": [
      "C:\\Users\\Neeraj\\AppData\\Local\\Temp\\ipykernel_14100\\1969301480.py:2: FutureWarning:\n",
      "\n",
      "The default of observed=False is deprecated and will be changed to True in a future version of pandas. Pass observed=False to retain current behavior or observed=True to adopt the future default and silence this warning.\n",
      "\n"
     ]
    },
    {
     "data": {
      "application/vnd.plotly.v1+json": {
       "config": {
        "plotlyServerURL": "https://plot.ly"
       },
       "data": [
        {
         "connector": {
          "line": {
           "color": "rgb(63, 63, 63)"
          }
         },
         "measure": [
          "relative",
          "relative",
          "relative",
          "relative",
          "relative",
          "relative",
          "total"
         ],
         "text": [
          "230,944,852.58",
          "231,562,298.86",
          "227,850,104.81",
          "229,519,801.42",
          "236,163,083.24",
          "241,439,597.14",
          "1,397,479,738.05"
         ],
         "textposition": "outside",
         "type": "waterfall",
         "x": [
          "20-29",
          "30-39",
          "40-49",
          "50-59",
          "60-69",
          "70-79",
          "Total"
         ],
         "y": [
          230944852.5788381,
          231562298.8627394,
          227850104.81016773,
          229519801.42023468,
          236163083.23665592,
          241439597.14106765,
          1397479738.0497036
         ]
        }
       ],
       "layout": {
        "autosize": true,
        "showlegend": true,
        "template": {
         "data": {
          "bar": [
           {
            "error_x": {
             "color": "#2a3f5f"
            },
            "error_y": {
             "color": "#2a3f5f"
            },
            "marker": {
             "line": {
              "color": "#E5ECF6",
              "width": 0.5
             },
             "pattern": {
              "fillmode": "overlay",
              "size": 10,
              "solidity": 0.2
             }
            },
            "type": "bar"
           }
          ],
          "barpolar": [
           {
            "marker": {
             "line": {
              "color": "#E5ECF6",
              "width": 0.5
             },
             "pattern": {
              "fillmode": "overlay",
              "size": 10,
              "solidity": 0.2
             }
            },
            "type": "barpolar"
           }
          ],
          "carpet": [
           {
            "aaxis": {
             "endlinecolor": "#2a3f5f",
             "gridcolor": "white",
             "linecolor": "white",
             "minorgridcolor": "white",
             "startlinecolor": "#2a3f5f"
            },
            "baxis": {
             "endlinecolor": "#2a3f5f",
             "gridcolor": "white",
             "linecolor": "white",
             "minorgridcolor": "white",
             "startlinecolor": "#2a3f5f"
            },
            "type": "carpet"
           }
          ],
          "choropleth": [
           {
            "colorbar": {
             "outlinewidth": 0,
             "ticks": ""
            },
            "type": "choropleth"
           }
          ],
          "contour": [
           {
            "colorbar": {
             "outlinewidth": 0,
             "ticks": ""
            },
            "colorscale": [
             [
              0,
              "#0d0887"
             ],
             [
              0.1111111111111111,
              "#46039f"
             ],
             [
              0.2222222222222222,
              "#7201a8"
             ],
             [
              0.3333333333333333,
              "#9c179e"
             ],
             [
              0.4444444444444444,
              "#bd3786"
             ],
             [
              0.5555555555555556,
              "#d8576b"
             ],
             [
              0.6666666666666666,
              "#ed7953"
             ],
             [
              0.7777777777777778,
              "#fb9f3a"
             ],
             [
              0.8888888888888888,
              "#fdca26"
             ],
             [
              1,
              "#f0f921"
             ]
            ],
            "type": "contour"
           }
          ],
          "contourcarpet": [
           {
            "colorbar": {
             "outlinewidth": 0,
             "ticks": ""
            },
            "type": "contourcarpet"
           }
          ],
          "heatmap": [
           {
            "colorbar": {
             "outlinewidth": 0,
             "ticks": ""
            },
            "colorscale": [
             [
              0,
              "#0d0887"
             ],
             [
              0.1111111111111111,
              "#46039f"
             ],
             [
              0.2222222222222222,
              "#7201a8"
             ],
             [
              0.3333333333333333,
              "#9c179e"
             ],
             [
              0.4444444444444444,
              "#bd3786"
             ],
             [
              0.5555555555555556,
              "#d8576b"
             ],
             [
              0.6666666666666666,
              "#ed7953"
             ],
             [
              0.7777777777777778,
              "#fb9f3a"
             ],
             [
              0.8888888888888888,
              "#fdca26"
             ],
             [
              1,
              "#f0f921"
             ]
            ],
            "type": "heatmap"
           }
          ],
          "heatmapgl": [
           {
            "colorbar": {
             "outlinewidth": 0,
             "ticks": ""
            },
            "colorscale": [
             [
              0,
              "#0d0887"
             ],
             [
              0.1111111111111111,
              "#46039f"
             ],
             [
              0.2222222222222222,
              "#7201a8"
             ],
             [
              0.3333333333333333,
              "#9c179e"
             ],
             [
              0.4444444444444444,
              "#bd3786"
             ],
             [
              0.5555555555555556,
              "#d8576b"
             ],
             [
              0.6666666666666666,
              "#ed7953"
             ],
             [
              0.7777777777777778,
              "#fb9f3a"
             ],
             [
              0.8888888888888888,
              "#fdca26"
             ],
             [
              1,
              "#f0f921"
             ]
            ],
            "type": "heatmapgl"
           }
          ],
          "histogram": [
           {
            "marker": {
             "pattern": {
              "fillmode": "overlay",
              "size": 10,
              "solidity": 0.2
             }
            },
            "type": "histogram"
           }
          ],
          "histogram2d": [
           {
            "colorbar": {
             "outlinewidth": 0,
             "ticks": ""
            },
            "colorscale": [
             [
              0,
              "#0d0887"
             ],
             [
              0.1111111111111111,
              "#46039f"
             ],
             [
              0.2222222222222222,
              "#7201a8"
             ],
             [
              0.3333333333333333,
              "#9c179e"
             ],
             [
              0.4444444444444444,
              "#bd3786"
             ],
             [
              0.5555555555555556,
              "#d8576b"
             ],
             [
              0.6666666666666666,
              "#ed7953"
             ],
             [
              0.7777777777777778,
              "#fb9f3a"
             ],
             [
              0.8888888888888888,
              "#fdca26"
             ],
             [
              1,
              "#f0f921"
             ]
            ],
            "type": "histogram2d"
           }
          ],
          "histogram2dcontour": [
           {
            "colorbar": {
             "outlinewidth": 0,
             "ticks": ""
            },
            "colorscale": [
             [
              0,
              "#0d0887"
             ],
             [
              0.1111111111111111,
              "#46039f"
             ],
             [
              0.2222222222222222,
              "#7201a8"
             ],
             [
              0.3333333333333333,
              "#9c179e"
             ],
             [
              0.4444444444444444,
              "#bd3786"
             ],
             [
              0.5555555555555556,
              "#d8576b"
             ],
             [
              0.6666666666666666,
              "#ed7953"
             ],
             [
              0.7777777777777778,
              "#fb9f3a"
             ],
             [
              0.8888888888888888,
              "#fdca26"
             ],
             [
              1,
              "#f0f921"
             ]
            ],
            "type": "histogram2dcontour"
           }
          ],
          "mesh3d": [
           {
            "colorbar": {
             "outlinewidth": 0,
             "ticks": ""
            },
            "type": "mesh3d"
           }
          ],
          "parcoords": [
           {
            "line": {
             "colorbar": {
              "outlinewidth": 0,
              "ticks": ""
             }
            },
            "type": "parcoords"
           }
          ],
          "pie": [
           {
            "automargin": true,
            "type": "pie"
           }
          ],
          "scatter": [
           {
            "fillpattern": {
             "fillmode": "overlay",
             "size": 10,
             "solidity": 0.2
            },
            "type": "scatter"
           }
          ],
          "scatter3d": [
           {
            "line": {
             "colorbar": {
              "outlinewidth": 0,
              "ticks": ""
             }
            },
            "marker": {
             "colorbar": {
              "outlinewidth": 0,
              "ticks": ""
             }
            },
            "type": "scatter3d"
           }
          ],
          "scattercarpet": [
           {
            "marker": {
             "colorbar": {
              "outlinewidth": 0,
              "ticks": ""
             }
            },
            "type": "scattercarpet"
           }
          ],
          "scattergeo": [
           {
            "marker": {
             "colorbar": {
              "outlinewidth": 0,
              "ticks": ""
             }
            },
            "type": "scattergeo"
           }
          ],
          "scattergl": [
           {
            "marker": {
             "colorbar": {
              "outlinewidth": 0,
              "ticks": ""
             }
            },
            "type": "scattergl"
           }
          ],
          "scattermapbox": [
           {
            "marker": {
             "colorbar": {
              "outlinewidth": 0,
              "ticks": ""
             }
            },
            "type": "scattermapbox"
           }
          ],
          "scatterpolar": [
           {
            "marker": {
             "colorbar": {
              "outlinewidth": 0,
              "ticks": ""
             }
            },
            "type": "scatterpolar"
           }
          ],
          "scatterpolargl": [
           {
            "marker": {
             "colorbar": {
              "outlinewidth": 0,
              "ticks": ""
             }
            },
            "type": "scatterpolargl"
           }
          ],
          "scatterternary": [
           {
            "marker": {
             "colorbar": {
              "outlinewidth": 0,
              "ticks": ""
             }
            },
            "type": "scatterternary"
           }
          ],
          "surface": [
           {
            "colorbar": {
             "outlinewidth": 0,
             "ticks": ""
            },
            "colorscale": [
             [
              0,
              "#0d0887"
             ],
             [
              0.1111111111111111,
              "#46039f"
             ],
             [
              0.2222222222222222,
              "#7201a8"
             ],
             [
              0.3333333333333333,
              "#9c179e"
             ],
             [
              0.4444444444444444,
              "#bd3786"
             ],
             [
              0.5555555555555556,
              "#d8576b"
             ],
             [
              0.6666666666666666,
              "#ed7953"
             ],
             [
              0.7777777777777778,
              "#fb9f3a"
             ],
             [
              0.8888888888888888,
              "#fdca26"
             ],
             [
              1,
              "#f0f921"
             ]
            ],
            "type": "surface"
           }
          ],
          "table": [
           {
            "cells": {
             "fill": {
              "color": "#EBF0F8"
             },
             "line": {
              "color": "white"
             }
            },
            "header": {
             "fill": {
              "color": "#C8D4E3"
             },
             "line": {
              "color": "white"
             }
            },
            "type": "table"
           }
          ]
         },
         "layout": {
          "annotationdefaults": {
           "arrowcolor": "#2a3f5f",
           "arrowhead": 0,
           "arrowwidth": 1
          },
          "autotypenumbers": "strict",
          "coloraxis": {
           "colorbar": {
            "outlinewidth": 0,
            "ticks": ""
           }
          },
          "colorscale": {
           "diverging": [
            [
             0,
             "#8e0152"
            ],
            [
             0.1,
             "#c51b7d"
            ],
            [
             0.2,
             "#de77ae"
            ],
            [
             0.3,
             "#f1b6da"
            ],
            [
             0.4,
             "#fde0ef"
            ],
            [
             0.5,
             "#f7f7f7"
            ],
            [
             0.6,
             "#e6f5d0"
            ],
            [
             0.7,
             "#b8e186"
            ],
            [
             0.8,
             "#7fbc41"
            ],
            [
             0.9,
             "#4d9221"
            ],
            [
             1,
             "#276419"
            ]
           ],
           "sequential": [
            [
             0,
             "#0d0887"
            ],
            [
             0.1111111111111111,
             "#46039f"
            ],
            [
             0.2222222222222222,
             "#7201a8"
            ],
            [
             0.3333333333333333,
             "#9c179e"
            ],
            [
             0.4444444444444444,
             "#bd3786"
            ],
            [
             0.5555555555555556,
             "#d8576b"
            ],
            [
             0.6666666666666666,
             "#ed7953"
            ],
            [
             0.7777777777777778,
             "#fb9f3a"
            ],
            [
             0.8888888888888888,
             "#fdca26"
            ],
            [
             1,
             "#f0f921"
            ]
           ],
           "sequentialminus": [
            [
             0,
             "#0d0887"
            ],
            [
             0.1111111111111111,
             "#46039f"
            ],
            [
             0.2222222222222222,
             "#7201a8"
            ],
            [
             0.3333333333333333,
             "#9c179e"
            ],
            [
             0.4444444444444444,
             "#bd3786"
            ],
            [
             0.5555555555555556,
             "#d8576b"
            ],
            [
             0.6666666666666666,
             "#ed7953"
            ],
            [
             0.7777777777777778,
             "#fb9f3a"
            ],
            [
             0.8888888888888888,
             "#fdca26"
            ],
            [
             1,
             "#f0f921"
            ]
           ]
          },
          "colorway": [
           "#636efa",
           "#EF553B",
           "#00cc96",
           "#ab63fa",
           "#FFA15A",
           "#19d3f3",
           "#FF6692",
           "#B6E880",
           "#FF97FF",
           "#FECB52"
          ],
          "font": {
           "color": "#2a3f5f"
          },
          "geo": {
           "bgcolor": "white",
           "lakecolor": "white",
           "landcolor": "#E5ECF6",
           "showlakes": true,
           "showland": true,
           "subunitcolor": "white"
          },
          "hoverlabel": {
           "align": "left"
          },
          "hovermode": "closest",
          "mapbox": {
           "style": "light"
          },
          "paper_bgcolor": "white",
          "plot_bgcolor": "#E5ECF6",
          "polar": {
           "angularaxis": {
            "gridcolor": "white",
            "linecolor": "white",
            "ticks": ""
           },
           "bgcolor": "#E5ECF6",
           "radialaxis": {
            "gridcolor": "white",
            "linecolor": "white",
            "ticks": ""
           }
          },
          "scene": {
           "xaxis": {
            "backgroundcolor": "#E5ECF6",
            "gridcolor": "white",
            "gridwidth": 2,
            "linecolor": "white",
            "showbackground": true,
            "ticks": "",
            "zerolinecolor": "white"
           },
           "yaxis": {
            "backgroundcolor": "#E5ECF6",
            "gridcolor": "white",
            "gridwidth": 2,
            "linecolor": "white",
            "showbackground": true,
            "ticks": "",
            "zerolinecolor": "white"
           },
           "zaxis": {
            "backgroundcolor": "#E5ECF6",
            "gridcolor": "white",
            "gridwidth": 2,
            "linecolor": "white",
            "showbackground": true,
            "ticks": "",
            "zerolinecolor": "white"
           }
          },
          "shapedefaults": {
           "line": {
            "color": "#2a3f5f"
           }
          },
          "ternary": {
           "aaxis": {
            "gridcolor": "white",
            "linecolor": "white",
            "ticks": ""
           },
           "baxis": {
            "gridcolor": "white",
            "linecolor": "white",
            "ticks": ""
           },
           "bgcolor": "#E5ECF6",
           "caxis": {
            "gridcolor": "white",
            "linecolor": "white",
            "ticks": ""
           }
          },
          "title": {
           "x": 0.05
          },
          "xaxis": {
           "automargin": true,
           "gridcolor": "white",
           "linecolor": "white",
           "ticks": "",
           "title": {
            "standoff": 15
           },
           "zerolinecolor": "white",
           "zerolinewidth": 2
          },
          "yaxis": {
           "automargin": true,
           "gridcolor": "white",
           "linecolor": "white",
           "ticks": "",
           "title": {
            "standoff": 15
           },
           "zerolinecolor": "white",
           "zerolinewidth": 2
          }
         }
        },
        "title": {
         "text": "Total Environmental Impact by Age Group"
        },
        "xaxis": {
         "autorange": true,
         "range": [
          -0.5,
          6.5
         ],
         "title": {
          "text": "Age Group"
         },
         "type": "category"
        },
        "yaxis": {
         "autorange": true,
         "range": [
          0,
          1471031303.2102144
         ],
         "title": {
          "text": "Total Environmental Impact"
         },
         "type": "linear"
        }
       }
      },
      "image/png": "[encoded data removed]",
      "text/html": [
       "<div>                            <div id=\"4e1914e9-21e4-4d1e-aa96-4df0e66b2842\" class=\"plotly-graph-div\" style=\"height:525px; width:100%;\"></div>            <script type=\"text/javascript\">                require([\"plotly\"], function(Plotly) {                    window.PLOTLYENV=window.PLOTLYENV || {};                                    if (document.getElementById(\"4e1914e9-21e4-4d1e-aa96-4df0e66b2842\")) {                    Plotly.newPlot(                        \"4e1914e9-21e4-4d1e-aa96-4df0e66b2842\",                        [{\"connector\":{\"line\":{\"color\":\"rgb(63, 63, 63)\"}},\"measure\":[\"relative\",\"relative\",\"relative\",\"relative\",\"relative\",\"relative\",\"total\"],\"text\":[\"230,944,852.58\",\"231,562,298.86\",\"227,850,104.81\",\"229,519,801.42\",\"236,163,083.24\",\"241,439,597.14\",\"1,397,479,738.05\"],\"textposition\":\"outside\",\"x\":[\"20-29\",\"30-39\",\"40-49\",\"50-59\",\"60-69\",\"70-79\",\"Total\"],\"y\":[230944852.5788381,231562298.8627394,227850104.81016773,229519801.42023468,236163083.23665592,241439597.14106765,1397479738.0497036],\"type\":\"waterfall\"}],                        {\"template\":{\"data\":{\"histogram2dcontour\":[{\"type\":\"histogram2dcontour\",\"colorbar\":{\"outlinewidth\":0,\"ticks\":\"\"},\"colorscale\":[[0.0,\"#0d0887\"],[0.1111111111111111,\"#46039f\"],[0.2222222222222222,\"#7201a8\"],[0.3333333333333333,\"#9c179e\"],[0.4444444444444444,\"#bd3786\"],[0.5555555555555556,\"#d8576b\"],[0.6666666666666666,\"#ed7953\"],[0.7777777777777778,\"#fb9f3a\"],[0.8888888888888888,\"#fdca26\"],[1.0,\"#f0f921\"]]}],\"choropleth\":[{\"type\":\"choropleth\",\"colorbar\":{\"outlinewidth\":0,\"ticks\":\"\"}}],\"histogram2d\":[{\"type\":\"histogram2d\",\"colorbar\":{\"outlinewidth\":0,\"ticks\":\"\"},\"colorscale\":[[0.0,\"#0d0887\"],[0.1111111111111111,\"#46039f\"],[0.2222222222222222,\"#7201a8\"],[0.3333333333333333,\"#9c179e\"],[0.4444444444444444,\"#bd3786\"],[0.5555555555555556,\"#d8576b\"],[0.6666666666666666,\"#ed7953\"],[0.7777777777777778,\"#fb9f3a\"],[0.8888888888888888,\"#fdca26\"],[1.0,\"#f0f921\"]]}],\"heatmap\":[{\"type\":\"heatmap\",\"colorbar\":{\"outlinewidth\":0,\"ticks\":\"\"},\"colorscale\":[[0.0,\"#0d0887\"],[0.1111111111111111,\"#46039f\"],[0.2222222222222222,\"#7201a8\"],[0.3333333333333333,\"#9c179e\"],[0.4444444444444444,\"#bd3786\"],[0.5555555555555556,\"#d8576b\"],[0.6666666666666666,\"#ed7953\"],[0.7777777777777778,\"#fb9f3a\"],[0.8888888888888888,\"#fdca26\"],[1.0,\"#f0f921\"]]}],\"heatmapgl\":[{\"type\":\"heatmapgl\",\"colorbar\":{\"outlinewidth\":0,\"ticks\":\"\"},\"colorscale\":[[0.0,\"#0d0887\"],[0.1111111111111111,\"#46039f\"],[0.2222222222222222,\"#7201a8\"],[0.3333333333333333,\"#9c179e\"],[0.4444444444444444,\"#bd3786\"],[0.5555555555555556,\"#d8576b\"],[0.6666666666666666,\"#ed7953\"],[0.7777777777777778,\"#fb9f3a\"],[0.8888888888888888,\"#fdca26\"],[1.0,\"#f0f921\"]]}],\"contourcarpet\":[{\"type\":\"contourcarpet\",\"colorbar\":{\"outlinewidth\":0,\"ticks\":\"\"}}],\"contour\":[{\"type\":\"contour\",\"colorbar\":{\"outlinewidth\":0,\"ticks\":\"\"},\"colorscale\":[[0.0,\"#0d0887\"],[0.1111111111111111,\"#46039f\"],[0.2222222222222222,\"#7201a8\"],[0.3333333333333333,\"#9c179e\"],[0.4444444444444444,\"#bd3786\"],[0.5555555555555556,\"#d8576b\"],[0.6666666666666666,\"#ed7953\"],[0.7777777777777778,\"#fb9f3a\"],[0.8888888888888888,\"#fdca26\"],[1.0,\"#f0f921\"]]}],\"surface\":[{\"type\":\"surface\",\"colorbar\":{\"outlinewidth\":0,\"ticks\":\"\"},\"colorscale\":[[0.0,\"#0d0887\"],[0.1111111111111111,\"#46039f\"],[0.2222222222222222,\"#7201a8\"],[0.3333333333333333,\"#9c179e\"],[0.4444444444444444,\"#bd3786\"],[0.5555555555555556,\"#d8576b\"],[0.6666666666666666,\"#ed7953\"],[0.7777777777777778,\"#fb9f3a\"],[0.8888888888888888,\"#fdca26\"],[1.0,\"#f0f921\"]]}],\"mesh3d\":[{\"type\":\"mesh3d\",\"colorbar\":{\"outlinewidth\":0,\"ticks\":\"\"}}],\"scatter\":[{\"fillpattern\":{\"fillmode\":\"overlay\",\"size\":10,\"solidity\":0.2},\"type\":\"scatter\"}],\"parcoords\":[{\"type\":\"parcoords\",\"line\":{\"colorbar\":{\"outlinewidth\":0,\"ticks\":\"\"}}}],\"scatterpolargl\":[{\"type\":\"scatterpolargl\",\"marker\":{\"colorbar\":{\"outlinewidth\":0,\"ticks\":\"\"}}}],\"bar\":[{\"error_x\":{\"color\":\"#2a3f5f\"},\"error_y\":{\"color\":\"#2a3f5f\"},\"marker\":{\"line\":{\"color\":\"#E5ECF6\",\"width\":0.5},\"pattern\":{\"fillmode\":\"overlay\",\"size\":10,\"solidity\":0.2}},\"type\":\"bar\"}],\"scattergeo\":[{\"type\":\"scattergeo\",\"marker\":{\"colorbar\":{\"outlinewidth\":0,\"ticks\":\"\"}}}],\"scatterpolar\":[{\"type\":\"scatterpolar\",\"marker\":{\"colorbar\":{\"outlinewidth\":0,\"ticks\":\"\"}}}],\"histogram\":[{\"marker\":{\"pattern\":{\"fillmode\":\"overlay\",\"size\":10,\"solidity\":0.2}},\"type\":\"histogram\"}],\"scattergl\":[{\"type\":\"scattergl\",\"marker\":{\"colorbar\":{\"outlinewidth\":0,\"ticks\":\"\"}}}],\"scatter3d\":[{\"type\":\"scatter3d\",\"line\":{\"colorbar\":{\"outlinewidth\":0,\"ticks\":\"\"}},\"marker\":{\"colorbar\":{\"outlinewidth\":0,\"ticks\":\"\"}}}],\"scattermapbox\":[{\"type\":\"scattermapbox\",\"marker\":{\"colorbar\":{\"outlinewidth\":0,\"ticks\":\"\"}}}],\"scatterternary\":[{\"type\":\"scatterternary\",\"marker\":{\"colorbar\":{\"outlinewidth\":0,\"ticks\":\"\"}}}],\"scattercarpet\":[{\"type\":\"scattercarpet\",\"marker\":{\"colorbar\":{\"outlinewidth\":0,\"ticks\":\"\"}}}],\"carpet\":[{\"aaxis\":{\"endlinecolor\":\"#2a3f5f\",\"gridcolor\":\"white\",\"linecolor\":\"white\",\"minorgridcolor\":\"white\",\"startlinecolor\":\"#2a3f5f\"},\"baxis\":{\"endlinecolor\":\"#2a3f5f\",\"gridcolor\":\"white\",\"linecolor\":\"white\",\"minorgridcolor\":\"white\",\"startlinecolor\":\"#2a3f5f\"},\"type\":\"carpet\"}],\"table\":[{\"cells\":{\"fill\":{\"color\":\"#EBF0F8\"},\"line\":{\"color\":\"white\"}},\"header\":{\"fill\":{\"color\":\"#C8D4E3\"},\"line\":{\"color\":\"white\"}},\"type\":\"table\"}],\"barpolar\":[{\"marker\":{\"line\":{\"color\":\"#E5ECF6\",\"width\":0.5},\"pattern\":{\"fillmode\":\"overlay\",\"size\":10,\"solidity\":0.2}},\"type\":\"barpolar\"}],\"pie\":[{\"automargin\":true,\"type\":\"pie\"}]},\"layout\":{\"autotypenumbers\":\"strict\",\"colorway\":[\"#636efa\",\"#EF553B\",\"#00cc96\",\"#ab63fa\",\"#FFA15A\",\"#19d3f3\",\"#FF6692\",\"#B6E880\",\"#FF97FF\",\"#FECB52\"],\"font\":{\"color\":\"#2a3f5f\"},\"hovermode\":\"closest\",\"hoverlabel\":{\"align\":\"left\"},\"paper_bgcolor\":\"white\",\"plot_bgcolor\":\"#E5ECF6\",\"polar\":{\"bgcolor\":\"#E5ECF6\",\"angularaxis\":{\"gridcolor\":\"white\",\"linecolor\":\"white\",\"ticks\":\"\"},\"radialaxis\":{\"gridcolor\":\"white\",\"linecolor\":\"white\",\"ticks\":\"\"}},\"ternary\":{\"bgcolor\":\"#E5ECF6\",\"aaxis\":{\"gridcolor\":\"white\",\"linecolor\":\"white\",\"ticks\":\"\"},\"baxis\":{\"gridcolor\":\"white\",\"linecolor\":\"white\",\"ticks\":\"\"},\"caxis\":{\"gridcolor\":\"white\",\"linecolor\":\"white\",\"ticks\":\"\"}},\"coloraxis\":{\"colorbar\":{\"outlinewidth\":0,\"ticks\":\"\"}},\"colorscale\":{\"sequential\":[[0.0,\"#0d0887\"],[0.1111111111111111,\"#46039f\"],[0.2222222222222222,\"#7201a8\"],[0.3333333333333333,\"#9c179e\"],[0.4444444444444444,\"#bd3786\"],[0.5555555555555556,\"#d8576b\"],[0.6666666666666666,\"#ed7953\"],[0.7777777777777778,\"#fb9f3a\"],[0.8888888888888888,\"#fdca26\"],[1.0,\"#f0f921\"]],\"sequentialminus\":[[0.0,\"#0d0887\"],[0.1111111111111111,\"#46039f\"],[0.2222222222222222,\"#7201a8\"],[0.3333333333333333,\"#9c179e\"],[0.4444444444444444,\"#bd3786\"],[0.5555555555555556,\"#d8576b\"],[0.6666666666666666,\"#ed7953\"],[0.7777777777777778,\"#fb9f3a\"],[0.8888888888888888,\"#fdca26\"],[1.0,\"#f0f921\"]],\"diverging\":[[0,\"#8e0152\"],[0.1,\"#c51b7d\"],[0.2,\"#de77ae\"],[0.3,\"#f1b6da\"],[0.4,\"#fde0ef\"],[0.5,\"#f7f7f7\"],[0.6,\"#e6f5d0\"],[0.7,\"#b8e186\"],[0.8,\"#7fbc41\"],[0.9,\"#4d9221\"],[1,\"#276419\"]]},\"xaxis\":{\"gridcolor\":\"white\",\"linecolor\":\"white\",\"ticks\":\"\",\"title\":{\"standoff\":15},\"zerolinecolor\":\"white\",\"automargin\":true,\"zerolinewidth\":2},\"yaxis\":{\"gridcolor\":\"white\",\"linecolor\":\"white\",\"ticks\":\"\",\"title\":{\"standoff\":15},\"zerolinecolor\":\"white\",\"automargin\":true,\"zerolinewidth\":2},\"scene\":{\"xaxis\":{\"backgroundcolor\":\"#E5ECF6\",\"gridcolor\":\"white\",\"linecolor\":\"white\",\"showbackground\":true,\"ticks\":\"\",\"zerolinecolor\":\"white\",\"gridwidth\":2},\"yaxis\":{\"backgroundcolor\":\"#E5ECF6\",\"gridcolor\":\"white\",\"linecolor\":\"white\",\"showbackground\":true,\"ticks\":\"\",\"zerolinecolor\":\"white\",\"gridwidth\":2},\"zaxis\":{\"backgroundcolor\":\"#E5ECF6\",\"gridcolor\":\"white\",\"linecolor\":\"white\",\"showbackground\":true,\"ticks\":\"\",\"zerolinecolor\":\"white\",\"gridwidth\":2}},\"shapedefaults\":{\"line\":{\"color\":\"#2a3f5f\"}},\"annotationdefaults\":{\"arrowcolor\":\"#2a3f5f\",\"arrowhead\":0,\"arrowwidth\":1},\"geo\":{\"bgcolor\":\"white\",\"landcolor\":\"#E5ECF6\",\"subunitcolor\":\"white\",\"showland\":true,\"showlakes\":true,\"lakecolor\":\"white\"},\"title\":{\"x\":0.05},\"mapbox\":{\"style\":\"light\"}}},\"title\":{\"text\":\"Total Environmental Impact by Age Group\"},\"xaxis\":{\"title\":{\"text\":\"Age Group\"}},\"yaxis\":{\"title\":{\"text\":\"Total Environmental Impact\"}},\"showlegend\":true},                        {\"responsive\": true}                    ).then(function(){\n",
       "                            \n",
       "var gd = document.getElementById('4e1914e9-21e4-4d1e-aa96-4df0e66b2842');\n",
       "var x = new MutationObserver(function (mutations, observer) {{\n",
       "        var display = window.getComputedStyle(gd).display;\n",
       "        if (!display || display === 'none') {{\n",
       "            console.log([gd, 'removed!']);\n",
       "            Plotly.purge(gd);\n",
       "            observer.disconnect();\n",
       "        }}\n",
       "}});\n",
       "\n",
       "// Listen for the removal of the full notebook cells\n",
       "var notebookContainer = gd.closest('#notebook-container');\n",
       "if (notebookContainer) {{\n",
       "    x.observe(notebookContainer, {childList: true});\n",
       "}}\n",
       "\n",
       "// Listen for the clearing of the current output cell\n",
       "var outputEl = gd.closest('.output');\n",
       "if (outputEl) {{\n",
       "    x.observe(outputEl, {childList: true});\n",
       "}}\n",
       "\n",
       "                        })                };                });            </script>        </div>"
      ]
     },
     "metadata": {},
     "output_type": "display_data"
    }
   ],
   "source": [
    "# Group by age group and sum the total impacts\n",
    "age_group_totals = df.groupby('age_group')['total_impact'].sum().reindex(['20-29', '30-39', '40-49', '50-59', '60-69', '70-79'])\n",
    "\n",
    "# Calculate the grand total of all age groups\n",
    "total_sum = age_group_totals.sum()\n",
    "\n",
    "# Prepare data for the waterfall chart\n",
    "x_values = list(age_group_totals.index) + ['Total']\n",
    "y_values = list(age_group_totals) + [total_sum]\n",
    "text_values = [f'{value:,.2f}' for value in y_values]\n",
    "\n",
    "# Define how each bar should be treated ('relative' for changes, 'total' for final sums)\n",
    "measure = ['relative' for _ in age_group_totals] + ['total']\n",
    "\n",
    "# Create the waterfall chart\n",
    "fig = go.Figure(go.Waterfall(\n",
    "    x=x_values,\n",
    "    textposition = \"outside\",\n",
    "    text=text_values,\n",
    "    y=y_values,\n",
    "    measure=measure,\n",
    "    connector = {\"line\":{\"color\":\"rgb(63, 63, 63)\"}},\n",
    "))\n",
    "\n",
    "fig.update_layout(\n",
    "    title='Total Environmental Impact by Age Group',\n",
    "    xaxis_title='Age Group',\n",
    "    yaxis_title='Total Environmental Impact',\n",
    "    showlegend=True\n",
    ")\n",
    "\n",
    "fig.show()\n",
    "\n",
    "# Convert the figure to an HTML div element\n",
    "fig_html = pio.to_html(fig, full_html=False)\n",
    "\n",
    "# Save the HTML to a file or print it\n",
    "# print(fig_html)\n",
    "# You can also write this string to an HTML file if needed\n",
    "with open(\"plot_waterfall_age.html\", \"w\", encoding=\"utf-8\") as file:\n",
    "    file.write(fig_html)"
   ]
  },
  {
   "cell_type": "code",
   "execution_count": 54,
   "metadata": {
    "colab": {
     "base_uri": "https://localhost:8080/",
     "height": 542
    },
    "id": "YYVEf-UbBLQg",
    "outputId": "c56ba073-4164-4d03-eb8e-ef9b6c0cbfe8"
   },
   "outputs": [
    {
     "name": "stderr",
     "output_type": "stream",
     "text": [
      "C:\\Users\\Neeraj\\AppData\\Local\\Temp\\ipykernel_14100\\76160798.py:15: FutureWarning:\n",
      "\n",
      "The default of observed=False is deprecated and will be changed to True in a future version of pandas. Pass observed=False to retain current behavior or observed=True to adopt the future default and silence this warning.\n",
      "\n"
     ]
    },
    {
     "data": {
      "application/vnd.plotly.v1+json": {
       "config": {
        "plotlyServerURL": "https://plot.ly"
       },
       "data": [
        {
         "connector": {
          "line": {
           "color": "rgb(63, 63, 63)"
          }
         },
         "measure": [
          "relative",
          "relative",
          "relative",
          "relative",
          "relative",
          "relative",
          "total"
         ],
         "text": [
          "288,254,352.07",
          "246,649,752.27",
          "227,271,201.39",
          "236,166,458.93",
          "208,128,835.75",
          "191,009,137.64",
          "1,397,479,738.05"
         ],
         "textposition": "outside",
         "type": "waterfall",
         "x": [
          "High Meat",
          "Moderate Meat",
          "Low Meat",
          "Pescatarian",
          "Vegetarian",
          "Vegan",
          "Total"
         ],
         "y": [
          288254352.07166696,
          246649752.26611754,
          227271201.38951695,
          236166458.92966345,
          208128835.7510752,
          191009137.64166337,
          1397479738.0497034
         ]
        }
       ],
       "layout": {
        "autosize": true,
        "showlegend": true,
        "template": {
         "data": {
          "bar": [
           {
            "error_x": {
             "color": "#2a3f5f"
            },
            "error_y": {
             "color": "#2a3f5f"
            },
            "marker": {
             "line": {
              "color": "#E5ECF6",
              "width": 0.5
             },
             "pattern": {
              "fillmode": "overlay",
              "size": 10,
              "solidity": 0.2
             }
            },
            "type": "bar"
           }
          ],
          "barpolar": [
           {
            "marker": {
             "line": {
              "color": "#E5ECF6",
              "width": 0.5
             },
             "pattern": {
              "fillmode": "overlay",
              "size": 10,
              "solidity": 0.2
             }
            },
            "type": "barpolar"
           }
          ],
          "carpet": [
           {
            "aaxis": {
             "endlinecolor": "#2a3f5f",
             "gridcolor": "white",
             "linecolor": "white",
             "minorgridcolor": "white",
             "startlinecolor": "#2a3f5f"
            },
            "baxis": {
             "endlinecolor": "#2a3f5f",
             "gridcolor": "white",
             "linecolor": "white",
             "minorgridcolor": "white",
             "startlinecolor": "#2a3f5f"
            },
            "type": "carpet"
           }
          ],
          "choropleth": [
           {
            "colorbar": {
             "outlinewidth": 0,
             "ticks": ""
            },
            "type": "choropleth"
           }
          ],
          "contour": [
           {
            "colorbar": {
             "outlinewidth": 0,
             "ticks": ""
            },
            "colorscale": [
             [
              0,
              "#0d0887"
             ],
             [
              0.1111111111111111,
              "#46039f"
             ],
             [
              0.2222222222222222,
              "#7201a8"
             ],
             [
              0.3333333333333333,
              "#9c179e"
             ],
             [
              0.4444444444444444,
              "#bd3786"
             ],
             [
              0.5555555555555556,
              "#d8576b"
             ],
             [
              0.6666666666666666,
              "#ed7953"
             ],
             [
              0.7777777777777778,
              "#fb9f3a"
             ],
             [
              0.8888888888888888,
              "#fdca26"
             ],
             [
              1,
              "#f0f921"
             ]
            ],
            "type": "contour"
           }
          ],
          "contourcarpet": [
           {
            "colorbar": {
             "outlinewidth": 0,
             "ticks": ""
            },
            "type": "contourcarpet"
           }
          ],
          "heatmap": [
           {
            "colorbar": {
             "outlinewidth": 0,
             "ticks": ""
            },
            "colorscale": [
             [
              0,
              "#0d0887"
             ],
             [
              0.1111111111111111,
              "#46039f"
             ],
             [
              0.2222222222222222,
              "#7201a8"
             ],
             [
              0.3333333333333333,
              "#9c179e"
             ],
             [
              0.4444444444444444,
              "#bd3786"
             ],
             [
              0.5555555555555556,
              "#d8576b"
             ],
             [
              0.6666666666666666,
              "#ed7953"
             ],
             [
              0.7777777777777778,
              "#fb9f3a"
             ],
             [
              0.8888888888888888,
              "#fdca26"
             ],
             [
              1,
              "#f0f921"
             ]
            ],
            "type": "heatmap"
           }
          ],
          "heatmapgl": [
           {
            "colorbar": {
             "outlinewidth": 0,
             "ticks": ""
            },
            "colorscale": [
             [
              0,
              "#0d0887"
             ],
             [
              0.1111111111111111,
              "#46039f"
             ],
             [
              0.2222222222222222,
              "#7201a8"
             ],
             [
              0.3333333333333333,
              "#9c179e"
             ],
             [
              0.4444444444444444,
              "#bd3786"
             ],
             [
              0.5555555555555556,
              "#d8576b"
             ],
             [
              0.6666666666666666,
              "#ed7953"
             ],
             [
              0.7777777777777778,
              "#fb9f3a"
             ],
             [
              0.8888888888888888,
              "#fdca26"
             ],
             [
              1,
              "#f0f921"
             ]
            ],
            "type": "heatmapgl"
           }
          ],
          "histogram": [
           {
            "marker": {
             "pattern": {
              "fillmode": "overlay",
              "size": 10,
              "solidity": 0.2
             }
            },
            "type": "histogram"
           }
          ],
          "histogram2d": [
           {
            "colorbar": {
             "outlinewidth": 0,
             "ticks": ""
            },
            "colorscale": [
             [
              0,
              "#0d0887"
             ],
             [
              0.1111111111111111,
              "#46039f"
             ],
             [
              0.2222222222222222,
              "#7201a8"
             ],
             [
              0.3333333333333333,
              "#9c179e"
             ],
             [
              0.4444444444444444,
              "#bd3786"
             ],
             [
              0.5555555555555556,
              "#d8576b"
             ],
             [
              0.6666666666666666,
              "#ed7953"
             ],
             [
              0.7777777777777778,
              "#fb9f3a"
             ],
             [
              0.8888888888888888,
              "#fdca26"
             ],
             [
              1,
              "#f0f921"
             ]
            ],
            "type": "histogram2d"
           }
          ],
          "histogram2dcontour": [
           {
            "colorbar": {
             "outlinewidth": 0,
             "ticks": ""
            },
            "colorscale": [
             [
              0,
              "#0d0887"
             ],
             [
              0.1111111111111111,
              "#46039f"
             ],
             [
              0.2222222222222222,
              "#7201a8"
             ],
             [
              0.3333333333333333,
              "#9c179e"
             ],
             [
              0.4444444444444444,
              "#bd3786"
             ],
             [
              0.5555555555555556,
              "#d8576b"
             ],
             [
              0.6666666666666666,
              "#ed7953"
             ],
             [
              0.7777777777777778,
              "#fb9f3a"
             ],
             [
              0.8888888888888888,
              "#fdca26"
             ],
             [
              1,
              "#f0f921"
             ]
            ],
            "type": "histogram2dcontour"
           }
          ],
          "mesh3d": [
           {
            "colorbar": {
             "outlinewidth": 0,
             "ticks": ""
            },
            "type": "mesh3d"
           }
          ],
          "parcoords": [
           {
            "line": {
             "colorbar": {
              "outlinewidth": 0,
              "ticks": ""
             }
            },
            "type": "parcoords"
           }
          ],
          "pie": [
           {
            "automargin": true,
            "type": "pie"
           }
          ],
          "scatter": [
           {
            "fillpattern": {
             "fillmode": "overlay",
             "size": 10,
             "solidity": 0.2
            },
            "type": "scatter"
           }
          ],
          "scatter3d": [
           {
            "line": {
             "colorbar": {
              "outlinewidth": 0,
              "ticks": ""
             }
            },
            "marker": {
             "colorbar": {
              "outlinewidth": 0,
              "ticks": ""
             }
            },
            "type": "scatter3d"
           }
          ],
          "scattercarpet": [
           {
            "marker": {
             "colorbar": {
              "outlinewidth": 0,
              "ticks": ""
             }
            },
            "type": "scattercarpet"
           }
          ],
          "scattergeo": [
           {
            "marker": {
             "colorbar": {
              "outlinewidth": 0,
              "ticks": ""
             }
            },
            "type": "scattergeo"
           }
          ],
          "scattergl": [
           {
            "marker": {
             "colorbar": {
              "outlinewidth": 0,
              "ticks": ""
             }
            },
            "type": "scattergl"
           }
          ],
          "scattermapbox": [
           {
            "marker": {
             "colorbar": {
              "outlinewidth": 0,
              "ticks": ""
             }
            },
            "type": "scattermapbox"
           }
          ],
          "scatterpolar": [
           {
            "marker": {
             "colorbar": {
              "outlinewidth": 0,
              "ticks": ""
             }
            },
            "type": "scatterpolar"
           }
          ],
          "scatterpolargl": [
           {
            "marker": {
             "colorbar": {
              "outlinewidth": 0,
              "ticks": ""
             }
            },
            "type": "scatterpolargl"
           }
          ],
          "scatterternary": [
           {
            "marker": {
             "colorbar": {
              "outlinewidth": 0,
              "ticks": ""
             }
            },
            "type": "scatterternary"
           }
          ],
          "surface": [
           {
            "colorbar": {
             "outlinewidth": 0,
             "ticks": ""
            },
            "colorscale": [
             [
              0,
              "#0d0887"
             ],
             [
              0.1111111111111111,
              "#46039f"
             ],
             [
              0.2222222222222222,
              "#7201a8"
             ],
             [
              0.3333333333333333,
              "#9c179e"
             ],
             [
              0.4444444444444444,
              "#bd3786"
             ],
             [
              0.5555555555555556,
              "#d8576b"
             ],
             [
              0.6666666666666666,
              "#ed7953"
             ],
             [
              0.7777777777777778,
              "#fb9f3a"
             ],
             [
              0.8888888888888888,
              "#fdca26"
             ],
             [
              1,
              "#f0f921"
             ]
            ],
            "type": "surface"
           }
          ],
          "table": [
           {
            "cells": {
             "fill": {
              "color": "#EBF0F8"
             },
             "line": {
              "color": "white"
             }
            },
            "header": {
             "fill": {
              "color": "#C8D4E3"
             },
             "line": {
              "color": "white"
             }
            },
            "type": "table"
           }
          ]
         },
         "layout": {
          "annotationdefaults": {
           "arrowcolor": "#2a3f5f",
           "arrowhead": 0,
           "arrowwidth": 1
          },
          "autotypenumbers": "strict",
          "coloraxis": {
           "colorbar": {
            "outlinewidth": 0,
            "ticks": ""
           }
          },
          "colorscale": {
           "diverging": [
            [
             0,
             "#8e0152"
            ],
            [
             0.1,
             "#c51b7d"
            ],
            [
             0.2,
             "#de77ae"
            ],
            [
             0.3,
             "#f1b6da"
            ],
            [
             0.4,
             "#fde0ef"
            ],
            [
             0.5,
             "#f7f7f7"
            ],
            [
             0.6,
             "#e6f5d0"
            ],
            [
             0.7,
             "#b8e186"
            ],
            [
             0.8,
             "#7fbc41"
            ],
            [
             0.9,
             "#4d9221"
            ],
            [
             1,
             "#276419"
            ]
           ],
           "sequential": [
            [
             0,
             "#0d0887"
            ],
            [
             0.1111111111111111,
             "#46039f"
            ],
            [
             0.2222222222222222,
             "#7201a8"
            ],
            [
             0.3333333333333333,
             "#9c179e"
            ],
            [
             0.4444444444444444,
             "#bd3786"
            ],
            [
             0.5555555555555556,
             "#d8576b"
            ],
            [
             0.6666666666666666,
             "#ed7953"
            ],
            [
             0.7777777777777778,
             "#fb9f3a"
            ],
            [
             0.8888888888888888,
             "#fdca26"
            ],
            [
             1,
             "#f0f921"
            ]
           ],
           "sequentialminus": [
            [
             0,
             "#0d0887"
            ],
            [
             0.1111111111111111,
             "#46039f"
            ],
            [
             0.2222222222222222,
             "#7201a8"
            ],
            [
             0.3333333333333333,
             "#9c179e"
            ],
            [
             0.4444444444444444,
             "#bd3786"
            ],
            [
             0.5555555555555556,
             "#d8576b"
            ],
            [
             0.6666666666666666,
             "#ed7953"
            ],
            [
             0.7777777777777778,
             "#fb9f3a"
            ],
            [
             0.8888888888888888,
             "#fdca26"
            ],
            [
             1,
             "#f0f921"
            ]
           ]
          },
          "colorway": [
           "#636efa",
           "#EF553B",
           "#00cc96",
           "#ab63fa",
           "#FFA15A",
           "#19d3f3",
           "#FF6692",
           "#B6E880",
           "#FF97FF",
           "#FECB52"
          ],
          "font": {
           "color": "#2a3f5f"
          },
          "geo": {
           "bgcolor": "white",
           "lakecolor": "white",
           "landcolor": "#E5ECF6",
           "showlakes": true,
           "showland": true,
           "subunitcolor": "white"
          },
          "hoverlabel": {
           "align": "left"
          },
          "hovermode": "closest",
          "mapbox": {
           "style": "light"
          },
          "paper_bgcolor": "white",
          "plot_bgcolor": "#E5ECF6",
          "polar": {
           "angularaxis": {
            "gridcolor": "white",
            "linecolor": "white",
            "ticks": ""
           },
           "bgcolor": "#E5ECF6",
           "radialaxis": {
            "gridcolor": "white",
            "linecolor": "white",
            "ticks": ""
           }
          },
          "scene": {
           "xaxis": {
            "backgroundcolor": "#E5ECF6",
            "gridcolor": "white",
            "gridwidth": 2,
            "linecolor": "white",
            "showbackground": true,
            "ticks": "",
            "zerolinecolor": "white"
           },
           "yaxis": {
            "backgroundcolor": "#E5ECF6",
            "gridcolor": "white",
            "gridwidth": 2,
            "linecolor": "white",
            "showbackground": true,
            "ticks": "",
            "zerolinecolor": "white"
           },
           "zaxis": {
            "backgroundcolor": "#E5ECF6",
            "gridcolor": "white",
            "gridwidth": 2,
            "linecolor": "white",
            "showbackground": true,
            "ticks": "",
            "zerolinecolor": "white"
           }
          },
          "shapedefaults": {
           "line": {
            "color": "#2a3f5f"
           }
          },
          "ternary": {
           "aaxis": {
            "gridcolor": "white",
            "linecolor": "white",
            "ticks": ""
           },
           "baxis": {
            "gridcolor": "white",
            "linecolor": "white",
            "ticks": ""
           },
           "bgcolor": "#E5ECF6",
           "caxis": {
            "gridcolor": "white",
            "linecolor": "white",
            "ticks": ""
           }
          },
          "title": {
           "x": 0.05
          },
          "xaxis": {
           "automargin": true,
           "gridcolor": "white",
           "linecolor": "white",
           "ticks": "",
           "title": {
            "standoff": 15
           },
           "zerolinecolor": "white",
           "zerolinewidth": 2
          },
          "yaxis": {
           "automargin": true,
           "gridcolor": "white",
           "linecolor": "white",
           "ticks": "",
           "title": {
            "standoff": 15
           },
           "zerolinecolor": "white",
           "zerolinewidth": 2
          }
         }
        },
        "title": {
         "text": "Total Environmental Impact by Diet Group"
        },
        "xaxis": {
         "autorange": true,
         "range": [
          -0.5,
          6.5
         ],
         "title": {
          "text": "Diet Group"
         },
         "type": "category"
        },
        "yaxis": {
         "autorange": true,
         "range": [
          0,
          1471031303.2102141
         ],
         "title": {
          "text": "Total Environmental Impact"
         },
         "type": "linear"
        }
       }
      },
      "image/png": "[encoded data removed]",
      "text/html": [
       "<div>                            <div id=\"a1291789-1220-473e-ac8b-09e2f917ab7d\" class=\"plotly-graph-div\" style=\"height:525px; width:100%;\"></div>            <script type=\"text/javascript\">                require([\"plotly\"], function(Plotly) {                    window.PLOTLYENV=window.PLOTLYENV || {};                                    if (document.getElementById(\"a1291789-1220-473e-ac8b-09e2f917ab7d\")) {                    Plotly.newPlot(                        \"a1291789-1220-473e-ac8b-09e2f917ab7d\",                        [{\"connector\":{\"line\":{\"color\":\"rgb(63, 63, 63)\"}},\"measure\":[\"relative\",\"relative\",\"relative\",\"relative\",\"relative\",\"relative\",\"total\"],\"text\":[\"288,254,352.07\",\"246,649,752.27\",\"227,271,201.39\",\"236,166,458.93\",\"208,128,835.75\",\"191,009,137.64\",\"1,397,479,738.05\"],\"textposition\":\"outside\",\"x\":[\"High Meat\",\"Moderate Meat\",\"Low Meat\",\"Pescatarian\",\"Vegetarian\",\"Vegan\",\"Total\"],\"y\":[288254352.07166696,246649752.26611754,227271201.38951695,236166458.92966345,208128835.7510752,191009137.64166337,1397479738.0497034],\"type\":\"waterfall\"}],                        {\"template\":{\"data\":{\"histogram2dcontour\":[{\"type\":\"histogram2dcontour\",\"colorbar\":{\"outlinewidth\":0,\"ticks\":\"\"},\"colorscale\":[[0.0,\"#0d0887\"],[0.1111111111111111,\"#46039f\"],[0.2222222222222222,\"#7201a8\"],[0.3333333333333333,\"#9c179e\"],[0.4444444444444444,\"#bd3786\"],[0.5555555555555556,\"#d8576b\"],[0.6666666666666666,\"#ed7953\"],[0.7777777777777778,\"#fb9f3a\"],[0.8888888888888888,\"#fdca26\"],[1.0,\"#f0f921\"]]}],\"choropleth\":[{\"type\":\"choropleth\",\"colorbar\":{\"outlinewidth\":0,\"ticks\":\"\"}}],\"histogram2d\":[{\"type\":\"histogram2d\",\"colorbar\":{\"outlinewidth\":0,\"ticks\":\"\"},\"colorscale\":[[0.0,\"#0d0887\"],[0.1111111111111111,\"#46039f\"],[0.2222222222222222,\"#7201a8\"],[0.3333333333333333,\"#9c179e\"],[0.4444444444444444,\"#bd3786\"],[0.5555555555555556,\"#d8576b\"],[0.6666666666666666,\"#ed7953\"],[0.7777777777777778,\"#fb9f3a\"],[0.8888888888888888,\"#fdca26\"],[1.0,\"#f0f921\"]]}],\"heatmap\":[{\"type\":\"heatmap\",\"colorbar\":{\"outlinewidth\":0,\"ticks\":\"\"},\"colorscale\":[[0.0,\"#0d0887\"],[0.1111111111111111,\"#46039f\"],[0.2222222222222222,\"#7201a8\"],[0.3333333333333333,\"#9c179e\"],[0.4444444444444444,\"#bd3786\"],[0.5555555555555556,\"#d8576b\"],[0.6666666666666666,\"#ed7953\"],[0.7777777777777778,\"#fb9f3a\"],[0.8888888888888888,\"#fdca26\"],[1.0,\"#f0f921\"]]}],\"heatmapgl\":[{\"type\":\"heatmapgl\",\"colorbar\":{\"outlinewidth\":0,\"ticks\":\"\"},\"colorscale\":[[0.0,\"#0d0887\"],[0.1111111111111111,\"#46039f\"],[0.2222222222222222,\"#7201a8\"],[0.3333333333333333,\"#9c179e\"],[0.4444444444444444,\"#bd3786\"],[0.5555555555555556,\"#d8576b\"],[0.6666666666666666,\"#ed7953\"],[0.7777777777777778,\"#fb9f3a\"],[0.8888888888888888,\"#fdca26\"],[1.0,\"#f0f921\"]]}],\"contourcarpet\":[{\"type\":\"contourcarpet\",\"colorbar\":{\"outlinewidth\":0,\"ticks\":\"\"}}],\"contour\":[{\"type\":\"contour\",\"colorbar\":{\"outlinewidth\":0,\"ticks\":\"\"},\"colorscale\":[[0.0,\"#0d0887\"],[0.1111111111111111,\"#46039f\"],[0.2222222222222222,\"#7201a8\"],[0.3333333333333333,\"#9c179e\"],[0.4444444444444444,\"#bd3786\"],[0.5555555555555556,\"#d8576b\"],[0.6666666666666666,\"#ed7953\"],[0.7777777777777778,\"#fb9f3a\"],[0.8888888888888888,\"#fdca26\"],[1.0,\"#f0f921\"]]}],\"surface\":[{\"type\":\"surface\",\"colorbar\":{\"outlinewidth\":0,\"ticks\":\"\"},\"colorscale\":[[0.0,\"#0d0887\"],[0.1111111111111111,\"#46039f\"],[0.2222222222222222,\"#7201a8\"],[0.3333333333333333,\"#9c179e\"],[0.4444444444444444,\"#bd3786\"],[0.5555555555555556,\"#d8576b\"],[0.6666666666666666,\"#ed7953\"],[0.7777777777777778,\"#fb9f3a\"],[0.8888888888888888,\"#fdca26\"],[1.0,\"#f0f921\"]]}],\"mesh3d\":[{\"type\":\"mesh3d\",\"colorbar\":{\"outlinewidth\":0,\"ticks\":\"\"}}],\"scatter\":[{\"fillpattern\":{\"fillmode\":\"overlay\",\"size\":10,\"solidity\":0.2},\"type\":\"scatter\"}],\"parcoords\":[{\"type\":\"parcoords\",\"line\":{\"colorbar\":{\"outlinewidth\":0,\"ticks\":\"\"}}}],\"scatterpolargl\":[{\"type\":\"scatterpolargl\",\"marker\":{\"colorbar\":{\"outlinewidth\":0,\"ticks\":\"\"}}}],\"bar\":[{\"error_x\":{\"color\":\"#2a3f5f\"},\"error_y\":{\"color\":\"#2a3f5f\"},\"marker\":{\"line\":{\"color\":\"#E5ECF6\",\"width\":0.5},\"pattern\":{\"fillmode\":\"overlay\",\"size\":10,\"solidity\":0.2}},\"type\":\"bar\"}],\"scattergeo\":[{\"type\":\"scattergeo\",\"marker\":{\"colorbar\":{\"outlinewidth\":0,\"ticks\":\"\"}}}],\"scatterpolar\":[{\"type\":\"scatterpolar\",\"marker\":{\"colorbar\":{\"outlinewidth\":0,\"ticks\":\"\"}}}],\"histogram\":[{\"marker\":{\"pattern\":{\"fillmode\":\"overlay\",\"size\":10,\"solidity\":0.2}},\"type\":\"histogram\"}],\"scattergl\":[{\"type\":\"scattergl\",\"marker\":{\"colorbar\":{\"outlinewidth\":0,\"ticks\":\"\"}}}],\"scatter3d\":[{\"type\":\"scatter3d\",\"line\":{\"colorbar\":{\"outlinewidth\":0,\"ticks\":\"\"}},\"marker\":{\"colorbar\":{\"outlinewidth\":0,\"ticks\":\"\"}}}],\"scattermapbox\":[{\"type\":\"scattermapbox\",\"marker\":{\"colorbar\":{\"outlinewidth\":0,\"ticks\":\"\"}}}],\"scatterternary\":[{\"type\":\"scatterternary\",\"marker\":{\"colorbar\":{\"outlinewidth\":0,\"ticks\":\"\"}}}],\"scattercarpet\":[{\"type\":\"scattercarpet\",\"marker\":{\"colorbar\":{\"outlinewidth\":0,\"ticks\":\"\"}}}],\"carpet\":[{\"aaxis\":{\"endlinecolor\":\"#2a3f5f\",\"gridcolor\":\"white\",\"linecolor\":\"white\",\"minorgridcolor\":\"white\",\"startlinecolor\":\"#2a3f5f\"},\"baxis\":{\"endlinecolor\":\"#2a3f5f\",\"gridcolor\":\"white\",\"linecolor\":\"white\",\"minorgridcolor\":\"white\",\"startlinecolor\":\"#2a3f5f\"},\"type\":\"carpet\"}],\"table\":[{\"cells\":{\"fill\":{\"color\":\"#EBF0F8\"},\"line\":{\"color\":\"white\"}},\"header\":{\"fill\":{\"color\":\"#C8D4E3\"},\"line\":{\"color\":\"white\"}},\"type\":\"table\"}],\"barpolar\":[{\"marker\":{\"line\":{\"color\":\"#E5ECF6\",\"width\":0.5},\"pattern\":{\"fillmode\":\"overlay\",\"size\":10,\"solidity\":0.2}},\"type\":\"barpolar\"}],\"pie\":[{\"automargin\":true,\"type\":\"pie\"}]},\"layout\":{\"autotypenumbers\":\"strict\",\"colorway\":[\"#636efa\",\"#EF553B\",\"#00cc96\",\"#ab63fa\",\"#FFA15A\",\"#19d3f3\",\"#FF6692\",\"#B6E880\",\"#FF97FF\",\"#FECB52\"],\"font\":{\"color\":\"#2a3f5f\"},\"hovermode\":\"closest\",\"hoverlabel\":{\"align\":\"left\"},\"paper_bgcolor\":\"white\",\"plot_bgcolor\":\"#E5ECF6\",\"polar\":{\"bgcolor\":\"#E5ECF6\",\"angularaxis\":{\"gridcolor\":\"white\",\"linecolor\":\"white\",\"ticks\":\"\"},\"radialaxis\":{\"gridcolor\":\"white\",\"linecolor\":\"white\",\"ticks\":\"\"}},\"ternary\":{\"bgcolor\":\"#E5ECF6\",\"aaxis\":{\"gridcolor\":\"white\",\"linecolor\":\"white\",\"ticks\":\"\"},\"baxis\":{\"gridcolor\":\"white\",\"linecolor\":\"white\",\"ticks\":\"\"},\"caxis\":{\"gridcolor\":\"white\",\"linecolor\":\"white\",\"ticks\":\"\"}},\"coloraxis\":{\"colorbar\":{\"outlinewidth\":0,\"ticks\":\"\"}},\"colorscale\":{\"sequential\":[[0.0,\"#0d0887\"],[0.1111111111111111,\"#46039f\"],[0.2222222222222222,\"#7201a8\"],[0.3333333333333333,\"#9c179e\"],[0.4444444444444444,\"#bd3786\"],[0.5555555555555556,\"#d8576b\"],[0.6666666666666666,\"#ed7953\"],[0.7777777777777778,\"#fb9f3a\"],[0.8888888888888888,\"#fdca26\"],[1.0,\"#f0f921\"]],\"sequentialminus\":[[0.0,\"#0d0887\"],[0.1111111111111111,\"#46039f\"],[0.2222222222222222,\"#7201a8\"],[0.3333333333333333,\"#9c179e\"],[0.4444444444444444,\"#bd3786\"],[0.5555555555555556,\"#d8576b\"],[0.6666666666666666,\"#ed7953\"],[0.7777777777777778,\"#fb9f3a\"],[0.8888888888888888,\"#fdca26\"],[1.0,\"#f0f921\"]],\"diverging\":[[0,\"#8e0152\"],[0.1,\"#c51b7d\"],[0.2,\"#de77ae\"],[0.3,\"#f1b6da\"],[0.4,\"#fde0ef\"],[0.5,\"#f7f7f7\"],[0.6,\"#e6f5d0\"],[0.7,\"#b8e186\"],[0.8,\"#7fbc41\"],[0.9,\"#4d9221\"],[1,\"#276419\"]]},\"xaxis\":{\"gridcolor\":\"white\",\"linecolor\":\"white\",\"ticks\":\"\",\"title\":{\"standoff\":15},\"zerolinecolor\":\"white\",\"automargin\":true,\"zerolinewidth\":2},\"yaxis\":{\"gridcolor\":\"white\",\"linecolor\":\"white\",\"ticks\":\"\",\"title\":{\"standoff\":15},\"zerolinecolor\":\"white\",\"automargin\":true,\"zerolinewidth\":2},\"scene\":{\"xaxis\":{\"backgroundcolor\":\"#E5ECF6\",\"gridcolor\":\"white\",\"linecolor\":\"white\",\"showbackground\":true,\"ticks\":\"\",\"zerolinecolor\":\"white\",\"gridwidth\":2},\"yaxis\":{\"backgroundcolor\":\"#E5ECF6\",\"gridcolor\":\"white\",\"linecolor\":\"white\",\"showbackground\":true,\"ticks\":\"\",\"zerolinecolor\":\"white\",\"gridwidth\":2},\"zaxis\":{\"backgroundcolor\":\"#E5ECF6\",\"gridcolor\":\"white\",\"linecolor\":\"white\",\"showbackground\":true,\"ticks\":\"\",\"zerolinecolor\":\"white\",\"gridwidth\":2}},\"shapedefaults\":{\"line\":{\"color\":\"#2a3f5f\"}},\"annotationdefaults\":{\"arrowcolor\":\"#2a3f5f\",\"arrowhead\":0,\"arrowwidth\":1},\"geo\":{\"bgcolor\":\"white\",\"landcolor\":\"#E5ECF6\",\"subunitcolor\":\"white\",\"showland\":true,\"showlakes\":true,\"lakecolor\":\"white\"},\"title\":{\"x\":0.05},\"mapbox\":{\"style\":\"light\"}}},\"title\":{\"text\":\"Total Environmental Impact by Diet Group\"},\"xaxis\":{\"title\":{\"text\":\"Diet Group\"}},\"yaxis\":{\"title\":{\"text\":\"Total Environmental Impact\"}},\"showlegend\":true},                        {\"responsive\": true}                    ).then(function(){\n",
       "                            \n",
       "var gd = document.getElementById('a1291789-1220-473e-ac8b-09e2f917ab7d');\n",
       "var x = new MutationObserver(function (mutations, observer) {{\n",
       "        var display = window.getComputedStyle(gd).display;\n",
       "        if (!display || display === 'none') {{\n",
       "            console.log([gd, 'removed!']);\n",
       "            Plotly.purge(gd);\n",
       "            observer.disconnect();\n",
       "        }}\n",
       "}});\n",
       "\n",
       "// Listen for the removal of the full notebook cells\n",
       "var notebookContainer = gd.closest('#notebook-container');\n",
       "if (notebookContainer) {{\n",
       "    x.observe(notebookContainer, {childList: true});\n",
       "}}\n",
       "\n",
       "// Listen for the clearing of the current output cell\n",
       "var outputEl = gd.closest('.output');\n",
       "if (outputEl) {{\n",
       "    x.observe(outputEl, {childList: true});\n",
       "}}\n",
       "\n",
       "                        })                };                });            </script>        </div>"
      ]
     },
     "metadata": {},
     "output_type": "display_data"
    }
   ],
   "source": [
    "# Rename the values in the 'diet_group' column\n",
    "diet_group_mapping = {\n",
    "    'High Meat Consumption (100+ g/day)':'High Meat',\n",
    "    'Moderate Meat Consumption (50-99 g/day)':'Moderate Meat',\n",
    "    'Low Meat Consumption (<50 g/day)':'Low Meat',\n",
    "    'Pescatarian Diet':'Pescatarian',\n",
    "    'Vegetarian Diet':'Vegetarian',\n",
    "    'Vegan Diet':'Vegan'\n",
    "}\n",
    "\n",
    "\n",
    "df['diet_group'] = df['diet_group'].map(diet_group_mapping)\n",
    "\n",
    "# Group by diet group and sum the total impacts\n",
    "diet_group_totals = df.groupby('diet_group')['total_impact'].sum().reindex(['High Meat', 'Moderate Meat','Low Meat','Pescatarian', 'Vegetarian', 'Vegan'])\n",
    "\n",
    "# diet_group_totals = df.groupby('diet_group')['total_impact'].sum().reindex(['High Meat Consumption (100+ g/day)', 'Moderate Meat Consumption (50-99 g/day)','Low Meat Consumption (<50 g/day)', 'Fish-Based Diet', 'Vegetarian Diet', 'Vegan Diet'\n",
    "# ])\n",
    "\n",
    "\n",
    "# Calculate the grand total of all diet groups\n",
    "total_sum = diet_group_totals.sum()\n",
    "\n",
    "# Prepare data for the waterfall chart\n",
    "x_values = list(diet_group_totals.index) + ['Total']\n",
    "y_values = list(diet_group_totals) + [total_sum]\n",
    "text_values = [f'{value:,.2f}' for value in y_values]\n",
    "\n",
    "# Define how each bar should be treated ('relative' for changes, 'total' for final sums)\n",
    "measure = ['relative' for _ in diet_group_totals] + ['total']\n",
    "\n",
    "# Create the waterfall chart\n",
    "fig = go.Figure(go.Waterfall(\n",
    "    x=x_values,\n",
    "    textposition = \"outside\",\n",
    "    text=text_values,\n",
    "    y=y_values,\n",
    "    measure=measure,\n",
    "    connector = {\"line\":{\"color\":\"rgb(63, 63, 63)\"}},\n",
    "))\n",
    "\n",
    "fig.update_layout(\n",
    "    title='Total Environmental Impact by Diet Group',\n",
    "    xaxis_title='Diet Group',\n",
    "    yaxis_title='Total Environmental Impact',\n",
    "    showlegend=True\n",
    ")\n",
    "\n",
    "fig.show()\n",
    "\n",
    "# Convert the figure to an HTML div element\n",
    "fig_html = pio.to_html(fig, full_html=False)\n",
    "\n",
    "# Save the HTML to a file or print it\n",
    "# print(fig_html)\n",
    "# You can also write this string to an HTML file if needed\n",
    "with open(\"plot_waterfall_diet.html\", \"w\", encoding=\"utf-8\") as file:\n",
    "    file.write(fig_html)"
   ]
  },
  {
   "cell_type": "code",
   "execution_count": null,
   "metadata": {
    "id": "A3sYG_Tzcm2_"
   },
   "outputs": [],
   "source": []
  },
  {
   "cell_type": "code",
   "execution_count": null,
   "metadata": {},
   "outputs": [],
   "source": []
  },
  {
   "cell_type": "code",
   "execution_count": null,
   "metadata": {},
   "outputs": [],
   "source": []
  }
 ],
 "metadata": {
  "colab": {
   "provenance": []
  },
  "kernelspec": {
   "display_name": "Python 3 (ipykernel)",
   "language": "python",
   "name": "python3"
  },
  "language_info": {
   "codemirror_mode": {
    "name": "ipython",
    "version": 3
   },
   "file_extension": ".py",
   "mimetype": "text/x-python",
   "name": "python",
   "nbconvert_exporter": "python",
   "pygments_lexer": "ipython3",
   "version": "3.12.2"
  }
 },
 "nbformat": 4,
 "nbformat_minor": 4
}
